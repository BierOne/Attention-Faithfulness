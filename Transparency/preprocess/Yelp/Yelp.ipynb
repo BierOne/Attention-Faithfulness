{
 "cells": [
  {
   "cell_type": "markdown",
   "metadata": {},
   "source": [
    "## Downloading the Dataset\n",
    "\n",
    "Download and extract the 'yelp_review_full_csv.tar.gz' file from https://drive.google.com/drive/u/0/folders/0Bz8a_Dbh9Qhbfll6bVpmNUtUcFdjYmF2SEpmZUZUcVNiMUw1TWN6RDV3a0JHT3kxLVhVR2M\n",
    "\n",
    "Make sure that 'train.csv' and 'test.csv' files are present in this directory"
   ]
  },
  {
   "cell_type": "code",
   "execution_count": 1,
   "metadata": {},
   "outputs": [],
   "source": [
    "import os\n",
    "\n",
    "assert os.path.exists('train.csv') and os.path.exists('test.csv')"
   ]
  },
  {
   "cell_type": "code",
   "execution_count": 2,
   "metadata": {},
   "outputs": [],
   "source": [
    "!export PYTHONIOENCODING=utf8"
   ]
  },
  {
   "cell_type": "code",
   "execution_count": 3,
   "metadata": {},
   "outputs": [],
   "source": [
    "import nltk\n",
    "import pandas as pd\n",
    "import csv\n",
    "import sys\n",
    "import spacy\n",
    "import re\n",
    "import random\n",
    "import codecs\n",
    "from importlib import reload\n",
    "\n",
    "random.seed(1357)\n",
    "def read_input_file(input_file):\n",
    "    lines = csv.reader(codecs.open(input_file, \"r\", encoding=\"utf-8\"))\n",
    "    lines = list(lines)\n",
    "    random.shuffle(lines)\n",
    "    new_labels = []\n",
    "    new_lines = []\n",
    "#     for label, line in lines:\n",
    "#         if int(label) < 3:\n",
    "#             new_labels.append(\"0\")\n",
    "#             new_lines.append(line)\n",
    "#         elif int(label) > 3:\n",
    "#             new_labels.append(\"1\")\n",
    "#             new_lines.append(line)\n",
    "    for label, line in lines:\n",
    "        new_labels.append(label)\n",
    "        new_lines.append(line)\n",
    "            \n",
    "    print (new_labels[:10], new_lines[:10])\n",
    "    print(len(new_labels), len(new_lines))\n",
    "    return new_labels, new_lines\n",
    "                "
   ]
  },
  {
   "cell_type": "code",
   "execution_count": 4,
   "metadata": {},
   "outputs": [
    {
     "name": "stdout",
     "output_type": "stream",
     "text": [
      "['3', '5', '3', '4', '3', '3', '5', '4', '2', '2'] ['Still looking for that elusive Mexican food joint, so I stopped by here and gave it a try. The salsa was very good, nice flavor with just a right amount of heat...in other words you could taste the salsa.  I ordered a chicken burro which was good, not great.  the chicken didnt seem to be grilled but must have been, no flavor just blah. Prices OK, service very good, tea and water pitcher on table which is great for those refills. Will give it another try.', 'Amazing! I Purple rice makes me healthier.\\\\nI had Las Vegas roll, Crunch California, Oh My God, and Crazy roll. Foods are soooo good! I will revisit there again!', \"The food here was good, but wasn't anything to rave about.\\\\n\\\\nWe started with the fried calamari.  It was served with banana peppers, which I love.  The calamari itself was tender and not rubbery.\\\\n\\\\nWe both went for the chicken parmesan.  My husband loved it, I thought it was just average.  I wasn't in love with the flavor of the sauce, so had to doctor it up with red pepper flakes and parmesan.\\\\n\\\\nThe service was not that great.  Our waitress was pleasant, but never came around.\\\\n\\\\nYou can get a decent meal here, but for the price, you will not be blown away.\", \"If i could give a 3.5 start I would but between a 3 and 4.. I'll lean towards a 4. Prices are reasonable for getting food on the strip... the sandwhich I got was wayyy too salty and don't get me wrong I love salty food.. but apparently even this got my pallet questioning the level of saltiness.. \\\\n\\\\nIt's a good  place to go grab a quick bite.  I'll come back again and give it another go.....\", 'I have to agree to get a service in a separate room is much better...\\\\nI had an express facial... It was nice to lay down in a peaceful room.  It was worth every penny just for that. \\\\nIt was not the best facial, not even close. \\\\nbut for my sanity to leave the craze of the airport for a bit, I will do it again.\\\\n\\\\nMaybe the services will improve?', \"Hmm....I ordered their breakfast crossiant sandwich, and it seriously tasted like I made it at home. Nothing fancy about it. Even their grilled chicken panini ($12) wasn't as great as I would have thought; the bread (I believe it's ciabatta?) was a little too hard for me.\\\\n\\\\nThe gelato was pretty good with a wide selection of choices; I had their pistachio (the best I've had) and lychee (which was mediocre, as it had flavor initially but lost it towards the end). If I was just rating the gelato, I would probably give this place 4 stars...\", 'Great staff.  Love the new menu.  Always friendly.  Like the cigar smoke room .', 'I liked that they offer a variety of vegetarian meals , their food was fresh , i usually like the falafel to come as a small round pieces instead of a big one, other than that i think this place is a good choice to get middle eastern food in oakland !', \"I decided to meet a friend here on a whim for a relaxing Friday night dinner. I was looking for a place close to my house that specifically did a sushi happy hour. I figured this establishment was a good bet based on the reviews. Not so much. I then realized when it comes to sushi in Arizona, I've been steered wrong so many times, which makes me believe most people in Arizona haven't had excellent sushi, on a coast. When you've eaten a lot of sushi, you know quality vs. crap. \\\\n\\\\nThe good thing was this place wasn't the worst sushi I've had, but it definitely was down there on the list. The pieces of fish were huge and disproportionate to the rice, which should be the first red flag. Sushi is small & pricey for a reason. \\\\n\\\\nThe fish was cut haphazardly, the nigiri was three times the size as the rice beneath it. Oh, and the weirdest thing was this strange clear gooey sauce under all the rolls AND nigiri. At first I thought I was tasting something funny with the fish but after asking the waitress, we found they put ponzu sauce on EVERY single roll and under the rice with the nigiri. Now, don't get me wrong, I like ponzu sauce, but not on everything. When I'm ordering a yellowtail roll, I don't want a gooey sweet sauce masking the flavor of the fish and rice. Maybe they were trying to mask the flavor of the fish and rice? Hmmmmm. \\\\n\\\\nI ordered one of the special rolls. It was nothing special. I specifically noticed the tuna on the outside to be too firm and chewy and the spicy tuna on the inside to be way too mushy. It was all a horrible consistency.\\\\n\\\\nThe bill was cheap, $67 for three people and that's with about twice as much fish as we could eat. Would I go back? No. Was it the worst? No, but I'm not a fan of taking risks with sushi.\", 'Service was excellent! Food was not. Coffee was cold and metallic tasting, burgers had a weird taste. Nothing special with everything else we ordered.']\n",
      "650000 650000\n",
      "650000\n"
     ]
    }
   ],
   "source": [
    "labels_train, content_train = read_input_file(\"train.csv\")\n",
    "assert(len(labels_train) == len(content_train))\n",
    "print (len(labels_train))\n",
    "\n",
    "labels_dev, content_dev = labels_train[:7000], content_train[:7000]\n",
    "keys_dev = [\"dev\"]* len(labels_dev)\n",
    "\n",
    "labels_train, content_train = labels_train[7000:], content_train[7000:]\n",
    "keys_train = [\"train\"]*len(labels_train)"
   ]
  },
  {
   "cell_type": "code",
   "execution_count": 5,
   "metadata": {
    "collapsed": true
   },
   "outputs": [
    {
     "name": "stdout",
     "output_type": "stream",
     "text": [
      "['5', '3', '5', '5', '1', '2', '2', '2', '2', '1'] [\"Avec un ami, nous y avons pass\\\\u00e9 une journ\\\\u00e9e de r\\\\u00eave. Le terrain est parfaitement entretenu et il fut tr\\\\u00e8s agr\\\\u00e9able de s'y promener, au travers des diff\\\\u00e9rents jardins.\", 'The food is gonna be what the food is gonna be, you know that.\\\\nSo I judge a FFchain on a few things.\\\\nIs it clean.\\\\nAre they friendly.\\\\nDo they fahqew in the drive thru?\\\\n\\\\nThis Taco Hell scores consistently mediocre on all counts, except that they are quite friendly.\\\\n\\\\nIt is refreshing to pull into the drive thru, and even if there were a line of cars ahead of you, to hear the mechanical voice in the box say, \\\\n\\\\\"Hi, How are you?\\\\\"\\\\n...and then pause for an answer!\\\\n\\\\nThey do it all the time, so must be made to say it, but it always seems sincere.  It catches you off guard at first, but now I have grown to really dig the tone it conveys.  I don\\'t think that the couple of seconds it may delay the order is a big deal at all, compared to the warm fuzzy feelings I get when I respond, \\\\n\\\\\"I\\'m fine. How are you?\\\\\"...and get a genuine response back.\\\\n\\\\nI\\'m not here that often, but more since they demolished the Del Taco across the street to build a CVS freestanding location (good call, since the strip mall CVS in that shopping ctr is gross).\\\\n\\\\nI have noticed that there are several employees that seem to have stuck around and worked here for well over a year, maybe two -- good sign when you\\'re judging a FFchain, since turnover = non-caring employees.\\\\n\\\\nSo in summary:\\\\nIt\\'s clean enough.\\\\nThey\\'re quite friendly.\\\\nThey haven\\'t yet fahq\\'d me in the drive thru.\\\\n\\\\nEdited:\\\\n\\\\nMeh for food.\\\\nYay! I\\'m a fan for friendliness.\\\\n\\\\nAccording to my personal rating system that\\'s much too complicated to show here, this equates to an A-OK overall.', \"If your a fan of Michael Jackson this is a must see. I'm not going to spoil it for anyone but it's a must see. It was a visual orgy of colors stunts and music. Truly an amazing show.\", \"I live in Desert Club apartments and I got one of their promotional cards on my door so I gave them a shot. They were offering a serious discount for their first couple months. I got a Shellac manicure (white tip) and it was PHENOMENAL. I went back again a few weeks later and I am going back again this week :) The place is adorable with really cute chic decorations and it's super clean. This is actually the first Yelp review I have ever written but I felt compelled to do so b/c they were so great! I would recommend them to anyone looking for a great nail place!\", \"Stayed at Ziggurat Suite @ NYNY over Thanksgiving. Service: Although the line was long at the check-in, some of the clerks were just looking into the computer screens and not bothering to help ppl check in faster.   Unit: EVERYTHING in the unit  was very dated: from plumbing to the bed covers. Not even basic toiletries were provided. No tea or coffee pot.  Old bulky TV's taking up lots of space. .. Dual Piano bar was hideous with $25 per person entry.  Wait is extremely long by the elevators,  10 -15 min during check-out time.  Will never stay there again.\", 'Kroger: ruining Frys one transaction at a time. \\\\n\\\\nToday\\'s visit started with a coffee from the deli.  After Jeffrey took my money, I discovered there was only powdered whitener. \\\\\"No problem,\\\\\" I say, \\\\\"it\\'s a supermarket, there\\'s cream in the store.\\\\\"  \\\\\"No, I can\\'t go and get cream from the dairy department,\\\\\" says he, \\\\\"it has to come from the warehouse.\\\\\" \\\\\"May I have my money back?\\\\\" I ask.  \\\\\"No, I\\'m not authorized to give your money back,\\\\\" says he.  \\\\\"Here\\'s your receipt.  You\\'ll have to go to Customer Service.\\\\\"\\\\n\\\\nOn my way to customer service, I stop at the dairy case for an 88\\\\u00a2 carton of milk, believing that Customer Service will see the logic of placing said carton at the Deli counter.  Along the way I am \\\\\"greeted\\\\\" by Kelly, the Store manager.  I explain my strategy for customer service.  \\\\\"We can\\'t do that,\\\\\" he says of the milk, \\\\\"it ends up going bad.\\\\\"  Why is there no cream; why can\\'t the clerk make refunds? I wonder aloud.  \\\\\"There\\'s a problem with the warehouse; ever since Kroeger took charge,\\\\\" seemed to be the mumbled response. \\\\n\\\\nMoral: fry\\'s shoppers be wary--make sure your order is correct before giving over your money.  Or consider Basha\\'s.', \"First buffet, first night. We were hungry and the place was on the empty side. Decent lay out with food all on the perimeter and cafeteria style tables and chairs in the center.\\\\n\\\\nEverything was okay until the end when the staff started watching us like hawks because we wanted to take out 2 bananas and 1 orange.  We're on vacation and we need to be regular. It wasn't like we were going to bag all the shrimp and a stack of prime ribs.\\\\n\\\\nDessert: I love that chocolate mousse. Just pile on the cream too. What? You'll walk it off in vegas. AVOID that peach soup. Do a bit of the sugar free desserts or you'll get diarrhea. \\\\n\\\\nSeafood: Pretty good but don't find those crab legs sprawled out like that appetizing. And why does the sushi guy bring out ONE sushi at a time. Don't they have that rice cranking machine like at Bellagio? I didn't partake in any sushi b/c it looked suspiciously old and rotting sitting there for who knows how long. \\\\n\\\\nDespite my criticism, I had some good food and the coffee was darn good.\", 'first time here was a year ago. went with 2 of my friends, and we ended up going to their walk-up counter because the wait for an inside table was about an hour. we ordered small frozen hot chocolate. \\\\n\\\\ni must say - i wasnt really impressed. it tasted like a chocolate shake with sprinkles. maybe its better if you go inside to order it? i dont know...\\\\n\\\\nsecond time i met some friends in town. they were eating dinner (i didnt eat because i just ate). everything looked really good and portions were pretty decent as well. \\\\n\\\\nthird time we went in was a few weeks ago with my sister and some friends back home. ordered a frozen hot chocolate and a frozen white hot chocolate. i couldnt remember how big they were or how \\\\\"eh\\\\\" they were, but my sisters never been and we were already there. my sister ordered the frozen hot chocolate for two because her and her boyfriend were gonna share it. and it was waaaaaaaaaaay too much frozen hot chocolate! and as rich as it is, you really dont need anymore than a small. \\\\n\\\\nservice was alright - the cashier there was a little slow at ringing in orders/putting the tickets up on the rail. and it seemed they were short staffed or something because the girl making the drinks seemed overwhelmed the whole time we were there. agian, maybe the hype was built up so much i expected a lot?\\\\n\\\\nmaybe i\\'ll come back, stick out the wait and eat inside?', \"mm.. it's okay here!? \\\\njust moving from one state to another and getting situated at home calls for a lot of take-out, so i figured... now's the time to really see what's up with these places that are generally new to the area too... (sort of.)\\\\n\\\\nso, i say....\\\\ntheir are better places for chinese take-out.\", 'They need to hire a receptionist who is willing to give business to their salon and stylist. I just got off the phone with THE WORST receptionist of all time who had no clue on how to run a salon. talking my business elsewhere.']\n",
      "50000 50000\n",
      "50000\n"
     ]
    }
   ],
   "source": [
    "labels_test, content_test = read_input_file(\"test.csv\")\n",
    "keys_test = [\"test\"]*len(labels_test)\n",
    "assert(len(labels_test) == len(content_test))\n",
    "print (len(labels_test))"
   ]
  },
  {
   "cell_type": "code",
   "execution_count": 6,
   "metadata": {},
   "outputs": [],
   "source": [
    "nlp = spacy.load('en', disable=['parser', 'tagger', 'ner'])\n",
    "\n",
    "def tokenize(text) :\n",
    "    #text = \" \".join(text)\n",
    "    text = text.replace(\"-LRB-\", '')\n",
    "    text = text.replace(\"-RRB-\", \" \")\n",
    "    text = text.strip()\n",
    "    tokens = \" \".join([t.text.lower() for t in nlp(text)])\n",
    "    return tokens\n",
    "\n",
    "labels_train = [int(i)-1 for i in labels_train]\n",
    "content_train = [tokenize(i) for i in content_train]\n",
    "\n",
    "\n",
    "labels_test = [int(i)-1 for i in labels_test]\n",
    "content_test = [tokenize(i) for i in content_test]\n",
    "\n",
    "\n",
    "labels_dev = [int(i)-1 for i in labels_dev]\n",
    "content_dev = [tokenize(i) for i in content_dev]\n",
    "\n",
    "# assert(len(labels) == len(content))\n",
    "# print(labels[:3])\n",
    "# print(content[:3])\n"
   ]
  },
  {
   "cell_type": "code",
   "execution_count": 7,
   "metadata": {},
   "outputs": [
    {
     "name": "stdout",
     "output_type": "stream",
     "text": [
      "{0, 1, 2, 3, 4}\n",
      "{0, 1, 2, 3, 4}\n",
      "{0, 1, 2, 3, 4}\n"
     ]
    }
   ],
   "source": [
    "print(set(labels_train))\n",
    "print(set(labels_test))\n",
    "print(set(labels_dev))"
   ]
  },
  {
   "cell_type": "code",
   "execution_count": 9,
   "metadata": {},
   "outputs": [
    {
     "data": {
      "text/plain": [
       "'first of all i have experience of cocktails from all over the world , most of all from ny at   different mixologists bars , like milk and honey for ex.\\\\n\\\\nwe order two cocktails , the bartender or if he like to try to be a mixologist , he made the cocktails in front of us , and two of the ingridients was finsished after half use , for ex the ginger , but he did still make it as nothing has happend.\\\\nhe seamed pretty nervous , perhaps he was on drugs.\\\\n\\\\ncocktails tasted only strong spirits , my grirlfriend could not drink it , i told him that she do nt want it , he asked what she wanted instead ? she wanted red wine instead(cause he could not make cocktails ) , then he went away for 5 minutes , we starred at him and then he just asked like nothing happend \\\\\"hey what do you like to have ? , --ehh ? we just said red wine -ok that will be xx pounds\\\\\"\\\\n\\\\nwe just went away of this stupid guy and place.\\\\n\\\\nthey also charge you 50 pence for pay by card ? ? come on , what s the deal??\\\\n\\\\nif you like to have good cocktails try monteiths or dragonfly instead .'"
      ]
     },
     "execution_count": 9,
     "metadata": {},
     "output_type": "execute_result"
    }
   ],
   "source": [
    "labels = labels_train + labels_dev + labels_test\n",
    "content = content_train + content_dev + content_test\n",
    "keys = keys_train + keys_dev + keys_test\n",
    "\n",
    "content[0]"
   ]
  },
  {
   "cell_type": "code",
   "execution_count": 11,
   "metadata": {},
   "outputs": [],
   "source": [
    "df = pd.DataFrame({'text' : content, 'label' : labels, 'exp_split' : keys})\n",
    "df.to_csv('yelp_dataset.csv', index=False)"
   ]
  },
  {
   "cell_type": "code",
   "execution_count": 12,
   "metadata": {},
   "outputs": [
    {
     "name": "stdout",
     "output_type": "stream",
     "text": [
      "Vocabulary size :  38636\n",
      "Found 23415 words in model out of 38636\n"
     ]
    }
   ],
   "source": [
    "%run \"../preprocess_data_BC.py\" --data_file yelp_dataset.csv --output_file ./vec_yelp.p --word_vectors_type fasttext.simple.300d --min_df 20"
   ]
  },
  {
   "cell_type": "code",
   "execution_count": null,
   "metadata": {},
   "outputs": [],
   "source": []
  },
  {
   "cell_type": "code",
   "execution_count": 2,
   "metadata": {},
   "outputs": [],
   "source": [
    "import pandas as pd\n"
   ]
  },
  {
   "cell_type": "code",
   "execution_count": 4,
   "metadata": {},
   "outputs": [],
   "source": [
    "df = pd.read_csv('yelp_dataset.csv')"
   ]
  },
  {
   "cell_type": "code",
   "execution_count": 6,
   "metadata": {},
   "outputs": [
    {
     "data": {
      "text/html": [
       "<div>\n",
       "<style scoped>\n",
       "    .dataframe tbody tr th:only-of-type {\n",
       "        vertical-align: middle;\n",
       "    }\n",
       "\n",
       "    .dataframe tbody tr th {\n",
       "        vertical-align: top;\n",
       "    }\n",
       "\n",
       "    .dataframe thead th {\n",
       "        text-align: right;\n",
       "    }\n",
       "</style>\n",
       "<table border=\"1\" class=\"dataframe\">\n",
       "  <thead>\n",
       "    <tr style=\"text-align: right;\">\n",
       "      <th></th>\n",
       "      <th>text</th>\n",
       "      <th>label</th>\n",
       "      <th>exp_split</th>\n",
       "    </tr>\n",
       "  </thead>\n",
       "  <tbody>\n",
       "    <tr>\n",
       "      <th>0</th>\n",
       "      <td>first of all i have experience of cocktails fr...</td>\n",
       "      <td>0</td>\n",
       "      <td>train</td>\n",
       "    </tr>\n",
       "    <tr>\n",
       "      <th>1</th>\n",
       "      <td>they have the best mixture of asian fusion foo...</td>\n",
       "      <td>4</td>\n",
       "      <td>train</td>\n",
       "    </tr>\n",
       "    <tr>\n",
       "      <th>2</th>\n",
       "      <td>my husband michael loves it here ....   not on...</td>\n",
       "      <td>3</td>\n",
       "      <td>train</td>\n",
       "    </tr>\n",
       "    <tr>\n",
       "      <th>3</th>\n",
       "      <td>so the hotel is nice and new . the rooms are n...</td>\n",
       "      <td>1</td>\n",
       "      <td>train</td>\n",
       "    </tr>\n",
       "    <tr>\n",
       "      <th>4</th>\n",
       "      <td>this is the second time i 've been to this pla...</td>\n",
       "      <td>4</td>\n",
       "      <td>train</td>\n",
       "    </tr>\n",
       "    <tr>\n",
       "      <th>...</th>\n",
       "      <td>...</td>\n",
       "      <td>...</td>\n",
       "      <td>...</td>\n",
       "    </tr>\n",
       "    <tr>\n",
       "      <th>699995</th>\n",
       "      <td>i could give two stars but one star is more pr...</td>\n",
       "      <td>0</td>\n",
       "      <td>test</td>\n",
       "    </tr>\n",
       "    <tr>\n",
       "      <th>699996</th>\n",
       "      <td>2.5-stars is more than fair ! but i am roundin...</td>\n",
       "      <td>1</td>\n",
       "      <td>test</td>\n",
       "    </tr>\n",
       "    <tr>\n",
       "      <th>699997</th>\n",
       "      <td>we came here for for a pool party on vegas on ...</td>\n",
       "      <td>1</td>\n",
       "      <td>test</td>\n",
       "    </tr>\n",
       "    <tr>\n",
       "      <th>699998</th>\n",
       "      <td>love the vibe , be ready for a heart attack.\\n...</td>\n",
       "      <td>3</td>\n",
       "      <td>test</td>\n",
       "    </tr>\n",
       "    <tr>\n",
       "      <th>699999</th>\n",
       "      <td>i tried this place twice because it was very d...</td>\n",
       "      <td>1</td>\n",
       "      <td>test</td>\n",
       "    </tr>\n",
       "  </tbody>\n",
       "</table>\n",
       "<p>700000 rows × 3 columns</p>\n",
       "</div>"
      ],
      "text/plain": [
       "                                                     text  label exp_split\n",
       "0       first of all i have experience of cocktails fr...      0     train\n",
       "1       they have the best mixture of asian fusion foo...      4     train\n",
       "2       my husband michael loves it here ....   not on...      3     train\n",
       "3       so the hotel is nice and new . the rooms are n...      1     train\n",
       "4       this is the second time i 've been to this pla...      4     train\n",
       "...                                                   ...    ...       ...\n",
       "699995  i could give two stars but one star is more pr...      0      test\n",
       "699996  2.5-stars is more than fair ! but i am roundin...      1      test\n",
       "699997  we came here for for a pool party on vegas on ...      1      test\n",
       "699998  love the vibe , be ready for a heart attack.\\n...      3      test\n",
       "699999  i tried this place twice because it was very d...      1      test\n",
       "\n",
       "[700000 rows x 3 columns]"
      ]
     },
     "execution_count": 6,
     "metadata": {},
     "output_type": "execute_result"
    }
   ],
   "source": []
  },
  {
   "cell_type": "code",
   "execution_count": null,
   "metadata": {},
   "outputs": [],
   "source": []
  }
 ],
 "metadata": {
  "kernelspec": {
   "display_name": "Python 3 (ipykernel)",
   "language": "python",
   "name": "python3"
  },
  "language_info": {
   "codemirror_mode": {
    "name": "ipython",
    "version": 3
   },
   "file_extension": ".py",
   "mimetype": "text/x-python",
   "name": "python",
   "nbconvert_exporter": "python",
   "pygments_lexer": "ipython3",
   "version": "3.8.11"
  }
 },
 "nbformat": 4,
 "nbformat_minor": 4
}
