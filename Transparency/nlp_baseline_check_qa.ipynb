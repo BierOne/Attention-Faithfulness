{
 "cells": [
  {
   "cell_type": "code",
   "execution_count": 1,
   "metadata": {},
   "outputs": [],
   "source": [
    "import argparse, os\n",
    "import torch\n",
    "import numpy as np\n",
    "\n",
    "import os, h5py, json\n",
    "from tqdm import tqdm\n",
    "from PIL import Image\n",
    "\n",
    "from skimage import transform, io, img_as_float\n",
    "import torchvision.transforms as transforms\n",
    "import numpy as np\n",
    "\n",
    "import matplotlib.image as mpimg\n",
    "import matplotlib.pyplot as plt"
   ]
  },
  {
   "cell_type": "code",
   "execution_count": null,
   "metadata": {},
   "outputs": [],
   "source": [
    "from Transparency.Trainers.DatasetQA import *\n",
    "from Transparency.ExperimentsQA import *\n",
    "from Transparency.common_code.common import *\n",
    "from Transparency.Trainers.PlottingQA import generate_graphs\n",
    "from Transparency.configurations import configurations_qa\n",
    "from Transparency.Trainers.TrainerQA import Trainer, Evaluator\n",
    "\n",
    "task = \"qa\"\n",
    "torch.backends.cudnn.enabled = False"
   ]
  },
  {
   "cell_type": "code",
   "execution_count": 2,
   "metadata": {},
   "outputs": [],
   "source": [
    "parser = argparse.ArgumentParser()\n",
    "parser.add_argument('--dataset', type=str)\n",
    "parser.add_argument(\"--data_dir\", type=str)\n",
    "parser.add_argument(\"--output_dir\", type=str)\n",
    "parser.add_argument('--encoder', type=str, choices=['cnn', 'lstm', 'average', 'all'])\n",
    "parser.add_argument('--attention', type=str, choices=['tanh', 'dot', 'all'])\n",
    "parser.add_argument(\"--gpu\", type=str, default='2')\n",
    "args, extras = parser.parse_known_args(args=[])\n",
    "args.extras = extras\n",
    "\n",
    "\n",
    "args.gpu = '0'\n",
    "args.output_dir = 'outputs/qa'\n",
    "args.data_dir = './'\n",
    "\n",
    "args.batch_size = 256\n",
    "\n",
    "\n",
    "os.environ[\"CUDA_VISIBLE_DEVICES\"] = args.gpu"
   ]
  },
  {
   "cell_type": "code",
   "execution_count": 38,
   "metadata": {},
   "outputs": [
    {
     "name": "stderr",
     "output_type": "stream",
     "text": [
      "/home/lyb/.conda/envs/python3/lib/python3.8/site-packages/sklearn/base.py:310: UserWarning: Trying to unpickle estimator CountVectorizer from version 1.0.1 when using version 0.24.2. This might lead to breaking code or invalid results. Use at your own risk.\n",
      "  warnings.warn(\n",
      "INFO - 2022-01-20 11:31:22,584 - type = cnn\n",
      "INFO - 2022-01-20 11:31:22,585 - vocab_size = 24\n",
      "INFO - 2022-01-20 11:31:22,586 - embed_size = 50\n",
      "INFO - 2022-01-20 11:31:22,587 - hidden_size = 8\n",
      "INFO - 2022-01-20 11:31:22,588 - kernel_sizes = [1, 3, 5, 7]\n",
      "INFO - 2022-01-20 11:31:22,588 - activation = relu\n",
      "INFO - 2022-01-20 11:31:22,589 - type = relu\n",
      "INFO - 2022-01-20 11:31:22,590 - type = relu\n",
      "INFO - 2022-01-20 11:31:22,591 - pre_embed = None\n",
      "INFO - 2022-01-20 11:31:22,594 - type = cnn\n",
      "INFO - 2022-01-20 11:31:22,595 - vocab_size = 24\n",
      "INFO - 2022-01-20 11:31:22,596 - embed_size = 50\n",
      "INFO - 2022-01-20 11:31:22,597 - hidden_size = 8\n",
      "INFO - 2022-01-20 11:31:22,597 - kernel_sizes = [1, 3, 5, 7]\n",
      "INFO - 2022-01-20 11:31:22,598 - activation = relu\n",
      "INFO - 2022-01-20 11:31:22,599 - type = relu\n",
      "INFO - 2022-01-20 11:31:22,599 - type = relu\n",
      "INFO - 2022-01-20 11:31:22,600 - pre_embed = None\n",
      "INFO - 2022-01-20 11:31:22,604 - hidden_size = 32\n",
      "INFO - 2022-01-20 11:31:22,605 - attention.type = dot_qa\n",
      "INFO - 2022-01-20 11:31:22,605 - attention.type = dot_qa\n",
      "INFO - 2022-01-20 11:31:22,606 - output_size = 36\n",
      "INFO - 2022-01-20 11:31:22,606 - use_attention = True\n",
      "INFO - 2022-01-20 11:31:22,607 - regularizer_attention = None\n",
      "INFO - 2022-01-20 11:31:22,609 - type = dot_qa\n",
      "INFO - 2022-01-20 11:31:22,610 - hidden_size = 32\n"
     ]
    },
    {
     "name": "stdout",
     "output_type": "stream",
     "text": [
      "{'vocab_size': 24, 'embed_size': 50, 'train_size': [('Overall', 8500)], 'test_size': [('Overall', 1000)], 'min_length': 11, 'max_length': 67, 'mean_length': 36.30764705882353, 'std_length': 17.60362430243599}\n",
      "#################### dataset:babi_1, model:cnn_dot, exp_type:att*grad  ####################\n",
      "replace_func:slice_out, metric:Violation\n",
      "/home/lyb/Transparency/data/qa/cnn_dot/att*grad\n",
      "Violation mask size must be 1\n"
     ]
    },
    {
     "name": "stderr",
     "output_type": "stream",
     "text": [
      "100%|██████████| 4/4 [00:02<00:00,  1.65it/s]\n"
     ]
    },
    {
     "name": "stdout",
     "output_type": "stream",
     "text": [
      "save Violation_slice_out.pkl perturbation scores to /home/lyb/Transparency/data/qa/cnn_dot/att*grad\n",
      "num. of violators: 142, ratio:14.20%\n",
      "replace_func:zeros_mask, metric:Violation\n",
      "/home/lyb/Transparency/data/qa/cnn_dot/att*grad\n",
      "load exp scores from outputs/qa/babi_1/cnn(1,3,5,7)+dot/Mon_Jan_17_22:19:26_2022/att*grad_bz256.pkl\n",
      "Violation mask size must be 1\n"
     ]
    },
    {
     "name": "stderr",
     "output_type": "stream",
     "text": [
      "100%|██████████| 4/4 [00:02<00:00,  1.74it/s]\n"
     ]
    },
    {
     "name": "stdout",
     "output_type": "stream",
     "text": [
      "save Violation_zeros_mask.pkl perturbation scores to /home/lyb/Transparency/data/qa/cnn_dot/att*grad\n",
      "num. of violators: 80, ratio:8.00%\n",
      "replace_func:att_mask, metric:Violation\n",
      "/home/lyb/Transparency/data/qa/cnn_dot/att*grad\n",
      "load exp scores from outputs/qa/babi_1/cnn(1,3,5,7)+dot/Mon_Jan_17_22:19:26_2022/att*grad_bz256.pkl\n",
      "Violation mask size must be 1\n"
     ]
    },
    {
     "name": "stderr",
     "output_type": "stream",
     "text": [
      "100%|██████████| 4/4 [00:02<00:00,  1.75it/s]\n"
     ]
    },
    {
     "name": "stdout",
     "output_type": "stream",
     "text": [
      "save Violation_att_mask.pkl perturbation scores to /home/lyb/Transparency/data/qa/cnn_dot/att*grad\n",
      "num. of violators: 84, ratio:8.40%\n",
      "replace_func:slice_out, metric:RC\n",
      "/home/lyb/Transparency/data/qa/cnn_dot/att*grad\n",
      "load exp scores from outputs/qa/babi_1/cnn(1,3,5,7)+dot/Mon_Jan_17_22:19:26_2022/att*grad_bz256.pkl\n"
     ]
    },
    {
     "name": "stderr",
     "output_type": "stream",
     "text": [
      "100%|██████████| 4/4 [00:02<00:00,  1.74it/s]\n"
     ]
    },
    {
     "name": "stdout",
     "output_type": "stream",
     "text": [
      "save RC_slice_out.pkl perturbation scores to /home/lyb/Transparency/data/qa/cnn_dot/att*grad\n",
      " rcc:0.4653516411781311\n",
      "replace_func:zeros_mask, metric:RC\n",
      "/home/lyb/Transparency/data/qa/cnn_dot/att*grad\n",
      "load exp scores from outputs/qa/babi_1/cnn(1,3,5,7)+dot/Mon_Jan_17_22:19:26_2022/att*grad_bz256.pkl\n"
     ]
    },
    {
     "name": "stderr",
     "output_type": "stream",
     "text": [
      "100%|██████████| 4/4 [00:02<00:00,  1.73it/s]\n"
     ]
    },
    {
     "name": "stdout",
     "output_type": "stream",
     "text": [
      "save RC_zeros_mask.pkl perturbation scores to /home/lyb/Transparency/data/qa/cnn_dot/att*grad\n",
      " rcc:0.49023622274398804\n",
      "replace_func:att_mask, metric:RC\n",
      "/home/lyb/Transparency/data/qa/cnn_dot/att*grad\n",
      "load exp scores from outputs/qa/babi_1/cnn(1,3,5,7)+dot/Mon_Jan_17_22:19:26_2022/att*grad_bz256.pkl\n"
     ]
    },
    {
     "name": "stderr",
     "output_type": "stream",
     "text": [
      "100%|██████████| 4/4 [00:02<00:00,  1.73it/s]\n"
     ]
    },
    {
     "name": "stdout",
     "output_type": "stream",
     "text": [
      "save RC_att_mask.pkl perturbation scores to /home/lyb/Transparency/data/qa/cnn_dot/att*grad\n",
      " rcc:0.814170241355896\n",
      "replace_func:slice_out, metric:AUCTP\n",
      "/home/lyb/Transparency/data/qa/cnn_dot/att*grad\n",
      "load exp scores from outputs/qa/babi_1/cnn(1,3,5,7)+dot/Mon_Jan_17_22:19:26_2022/att*grad_bz256.pkl\n"
     ]
    },
    {
     "name": "stderr",
     "output_type": "stream",
     "text": [
      "100%|██████████| 4/4 [00:01<00:00,  2.06it/s]\n"
     ]
    },
    {
     "name": "stdout",
     "output_type": "stream",
     "text": [
      "save AUCTP_slice_out.pkl perturbation scores to /home/lyb/Transparency/data/qa/cnn_dot/att*grad\n",
      "[0.05 0.1  0.2  0.5 ]\n",
      "{'Comprehensiveness': 0.6241558790206909, 'AUCTP': 0.251375}\n",
      "[0.   0.05 0.1  0.2  0.3  0.4  0.5  0.6  0.7  0.8  0.9 ] [0.889, 0.515, 0.396, 0.248, 0.207, 0.24, 0.231, 0.231, 0.225, 0.233, 0.244]\n",
      "replace_func:zeros_mask, metric:AUCTP\n",
      "/home/lyb/Transparency/data/qa/cnn_dot/att*grad\n",
      "load exp scores from outputs/qa/babi_1/cnn(1,3,5,7)+dot/Mon_Jan_17_22:19:26_2022/att*grad_bz256.pkl\n"
     ]
    },
    {
     "name": "stderr",
     "output_type": "stream",
     "text": [
      "100%|██████████| 4/4 [00:01<00:00,  2.01it/s]\n"
     ]
    },
    {
     "name": "stdout",
     "output_type": "stream",
     "text": [
      "save AUCTP_zeros_mask.pkl perturbation scores to /home/lyb/Transparency/data/qa/cnn_dot/att*grad\n",
      "[0.05 0.1  0.2  0.5 ]\n",
      "{'Comprehensiveness': 0.5099382400512695, 'AUCTP': 0.327475}\n",
      "[0.   0.05 0.1  0.2  0.3  0.4  0.5  0.6  0.7  0.8  0.9 ] [0.889, 0.615, 0.514, 0.414, 0.387, 0.347, 0.325, 0.289, 0.256, 0.233, 0.217]\n",
      "replace_func:att_mask, metric:AUCTP\n",
      "/home/lyb/Transparency/data/qa/cnn_dot/att*grad\n",
      "load exp scores from outputs/qa/babi_1/cnn(1,3,5,7)+dot/Mon_Jan_17_22:19:26_2022/att*grad_bz256.pkl\n"
     ]
    },
    {
     "name": "stderr",
     "output_type": "stream",
     "text": [
      "100%|██████████| 4/4 [00:01<00:00,  2.09it/s]\n"
     ]
    },
    {
     "name": "stdout",
     "output_type": "stream",
     "text": [
      "save AUCTP_att_mask.pkl perturbation scores to /home/lyb/Transparency/data/qa/cnn_dot/att*grad\n",
      "[0.05 0.1  0.2  0.5 ]\n",
      "{'Comprehensiveness': 0.6874043941497803, 'AUCTP': 0.23585000000000003}\n",
      "[0.   0.05 0.1  0.2  0.3  0.4  0.5  0.6  0.7  0.8  0.9 ] [0.889, 0.408, 0.327, 0.245, 0.242, 0.222, 0.219, 0.218, 0.216, 0.217, 0.216]\n",
      "replace_func:slice_out, metric:Sufficiency\n",
      "/home/lyb/Transparency/data/qa/cnn_dot/att*grad\n",
      "load exp scores from outputs/qa/babi_1/cnn(1,3,5,7)+dot/Mon_Jan_17_22:19:26_2022/att*grad_bz256.pkl\n"
     ]
    },
    {
     "name": "stderr",
     "output_type": "stream",
     "text": [
      "100%|██████████| 4/4 [00:01<00:00,  3.66it/s]\n"
     ]
    },
    {
     "name": "stdout",
     "output_type": "stream",
     "text": [
      "save Sufficiency_slice_out.pkl perturbation scores to /home/lyb/Transparency/data/qa/cnn_dot/att*grad\n",
      "Calculate Sufficiency for [0.5  0.8  0.9  0.95]\n",
      "replace_func:zeros_mask, metric:Sufficiency\n",
      "/home/lyb/Transparency/data/qa/cnn_dot/att*grad\n",
      "load exp scores from outputs/qa/babi_1/cnn(1,3,5,7)+dot/Mon_Jan_17_22:19:26_2022/att*grad_bz256.pkl\n"
     ]
    },
    {
     "name": "stderr",
     "output_type": "stream",
     "text": [
      "100%|██████████| 4/4 [00:00<00:00,  4.26it/s]\n"
     ]
    },
    {
     "name": "stdout",
     "output_type": "stream",
     "text": [
      "save Sufficiency_zeros_mask.pkl perturbation scores to /home/lyb/Transparency/data/qa/cnn_dot/att*grad\n",
      "Calculate Sufficiency for [0.5  0.8  0.9  0.95]\n",
      "replace_func:att_mask, metric:Sufficiency\n",
      "/home/lyb/Transparency/data/qa/cnn_dot/att*grad\n",
      "load exp scores from outputs/qa/babi_1/cnn(1,3,5,7)+dot/Mon_Jan_17_22:19:26_2022/att*grad_bz256.pkl\n"
     ]
    },
    {
     "name": "stderr",
     "output_type": "stream",
     "text": [
      "100%|██████████| 4/4 [00:00<00:00,  4.49it/s]\n"
     ]
    },
    {
     "name": "stdout",
     "output_type": "stream",
     "text": [
      "save Sufficiency_att_mask.pkl perturbation scores to /home/lyb/Transparency/data/qa/cnn_dot/att*grad\n",
      "Calculate Sufficiency for [0.5  0.8  0.9  0.95]\n",
      "{'AUCTP': 0.2715666666666667, 'Violation': 0.10200000057617824, 'Sufficiency': 0.2622040497759978, 'Comprehensiveness': 1.2143323421478271, 'RC': 0.589919368426005}\n",
      "{'AUCTP': [0.251375, 0.327475, 0.23585000000000003], 'Violation': [0.1420000046491623, 0.07999999821186066, 0.08399999886751175], 'Sufficiency': [0.44964340329170227, 0.39550846815109253, -0.05853972211480141], 'Comprehensiveness': [0.6241558790206909, 0.5099382400512695, 0.6874043941497803, 0.6241558790206909, 0.5099382400512695, 0.6874043941497803], 'RC': [0.4653516411781311, 0.49023622274398804, 0.814170241355896]}\n",
      "#################### dataset:babi_1, model:cnn_dot, exp_type:att  ####################\n",
      "replace_func:slice_out, metric:Violation\n",
      "/home/lyb/Transparency/data/qa/cnn_dot/att\n",
      "Violation mask size must be 1\n"
     ]
    },
    {
     "name": "stderr",
     "output_type": "stream",
     "text": [
      "100%|██████████| 4/4 [00:02<00:00,  1.72it/s]\n"
     ]
    },
    {
     "name": "stdout",
     "output_type": "stream",
     "text": [
      "save Violation_slice_out.pkl perturbation scores to /home/lyb/Transparency/data/qa/cnn_dot/att\n",
      "num. of violators: 197, ratio:19.70%\n",
      "replace_func:zeros_mask, metric:Violation\n",
      "/home/lyb/Transparency/data/qa/cnn_dot/att\n",
      "load exp scores from outputs/qa/babi_1/cnn(1,3,5,7)+dot/Mon_Jan_17_22:19:26_2022/att_bz256.pkl\n",
      "Violation mask size must be 1\n"
     ]
    },
    {
     "name": "stderr",
     "output_type": "stream",
     "text": [
      "100%|██████████| 4/4 [00:02<00:00,  1.76it/s]\n"
     ]
    },
    {
     "name": "stdout",
     "output_type": "stream",
     "text": [
      "save Violation_zeros_mask.pkl perturbation scores to /home/lyb/Transparency/data/qa/cnn_dot/att\n",
      "num. of violators: 222, ratio:22.20%\n",
      "replace_func:att_mask, metric:Violation\n",
      "/home/lyb/Transparency/data/qa/cnn_dot/att\n",
      "load exp scores from outputs/qa/babi_1/cnn(1,3,5,7)+dot/Mon_Jan_17_22:19:26_2022/att_bz256.pkl\n",
      "Violation mask size must be 1\n"
     ]
    },
    {
     "name": "stderr",
     "output_type": "stream",
     "text": [
      "100%|██████████| 4/4 [00:02<00:00,  1.73it/s]\n"
     ]
    },
    {
     "name": "stdout",
     "output_type": "stream",
     "text": [
      "save Violation_att_mask.pkl perturbation scores to /home/lyb/Transparency/data/qa/cnn_dot/att\n",
      "num. of violators: 184, ratio:18.40%\n",
      "replace_func:slice_out, metric:RC\n",
      "/home/lyb/Transparency/data/qa/cnn_dot/att\n",
      "load exp scores from outputs/qa/babi_1/cnn(1,3,5,7)+dot/Mon_Jan_17_22:19:26_2022/att_bz256.pkl\n"
     ]
    },
    {
     "name": "stderr",
     "output_type": "stream",
     "text": [
      "100%|██████████| 4/4 [00:02<00:00,  1.74it/s]\n"
     ]
    },
    {
     "name": "stdout",
     "output_type": "stream",
     "text": [
      "save RC_slice_out.pkl perturbation scores to /home/lyb/Transparency/data/qa/cnn_dot/att\n",
      " rcc:0.4662802219390869\n",
      "replace_func:zeros_mask, metric:RC\n",
      "/home/lyb/Transparency/data/qa/cnn_dot/att\n",
      "load exp scores from outputs/qa/babi_1/cnn(1,3,5,7)+dot/Mon_Jan_17_22:19:26_2022/att_bz256.pkl\n"
     ]
    },
    {
     "name": "stderr",
     "output_type": "stream",
     "text": [
      "100%|██████████| 4/4 [00:02<00:00,  1.74it/s]\n"
     ]
    },
    {
     "name": "stdout",
     "output_type": "stream",
     "text": [
      "save RC_zeros_mask.pkl perturbation scores to /home/lyb/Transparency/data/qa/cnn_dot/att\n",
      " rcc:0.4940055012702942\n",
      "replace_func:att_mask, metric:RC\n",
      "/home/lyb/Transparency/data/qa/cnn_dot/att\n",
      "load exp scores from outputs/qa/babi_1/cnn(1,3,5,7)+dot/Mon_Jan_17_22:19:26_2022/att_bz256.pkl\n"
     ]
    },
    {
     "name": "stderr",
     "output_type": "stream",
     "text": [
      "100%|██████████| 4/4 [00:02<00:00,  1.74it/s]\n"
     ]
    },
    {
     "name": "stdout",
     "output_type": "stream",
     "text": [
      "save RC_att_mask.pkl perturbation scores to /home/lyb/Transparency/data/qa/cnn_dot/att\n",
      " rcc:0.813093364238739\n",
      "replace_func:slice_out, metric:AUCTP\n",
      "/home/lyb/Transparency/data/qa/cnn_dot/att\n",
      "load exp scores from outputs/qa/babi_1/cnn(1,3,5,7)+dot/Mon_Jan_17_22:19:26_2022/att_bz256.pkl\n"
     ]
    },
    {
     "name": "stderr",
     "output_type": "stream",
     "text": [
      "100%|██████████| 4/4 [00:01<00:00,  2.08it/s]\n"
     ]
    },
    {
     "name": "stdout",
     "output_type": "stream",
     "text": [
      "save AUCTP_slice_out.pkl perturbation scores to /home/lyb/Transparency/data/qa/cnn_dot/att\n",
      "[0.05 0.1  0.2  0.5 ]\n",
      "{'Comprehensiveness': 0.4892071485519409, 'AUCTP': 0.31950000000000006}\n",
      "[0.   0.05 0.1  0.2  0.3  0.4  0.5  0.6  0.7  0.8  0.9 ] [0.889, 0.562, 0.479, 0.328, 0.295, 0.33, 0.352, 0.347, 0.31, 0.257, 0.227]\n",
      "replace_func:zeros_mask, metric:AUCTP\n",
      "/home/lyb/Transparency/data/qa/cnn_dot/att\n",
      "load exp scores from outputs/qa/babi_1/cnn(1,3,5,7)+dot/Mon_Jan_17_22:19:26_2022/att_bz256.pkl\n"
     ]
    },
    {
     "name": "stderr",
     "output_type": "stream",
     "text": [
      "100%|██████████| 4/4 [00:01<00:00,  2.10it/s]\n"
     ]
    },
    {
     "name": "stdout",
     "output_type": "stream",
     "text": [
      "save AUCTP_zeros_mask.pkl perturbation scores to /home/lyb/Transparency/data/qa/cnn_dot/att\n",
      "[0.05 0.1  0.2  0.5 ]\n",
      "{'Comprehensiveness': 0.19579893350601196, 'AUCTP': 0.5392250000000001}\n",
      "[0.   0.05 0.1  0.2  0.3  0.4  0.5  0.6  0.7  0.8  0.9 ] [0.889, 0.694, 0.738, 0.777, 0.77, 0.718, 0.621, 0.509, 0.422, 0.325, 0.255]\n",
      "replace_func:att_mask, metric:AUCTP\n",
      "/home/lyb/Transparency/data/qa/cnn_dot/att\n",
      "load exp scores from outputs/qa/babi_1/cnn(1,3,5,7)+dot/Mon_Jan_17_22:19:26_2022/att_bz256.pkl\n"
     ]
    },
    {
     "name": "stderr",
     "output_type": "stream",
     "text": [
      "100%|██████████| 4/4 [00:01<00:00,  2.11it/s]\n"
     ]
    },
    {
     "name": "stdout",
     "output_type": "stream",
     "text": [
      "save AUCTP_att_mask.pkl perturbation scores to /home/lyb/Transparency/data/qa/cnn_dot/att\n",
      "[0.05 0.1  0.2  0.5 ]\n",
      "{'Comprehensiveness': 0.609576404094696, 'AUCTP': 0.2163}\n",
      "[0.   0.05 0.1  0.2  0.3  0.4  0.5  0.6  0.7  0.8  0.9 ] [0.889, 0.427, 0.345, 0.24, 0.213, 0.198, 0.18, 0.191, 0.189, 0.172, 0.171]\n",
      "replace_func:slice_out, metric:Sufficiency\n",
      "/home/lyb/Transparency/data/qa/cnn_dot/att\n",
      "load exp scores from outputs/qa/babi_1/cnn(1,3,5,7)+dot/Mon_Jan_17_22:19:26_2022/att_bz256.pkl\n"
     ]
    },
    {
     "name": "stderr",
     "output_type": "stream",
     "text": [
      "100%|██████████| 4/4 [00:01<00:00,  3.93it/s]\n"
     ]
    },
    {
     "name": "stdout",
     "output_type": "stream",
     "text": [
      "save Sufficiency_slice_out.pkl perturbation scores to /home/lyb/Transparency/data/qa/cnn_dot/att\n",
      "Calculate Sufficiency for [0.5  0.8  0.9  0.95]\n",
      "replace_func:zeros_mask, metric:Sufficiency\n",
      "/home/lyb/Transparency/data/qa/cnn_dot/att\n",
      "load exp scores from outputs/qa/babi_1/cnn(1,3,5,7)+dot/Mon_Jan_17_22:19:26_2022/att_bz256.pkl\n"
     ]
    },
    {
     "name": "stderr",
     "output_type": "stream",
     "text": [
      "100%|██████████| 4/4 [00:00<00:00,  4.63it/s]\n"
     ]
    },
    {
     "name": "stdout",
     "output_type": "stream",
     "text": [
      "save Sufficiency_zeros_mask.pkl perturbation scores to /home/lyb/Transparency/data/qa/cnn_dot/att\n",
      "Calculate Sufficiency for [0.5  0.8  0.9  0.95]\n",
      "replace_func:att_mask, metric:Sufficiency\n",
      "/home/lyb/Transparency/data/qa/cnn_dot/att\n",
      "load exp scores from outputs/qa/babi_1/cnn(1,3,5,7)+dot/Mon_Jan_17_22:19:26_2022/att_bz256.pkl\n"
     ]
    },
    {
     "name": "stderr",
     "output_type": "stream",
     "text": [
      "100%|██████████| 4/4 [00:00<00:00,  4.48it/s]\n"
     ]
    },
    {
     "name": "stdout",
     "output_type": "stream",
     "text": [
      "save Sufficiency_att_mask.pkl perturbation scores to /home/lyb/Transparency/data/qa/cnn_dot/att\n",
      "Calculate Sufficiency for [0.5  0.8  0.9  0.95]\n",
      "{'AUCTP': 0.3583416666666667, 'Violation': 0.20100000003973642, 'Sufficiency': 0.3154436773256748, 'Comprehensiveness': 0.8630549907684326, 'RC': 0.5911263624827067}\n",
      "{'AUCTP': [0.31950000000000006, 0.5392250000000001, 0.2163], 'Violation': [0.19699999690055847, 0.22200000286102295, 0.18400000035762787], 'Sufficiency': [0.4797254204750061, 0.4666483998298645, -4.278832784621045e-05], 'Comprehensiveness': [0.4892071485519409, 0.19579893350601196, 0.609576404094696, 0.4892071485519409, 0.19579893350601196, 0.609576404094696], 'RC': [0.4662802219390869, 0.4940055012702942, 0.813093364238739]}\n",
      "#################### dataset:babi_1, model:cnn_dot, exp_type:ig  ####################\n",
      "replace_func:slice_out, metric:Violation\n",
      "/home/lyb/Transparency/data/qa/cnn_dot/ig\n",
      "Violation mask size must be 1\n"
     ]
    },
    {
     "name": "stderr",
     "output_type": "stream",
     "text": [
      "100%|██████████| 4/4 [00:07<00:00,  1.90s/it]\n"
     ]
    },
    {
     "name": "stdout",
     "output_type": "stream",
     "text": [
      "save Violation_slice_out.pkl perturbation scores to /home/lyb/Transparency/data/qa/cnn_dot/ig\n",
      "num. of violators: 3, ratio:0.30%\n",
      "replace_func:zeros_mask, metric:Violation\n",
      "/home/lyb/Transparency/data/qa/cnn_dot/ig\n",
      "load exp scores from outputs/qa/babi_1/cnn(1,3,5,7)+dot/Mon_Jan_17_22:19:26_2022/ig_bz256.pkl\n",
      "Violation mask size must be 1\n"
     ]
    },
    {
     "name": "stderr",
     "output_type": "stream",
     "text": [
      "100%|██████████| 4/4 [00:02<00:00,  1.80it/s]\n"
     ]
    },
    {
     "name": "stdout",
     "output_type": "stream",
     "text": [
      "save Violation_zeros_mask.pkl perturbation scores to /home/lyb/Transparency/data/qa/cnn_dot/ig\n",
      "num. of violators: 4, ratio:0.40%\n",
      "replace_func:att_mask, metric:Violation\n",
      "/home/lyb/Transparency/data/qa/cnn_dot/ig\n",
      "load exp scores from outputs/qa/babi_1/cnn(1,3,5,7)+dot/Mon_Jan_17_22:19:26_2022/ig_bz256.pkl\n",
      "Violation mask size must be 1\n"
     ]
    },
    {
     "name": "stderr",
     "output_type": "stream",
     "text": [
      "100%|██████████| 4/4 [00:02<00:00,  1.79it/s]\n"
     ]
    },
    {
     "name": "stdout",
     "output_type": "stream",
     "text": [
      "save Violation_att_mask.pkl perturbation scores to /home/lyb/Transparency/data/qa/cnn_dot/ig\n",
      "num. of violators: 186, ratio:18.60%\n",
      "replace_func:slice_out, metric:RC\n",
      "/home/lyb/Transparency/data/qa/cnn_dot/ig\n",
      "load exp scores from outputs/qa/babi_1/cnn(1,3,5,7)+dot/Mon_Jan_17_22:19:26_2022/ig_bz256.pkl\n"
     ]
    },
    {
     "name": "stderr",
     "output_type": "stream",
     "text": [
      "100%|██████████| 4/4 [00:02<00:00,  1.77it/s]\n"
     ]
    },
    {
     "name": "stdout",
     "output_type": "stream",
     "text": [
      "save RC_slice_out.pkl perturbation scores to /home/lyb/Transparency/data/qa/cnn_dot/ig\n",
      " rcc:0.553280234336853\n",
      "replace_func:zeros_mask, metric:RC\n",
      "/home/lyb/Transparency/data/qa/cnn_dot/ig\n",
      "load exp scores from outputs/qa/babi_1/cnn(1,3,5,7)+dot/Mon_Jan_17_22:19:26_2022/ig_bz256.pkl\n"
     ]
    },
    {
     "name": "stderr",
     "output_type": "stream",
     "text": [
      "100%|██████████| 4/4 [00:02<00:00,  1.68it/s]\n"
     ]
    },
    {
     "name": "stdout",
     "output_type": "stream",
     "text": [
      "save RC_zeros_mask.pkl perturbation scores to /home/lyb/Transparency/data/qa/cnn_dot/ig\n",
      " rcc:0.6499834656715393\n",
      "replace_func:att_mask, metric:RC\n",
      "/home/lyb/Transparency/data/qa/cnn_dot/ig\n",
      "load exp scores from outputs/qa/babi_1/cnn(1,3,5,7)+dot/Mon_Jan_17_22:19:26_2022/ig_bz256.pkl\n"
     ]
    },
    {
     "name": "stderr",
     "output_type": "stream",
     "text": [
      "100%|██████████| 4/4 [00:02<00:00,  1.71it/s]\n"
     ]
    },
    {
     "name": "stdout",
     "output_type": "stream",
     "text": [
      "save RC_att_mask.pkl perturbation scores to /home/lyb/Transparency/data/qa/cnn_dot/ig\n",
      " rcc:-0.29131871461868286\n",
      "replace_func:slice_out, metric:AUCTP\n",
      "/home/lyb/Transparency/data/qa/cnn_dot/ig\n",
      "load exp scores from outputs/qa/babi_1/cnn(1,3,5,7)+dot/Mon_Jan_17_22:19:26_2022/ig_bz256.pkl\n"
     ]
    },
    {
     "name": "stderr",
     "output_type": "stream",
     "text": [
      "100%|██████████| 4/4 [00:01<00:00,  2.08it/s]\n"
     ]
    },
    {
     "name": "stdout",
     "output_type": "stream",
     "text": [
      "save AUCTP_slice_out.pkl perturbation scores to /home/lyb/Transparency/data/qa/cnn_dot/ig\n",
      "[0.05 0.1  0.2  0.5 ]\n",
      "{'Comprehensiveness': 0.853417694568634, 'AUCTP': 0.11845}\n",
      "[0.   0.05 0.1  0.2  0.3  0.4  0.5  0.6  0.7  0.8  0.9 ] [0.889, 0.173, 0.143, 0.12, 0.113, 0.106, 0.102, 0.095, 0.091, 0.093, 0.097]\n",
      "replace_func:zeros_mask, metric:AUCTP\n",
      "/home/lyb/Transparency/data/qa/cnn_dot/ig\n",
      "load exp scores from outputs/qa/babi_1/cnn(1,3,5,7)+dot/Mon_Jan_17_22:19:26_2022/ig_bz256.pkl\n"
     ]
    },
    {
     "name": "stderr",
     "output_type": "stream",
     "text": [
      "100%|██████████| 4/4 [00:01<00:00,  2.11it/s]\n"
     ]
    },
    {
     "name": "stdout",
     "output_type": "stream",
     "text": [
      "save AUCTP_zeros_mask.pkl perturbation scores to /home/lyb/Transparency/data/qa/cnn_dot/ig\n",
      "[0.05 0.1  0.2  0.5 ]\n",
      "{'Comprehensiveness': 0.8543567657470703, 'AUCTP': 0.12112500000000001}\n",
      "[0.   0.05 0.1  0.2  0.3  0.4  0.5  0.6  0.7  0.8  0.9 ] [0.889, 0.166, 0.146, 0.124, 0.111, 0.107, 0.103, 0.1, 0.102, 0.1, 0.099]\n",
      "replace_func:att_mask, metric:AUCTP\n",
      "/home/lyb/Transparency/data/qa/cnn_dot/ig\n",
      "load exp scores from outputs/qa/babi_1/cnn(1,3,5,7)+dot/Mon_Jan_17_22:19:26_2022/ig_bz256.pkl\n"
     ]
    },
    {
     "name": "stderr",
     "output_type": "stream",
     "text": [
      "100%|██████████| 4/4 [00:01<00:00,  2.12it/s]\n"
     ]
    },
    {
     "name": "stdout",
     "output_type": "stream",
     "text": [
      "save AUCTP_att_mask.pkl perturbation scores to /home/lyb/Transparency/data/qa/cnn_dot/ig\n",
      "[0.05 0.1  0.2  0.5 ]\n",
      "{'Comprehensiveness': 0.4153217077255249, 'AUCTP': 0.27782500000000004}\n",
      "[0.   0.05 0.1  0.2  0.3  0.4  0.5  0.6  0.7  0.8  0.9 ] [0.889, 0.88, 0.74, 0.413, 0.333, 0.209, 0.151, 0.139, 0.129, 0.124, 0.126]\n",
      "replace_func:slice_out, metric:Sufficiency\n",
      "/home/lyb/Transparency/data/qa/cnn_dot/ig\n",
      "load exp scores from outputs/qa/babi_1/cnn(1,3,5,7)+dot/Mon_Jan_17_22:19:26_2022/ig_bz256.pkl\n"
     ]
    },
    {
     "name": "stderr",
     "output_type": "stream",
     "text": [
      "100%|██████████| 4/4 [00:00<00:00,  4.44it/s]\n"
     ]
    },
    {
     "name": "stdout",
     "output_type": "stream",
     "text": [
      "save Sufficiency_slice_out.pkl perturbation scores to /home/lyb/Transparency/data/qa/cnn_dot/ig\n",
      "Calculate Sufficiency for [0.5  0.8  0.9  0.95]\n",
      "replace_func:zeros_mask, metric:Sufficiency\n",
      "/home/lyb/Transparency/data/qa/cnn_dot/ig\n",
      "load exp scores from outputs/qa/babi_1/cnn(1,3,5,7)+dot/Mon_Jan_17_22:19:26_2022/ig_bz256.pkl\n"
     ]
    },
    {
     "name": "stderr",
     "output_type": "stream",
     "text": [
      "100%|██████████| 4/4 [00:00<00:00,  4.54it/s]\n"
     ]
    },
    {
     "name": "stdout",
     "output_type": "stream",
     "text": [
      "save Sufficiency_zeros_mask.pkl perturbation scores to /home/lyb/Transparency/data/qa/cnn_dot/ig\n",
      "Calculate Sufficiency for [0.5  0.8  0.9  0.95]\n",
      "replace_func:att_mask, metric:Sufficiency\n",
      "/home/lyb/Transparency/data/qa/cnn_dot/ig\n",
      "load exp scores from outputs/qa/babi_1/cnn(1,3,5,7)+dot/Mon_Jan_17_22:19:26_2022/ig_bz256.pkl\n"
     ]
    },
    {
     "name": "stderr",
     "output_type": "stream",
     "text": [
      "100%|██████████| 4/4 [00:00<00:00,  4.84it/s]\n"
     ]
    },
    {
     "name": "stdout",
     "output_type": "stream",
     "text": [
      "save Sufficiency_att_mask.pkl perturbation scores to /home/lyb/Transparency/data/qa/cnn_dot/ig\n",
      "Calculate Sufficiency for [0.5  0.8  0.9  0.95]\n",
      "{'AUCTP': 0.17246666666666668, 'Violation': 0.06433333487560351, 'Sufficiency': -0.09623027592897415, 'Comprehensiveness': 1.4153974453608196, 'RC': 0.3039816617965698}\n",
      "{'AUCTP': [0.11845, 0.12112500000000001, 0.27782500000000004], 'Violation': [0.003000000026077032, 0.004000000189989805, 0.1860000044107437], 'Sufficiency': [-0.09285669773817062, -0.09849302470684052, -0.09734110534191132], 'Comprehensiveness': [0.853417694568634, 0.8543567657470703, 0.4153217077255249, 0.853417694568634, 0.8543567657470703, 0.4153217077255249], 'RC': [0.553280234336853, 0.6499834656715393, -0.29131871461868286]}\n",
      "#################### dataset:babi_1, model:cnn_dot, exp_type:rand  ####################\n",
      "replace_func:slice_out, metric:Violation\n",
      "/home/lyb/Transparency/data/qa/cnn_dot/rand\n",
      "Violation mask size must be 1\n"
     ]
    },
    {
     "name": "stderr",
     "output_type": "stream",
     "text": [
      "100%|██████████| 4/4 [00:02<00:00,  1.75it/s]\n"
     ]
    },
    {
     "name": "stdout",
     "output_type": "stream",
     "text": [
      "save Violation_slice_out.pkl perturbation scores to /home/lyb/Transparency/data/qa/cnn_dot/rand\n",
      "num. of violators: 364, ratio:36.40%\n",
      "replace_func:zeros_mask, metric:Violation\n",
      "/home/lyb/Transparency/data/qa/cnn_dot/rand\n",
      "load exp scores from outputs/qa/babi_1/cnn(1,3,5,7)+dot/Mon_Jan_17_22:19:26_2022/rand_bz256.pkl\n",
      "Violation mask size must be 1\n"
     ]
    },
    {
     "name": "stderr",
     "output_type": "stream",
     "text": [
      "100%|██████████| 4/4 [00:02<00:00,  1.74it/s]\n"
     ]
    },
    {
     "name": "stdout",
     "output_type": "stream",
     "text": [
      "save Violation_zeros_mask.pkl perturbation scores to /home/lyb/Transparency/data/qa/cnn_dot/rand\n",
      "num. of violators: 400, ratio:40.00%\n",
      "replace_func:att_mask, metric:Violation\n",
      "/home/lyb/Transparency/data/qa/cnn_dot/rand\n",
      "load exp scores from outputs/qa/babi_1/cnn(1,3,5,7)+dot/Mon_Jan_17_22:19:26_2022/rand_bz256.pkl\n",
      "Violation mask size must be 1\n"
     ]
    },
    {
     "name": "stderr",
     "output_type": "stream",
     "text": [
      "100%|██████████| 4/4 [00:02<00:00,  1.73it/s]\n"
     ]
    },
    {
     "name": "stdout",
     "output_type": "stream",
     "text": [
      "save Violation_att_mask.pkl perturbation scores to /home/lyb/Transparency/data/qa/cnn_dot/rand\n",
      "num. of violators: 233, ratio:23.30%\n",
      "replace_func:slice_out, metric:RC\n",
      "/home/lyb/Transparency/data/qa/cnn_dot/rand\n",
      "load exp scores from outputs/qa/babi_1/cnn(1,3,5,7)+dot/Mon_Jan_17_22:19:26_2022/rand_bz256.pkl\n"
     ]
    },
    {
     "name": "stderr",
     "output_type": "stream",
     "text": [
      "100%|██████████| 4/4 [00:02<00:00,  1.68it/s]\n"
     ]
    },
    {
     "name": "stdout",
     "output_type": "stream",
     "text": [
      "save RC_slice_out.pkl perturbation scores to /home/lyb/Transparency/data/qa/cnn_dot/rand\n",
      " rcc:-0.07682967931032181\n",
      "replace_func:zeros_mask, metric:RC\n",
      "/home/lyb/Transparency/data/qa/cnn_dot/rand\n",
      "load exp scores from outputs/qa/babi_1/cnn(1,3,5,7)+dot/Mon_Jan_17_22:19:26_2022/rand_bz256.pkl\n"
     ]
    },
    {
     "name": "stderr",
     "output_type": "stream",
     "text": [
      "100%|██████████| 4/4 [00:02<00:00,  1.72it/s]\n"
     ]
    },
    {
     "name": "stdout",
     "output_type": "stream",
     "text": [
      "save RC_zeros_mask.pkl perturbation scores to /home/lyb/Transparency/data/qa/cnn_dot/rand\n",
      " rcc:-0.07441757619380951\n",
      "replace_func:att_mask, metric:RC\n",
      "/home/lyb/Transparency/data/qa/cnn_dot/rand\n",
      "load exp scores from outputs/qa/babi_1/cnn(1,3,5,7)+dot/Mon_Jan_17_22:19:26_2022/rand_bz256.pkl\n"
     ]
    },
    {
     "name": "stderr",
     "output_type": "stream",
     "text": [
      "100%|██████████| 4/4 [00:02<00:00,  1.69it/s]\n"
     ]
    },
    {
     "name": "stdout",
     "output_type": "stream",
     "text": [
      "save RC_att_mask.pkl perturbation scores to /home/lyb/Transparency/data/qa/cnn_dot/rand\n",
      " rcc:-0.36057692766189575\n",
      "replace_func:slice_out, metric:AUCTP\n",
      "/home/lyb/Transparency/data/qa/cnn_dot/rand\n",
      "load exp scores from outputs/qa/babi_1/cnn(1,3,5,7)+dot/Mon_Jan_17_22:19:26_2022/rand_bz256.pkl\n"
     ]
    },
    {
     "name": "stderr",
     "output_type": "stream",
     "text": [
      "100%|██████████| 4/4 [00:01<00:00,  2.06it/s]\n"
     ]
    },
    {
     "name": "stdout",
     "output_type": "stream",
     "text": [
      "save AUCTP_slice_out.pkl perturbation scores to /home/lyb/Transparency/data/qa/cnn_dot/rand\n",
      "[0.05 0.1  0.2  0.5 ]\n",
      "{'Comprehensiveness': 0.24464355409145355, 'AUCTP': 0.45755}\n",
      "[0.   0.05 0.1  0.2  0.3  0.4  0.5  0.6  0.7  0.8  0.9 ] [0.889, 0.813, 0.739, 0.634, 0.555, 0.487, 0.441, 0.386, 0.366, 0.357, 0.333]\n",
      "replace_func:zeros_mask, metric:AUCTP\n",
      "/home/lyb/Transparency/data/qa/cnn_dot/rand\n",
      "load exp scores from outputs/qa/babi_1/cnn(1,3,5,7)+dot/Mon_Jan_17_22:19:26_2022/rand_bz256.pkl\n"
     ]
    },
    {
     "name": "stderr",
     "output_type": "stream",
     "text": [
      "100%|██████████| 4/4 [00:01<00:00,  2.09it/s]\n"
     ]
    },
    {
     "name": "stdout",
     "output_type": "stream",
     "text": [
      "save AUCTP_zeros_mask.pkl perturbation scores to /home/lyb/Transparency/data/qa/cnn_dot/rand\n",
      "[0.05 0.1  0.2  0.5 ]\n",
      "{'Comprehensiveness': 0.20732319355010986, 'AUCTP': 0.49897500000000006}\n",
      "[0.   0.05 0.1  0.2  0.3  0.4  0.5  0.6  0.7  0.8  0.9 ] [0.889, 0.816, 0.764, 0.67, 0.611, 0.553, 0.512, 0.457, 0.421, 0.387, 0.351]\n",
      "replace_func:att_mask, metric:AUCTP\n",
      "/home/lyb/Transparency/data/qa/cnn_dot/rand\n",
      "load exp scores from outputs/qa/babi_1/cnn(1,3,5,7)+dot/Mon_Jan_17_22:19:26_2022/rand_bz256.pkl\n"
     ]
    },
    {
     "name": "stderr",
     "output_type": "stream",
     "text": [
      "100%|██████████| 4/4 [00:01<00:00,  2.12it/s]\n"
     ]
    },
    {
     "name": "stdout",
     "output_type": "stream",
     "text": [
      "save AUCTP_att_mask.pkl perturbation scores to /home/lyb/Transparency/data/qa/cnn_dot/rand\n",
      "[0.05 0.1  0.2  0.5 ]\n",
      "{'Comprehensiveness': 0.0745556652545929, 'AUCTP': 0.6508499999999999}\n",
      "[0.   0.05 0.1  0.2  0.3  0.4  0.5  0.6  0.7  0.8  0.9 ] [0.889, 0.865, 0.851, 0.831, 0.79, 0.727, 0.702, 0.67, 0.632, 0.586, 0.555]\n",
      "replace_func:slice_out, metric:Sufficiency\n",
      "/home/lyb/Transparency/data/qa/cnn_dot/rand\n",
      "load exp scores from outputs/qa/babi_1/cnn(1,3,5,7)+dot/Mon_Jan_17_22:19:26_2022/rand_bz256.pkl\n"
     ]
    },
    {
     "name": "stderr",
     "output_type": "stream",
     "text": [
      "100%|██████████| 4/4 [00:00<00:00,  4.42it/s]\n"
     ]
    },
    {
     "name": "stdout",
     "output_type": "stream",
     "text": [
      "save Sufficiency_slice_out.pkl perturbation scores to /home/lyb/Transparency/data/qa/cnn_dot/rand\n",
      "Calculate Sufficiency for [0.5  0.8  0.9  0.95]\n",
      "replace_func:zeros_mask, metric:Sufficiency\n",
      "/home/lyb/Transparency/data/qa/cnn_dot/rand\n",
      "load exp scores from outputs/qa/babi_1/cnn(1,3,5,7)+dot/Mon_Jan_17_22:19:26_2022/rand_bz256.pkl\n"
     ]
    },
    {
     "name": "stderr",
     "output_type": "stream",
     "text": [
      "100%|██████████| 4/4 [00:00<00:00,  4.60it/s]\n"
     ]
    },
    {
     "name": "stdout",
     "output_type": "stream",
     "text": [
      "save Sufficiency_zeros_mask.pkl perturbation scores to /home/lyb/Transparency/data/qa/cnn_dot/rand\n",
      "Calculate Sufficiency for [0.5  0.8  0.9  0.95]\n",
      "replace_func:att_mask, metric:Sufficiency\n",
      "/home/lyb/Transparency/data/qa/cnn_dot/rand\n",
      "load exp scores from outputs/qa/babi_1/cnn(1,3,5,7)+dot/Mon_Jan_17_22:19:26_2022/rand_bz256.pkl\n"
     ]
    },
    {
     "name": "stderr",
     "output_type": "stream",
     "text": [
      "100%|██████████| 4/4 [00:00<00:00,  4.53it/s]\n"
     ]
    },
    {
     "name": "stdout",
     "output_type": "stream",
     "text": [
      "save Sufficiency_att_mask.pkl perturbation scores to /home/lyb/Transparency/data/qa/cnn_dot/rand\n",
      "Calculate Sufficiency for [0.5  0.8  0.9  0.95]\n",
      "{'AUCTP': 0.5357916666666667, 'Violation': 0.3323333313067754, 'Sufficiency': 0.4740147789319356, 'Comprehensiveness': 0.17550747096538544, 'RC': -0.17060806105534235}\n",
      "{'AUCTP': [0.45755, 0.49897500000000006, 0.6508499999999999], 'Violation': [0.36399999260902405, 0.4000000059604645, 0.2329999953508377], 'Sufficiency': [0.5790602564811707, 0.5258301496505737, 0.3171539306640625], 'Comprehensiveness': [0.24464355409145355, 0.20732319355010986, 0.0745556652545929], 'RC': [-0.07682967931032181, -0.07441757619380951, -0.36057692766189575]}\n",
      "#################### dataset:babi_1, model:cnn_dot, exp_type:input*grad  ####################\n",
      "replace_func:slice_out, metric:Violation\n",
      "/home/lyb/Transparency/data/qa/cnn_dot/input*grad\n",
      "Violation mask size must be 1\n"
     ]
    },
    {
     "name": "stderr",
     "output_type": "stream",
     "text": [
      "100%|██████████| 4/4 [00:02<00:00,  1.61it/s]\n"
     ]
    },
    {
     "name": "stdout",
     "output_type": "stream",
     "text": [
      "save Violation_slice_out.pkl perturbation scores to /home/lyb/Transparency/data/qa/cnn_dot/input*grad\n",
      "num. of violators: 57, ratio:5.70%\n",
      "replace_func:zeros_mask, metric:Violation\n",
      "/home/lyb/Transparency/data/qa/cnn_dot/input*grad\n",
      "load exp scores from outputs/qa/babi_1/cnn(1,3,5,7)+dot/Mon_Jan_17_22:19:26_2022/input*grad_bz256.pkl\n",
      "Violation mask size must be 1\n"
     ]
    },
    {
     "name": "stderr",
     "output_type": "stream",
     "text": [
      "100%|██████████| 4/4 [00:02<00:00,  1.74it/s]\n"
     ]
    },
    {
     "name": "stdout",
     "output_type": "stream",
     "text": [
      "save Violation_zeros_mask.pkl perturbation scores to /home/lyb/Transparency/data/qa/cnn_dot/input*grad\n",
      "num. of violators: 54, ratio:5.40%\n",
      "replace_func:att_mask, metric:Violation\n",
      "/home/lyb/Transparency/data/qa/cnn_dot/input*grad\n",
      "load exp scores from outputs/qa/babi_1/cnn(1,3,5,7)+dot/Mon_Jan_17_22:19:26_2022/input*grad_bz256.pkl\n",
      "Violation mask size must be 1\n"
     ]
    },
    {
     "name": "stderr",
     "output_type": "stream",
     "text": [
      "100%|██████████| 4/4 [00:02<00:00,  1.74it/s]\n"
     ]
    },
    {
     "name": "stdout",
     "output_type": "stream",
     "text": [
      "save Violation_att_mask.pkl perturbation scores to /home/lyb/Transparency/data/qa/cnn_dot/input*grad\n",
      "num. of violators: 179, ratio:17.90%\n",
      "replace_func:slice_out, metric:RC\n",
      "/home/lyb/Transparency/data/qa/cnn_dot/input*grad\n",
      "load exp scores from outputs/qa/babi_1/cnn(1,3,5,7)+dot/Mon_Jan_17_22:19:26_2022/input*grad_bz256.pkl\n"
     ]
    },
    {
     "name": "stderr",
     "output_type": "stream",
     "text": [
      "100%|██████████| 4/4 [00:02<00:00,  1.75it/s]\n"
     ]
    },
    {
     "name": "stdout",
     "output_type": "stream",
     "text": [
      "save RC_slice_out.pkl perturbation scores to /home/lyb/Transparency/data/qa/cnn_dot/input*grad\n",
      " rcc:0.5088680982589722\n",
      "replace_func:zeros_mask, metric:RC\n",
      "/home/lyb/Transparency/data/qa/cnn_dot/input*grad\n",
      "load exp scores from outputs/qa/babi_1/cnn(1,3,5,7)+dot/Mon_Jan_17_22:19:26_2022/input*grad_bz256.pkl\n"
     ]
    },
    {
     "name": "stderr",
     "output_type": "stream",
     "text": [
      "100%|██████████| 4/4 [00:02<00:00,  1.76it/s]\n"
     ]
    },
    {
     "name": "stdout",
     "output_type": "stream",
     "text": [
      "save RC_zeros_mask.pkl perturbation scores to /home/lyb/Transparency/data/qa/cnn_dot/input*grad\n",
      " rcc:0.6241922378540039\n",
      "replace_func:att_mask, metric:RC\n",
      "/home/lyb/Transparency/data/qa/cnn_dot/input*grad\n",
      "load exp scores from outputs/qa/babi_1/cnn(1,3,5,7)+dot/Mon_Jan_17_22:19:26_2022/input*grad_bz256.pkl\n"
     ]
    },
    {
     "name": "stderr",
     "output_type": "stream",
     "text": [
      "100%|██████████| 4/4 [00:02<00:00,  1.73it/s]\n"
     ]
    },
    {
     "name": "stdout",
     "output_type": "stream",
     "text": [
      "save RC_att_mask.pkl perturbation scores to /home/lyb/Transparency/data/qa/cnn_dot/input*grad\n",
      " rcc:-0.25337913632392883\n",
      "replace_func:slice_out, metric:AUCTP\n",
      "/home/lyb/Transparency/data/qa/cnn_dot/input*grad\n",
      "load exp scores from outputs/qa/babi_1/cnn(1,3,5,7)+dot/Mon_Jan_17_22:19:26_2022/input*grad_bz256.pkl\n"
     ]
    },
    {
     "name": "stderr",
     "output_type": "stream",
     "text": [
      "100%|██████████| 4/4 [00:01<00:00,  2.06it/s]\n"
     ]
    },
    {
     "name": "stdout",
     "output_type": "stream",
     "text": [
      "save AUCTP_slice_out.pkl perturbation scores to /home/lyb/Transparency/data/qa/cnn_dot/input*grad\n",
      "[0.05 0.1  0.2  0.5 ]\n",
      "{'Comprehensiveness': 0.8058112859725952, 'AUCTP': 0.15335}\n",
      "[0.   0.05 0.1  0.2  0.3  0.4  0.5  0.6  0.7  0.8  0.9 ] [0.889, 0.241, 0.213, 0.166, 0.138, 0.134, 0.131, 0.134, 0.133, 0.132, 0.126]\n",
      "replace_func:zeros_mask, metric:AUCTP\n",
      "/home/lyb/Transparency/data/qa/cnn_dot/input*grad\n",
      "load exp scores from outputs/qa/babi_1/cnn(1,3,5,7)+dot/Mon_Jan_17_22:19:26_2022/input*grad_bz256.pkl\n"
     ]
    },
    {
     "name": "stderr",
     "output_type": "stream",
     "text": [
      "100%|██████████| 4/4 [00:01<00:00,  2.11it/s]\n"
     ]
    },
    {
     "name": "stdout",
     "output_type": "stream",
     "text": [
      "save AUCTP_zeros_mask.pkl perturbation scores to /home/lyb/Transparency/data/qa/cnn_dot/input*grad\n",
      "[0.05 0.1  0.2  0.5 ]\n",
      "{'Comprehensiveness': 0.7993746995925903, 'AUCTP': 0.16025}\n",
      "[0.   0.05 0.1  0.2  0.3  0.4  0.5  0.6  0.7  0.8  0.9 ] [0.889, 0.242, 0.213, 0.174, 0.153, 0.147, 0.142, 0.14, 0.139, 0.138, 0.133]\n",
      "replace_func:att_mask, metric:AUCTP\n",
      "/home/lyb/Transparency/data/qa/cnn_dot/input*grad\n",
      "load exp scores from outputs/qa/babi_1/cnn(1,3,5,7)+dot/Mon_Jan_17_22:19:26_2022/input*grad_bz256.pkl\n"
     ]
    },
    {
     "name": "stderr",
     "output_type": "stream",
     "text": [
      "100%|██████████| 4/4 [00:01<00:00,  2.14it/s]\n"
     ]
    },
    {
     "name": "stdout",
     "output_type": "stream",
     "text": [
      "save AUCTP_att_mask.pkl perturbation scores to /home/lyb/Transparency/data/qa/cnn_dot/input*grad\n",
      "[0.05 0.1  0.2  0.5 ]\n",
      "{'Comprehensiveness': 0.3960675597190857, 'AUCTP': 0.34822500000000006}\n",
      "[0.   0.05 0.1  0.2  0.3  0.4  0.5  0.6  0.7  0.8  0.9 ] [0.889, 0.869, 0.678, 0.434, 0.356, 0.288, 0.285, 0.277, 0.271, 0.271, 0.27]\n",
      "replace_func:slice_out, metric:Sufficiency\n",
      "/home/lyb/Transparency/data/qa/cnn_dot/input*grad\n",
      "load exp scores from outputs/qa/babi_1/cnn(1,3,5,7)+dot/Mon_Jan_17_22:19:26_2022/input*grad_bz256.pkl\n"
     ]
    },
    {
     "name": "stderr",
     "output_type": "stream",
     "text": [
      "100%|██████████| 4/4 [00:00<00:00,  4.42it/s]\n"
     ]
    },
    {
     "name": "stdout",
     "output_type": "stream",
     "text": [
      "save Sufficiency_slice_out.pkl perturbation scores to /home/lyb/Transparency/data/qa/cnn_dot/input*grad\n",
      "Calculate Sufficiency for [0.5  0.8  0.9  0.95]\n",
      "replace_func:zeros_mask, metric:Sufficiency\n",
      "/home/lyb/Transparency/data/qa/cnn_dot/input*grad\n",
      "load exp scores from outputs/qa/babi_1/cnn(1,3,5,7)+dot/Mon_Jan_17_22:19:26_2022/input*grad_bz256.pkl\n"
     ]
    },
    {
     "name": "stderr",
     "output_type": "stream",
     "text": [
      "100%|██████████| 4/4 [00:00<00:00,  4.67it/s]\n"
     ]
    },
    {
     "name": "stdout",
     "output_type": "stream",
     "text": [
      "save Sufficiency_zeros_mask.pkl perturbation scores to /home/lyb/Transparency/data/qa/cnn_dot/input*grad\n",
      "Calculate Sufficiency for [0.5  0.8  0.9  0.95]\n",
      "replace_func:att_mask, metric:Sufficiency\n",
      "/home/lyb/Transparency/data/qa/cnn_dot/input*grad\n",
      "load exp scores from outputs/qa/babi_1/cnn(1,3,5,7)+dot/Mon_Jan_17_22:19:26_2022/input*grad_bz256.pkl\n"
     ]
    },
    {
     "name": "stderr",
     "output_type": "stream",
     "text": [
      "100%|██████████| 4/4 [00:00<00:00,  4.63it/s]\n"
     ]
    },
    {
     "name": "stdout",
     "output_type": "stream",
     "text": [
      "save Sufficiency_att_mask.pkl perturbation scores to /home/lyb/Transparency/data/qa/cnn_dot/input*grad\n",
      "Calculate Sufficiency for [0.5  0.8  0.9  0.95]\n",
      "{'AUCTP': 0.22060833333333338, 'Violation': 0.0966666688521703, 'Sufficiency': 0.006069366820156574, 'Comprehensiveness': 0.6670845150947571, 'RC': 0.29322706659634906}\n",
      "{'AUCTP': [0.15335, 0.16025, 0.34822500000000006], 'Violation': [0.05700000002980232, 0.05400000140070915, 0.17900000512599945], 'Sufficiency': [0.04395449906587601, 0.009839481674134731, -0.035585880279541016], 'Comprehensiveness': [0.8058112859725952, 0.7993746995925903, 0.3960675597190857], 'RC': [0.5088680982589722, 0.6241922378540039, -0.25337913632392883]}\n",
      "#################### dataset:babi_1, model:cnn_dot, exp_type:att_norm  ####################\n",
      "replace_func:slice_out, metric:Violation\n",
      "/home/lyb/Transparency/data/qa/cnn_dot/att_norm\n",
      "Violation mask size must be 1\n"
     ]
    },
    {
     "name": "stderr",
     "output_type": "stream",
     "text": [
      "100%|██████████| 4/4 [00:02<00:00,  1.75it/s]\n"
     ]
    },
    {
     "name": "stdout",
     "output_type": "stream",
     "text": [
      "save Violation_slice_out.pkl perturbation scores to /home/lyb/Transparency/data/qa/cnn_dot/att_norm\n",
      "num. of violators: 201, ratio:20.10%\n",
      "replace_func:zeros_mask, metric:Violation\n",
      "/home/lyb/Transparency/data/qa/cnn_dot/att_norm\n",
      "load exp scores from outputs/qa/babi_1/cnn(1,3,5,7)+dot/Mon_Jan_17_22:19:26_2022/att_norm_bz256.pkl\n",
      "Violation mask size must be 1\n"
     ]
    },
    {
     "name": "stderr",
     "output_type": "stream",
     "text": [
      "100%|██████████| 4/4 [00:02<00:00,  1.74it/s]\n"
     ]
    },
    {
     "name": "stdout",
     "output_type": "stream",
     "text": [
      "save Violation_zeros_mask.pkl perturbation scores to /home/lyb/Transparency/data/qa/cnn_dot/att_norm\n",
      "num. of violators: 233, ratio:23.30%\n",
      "replace_func:att_mask, metric:Violation\n",
      "/home/lyb/Transparency/data/qa/cnn_dot/att_norm\n",
      "load exp scores from outputs/qa/babi_1/cnn(1,3,5,7)+dot/Mon_Jan_17_22:19:26_2022/att_norm_bz256.pkl\n",
      "Violation mask size must be 1\n"
     ]
    },
    {
     "name": "stderr",
     "output_type": "stream",
     "text": [
      "100%|██████████| 4/4 [00:02<00:00,  1.75it/s]\n"
     ]
    },
    {
     "name": "stdout",
     "output_type": "stream",
     "text": [
      "save Violation_att_mask.pkl perturbation scores to /home/lyb/Transparency/data/qa/cnn_dot/att_norm\n",
      "num. of violators: 191, ratio:19.10%\n",
      "replace_func:slice_out, metric:RC\n",
      "/home/lyb/Transparency/data/qa/cnn_dot/att_norm\n",
      "load exp scores from outputs/qa/babi_1/cnn(1,3,5,7)+dot/Mon_Jan_17_22:19:26_2022/att_norm_bz256.pkl\n"
     ]
    },
    {
     "name": "stderr",
     "output_type": "stream",
     "text": [
      "100%|██████████| 4/4 [00:02<00:00,  1.73it/s]\n"
     ]
    },
    {
     "name": "stdout",
     "output_type": "stream",
     "text": [
      "save RC_slice_out.pkl perturbation scores to /home/lyb/Transparency/data/qa/cnn_dot/att_norm\n",
      " rcc:0.46319228410720825\n",
      "replace_func:zeros_mask, metric:RC\n",
      "/home/lyb/Transparency/data/qa/cnn_dot/att_norm\n",
      "load exp scores from outputs/qa/babi_1/cnn(1,3,5,7)+dot/Mon_Jan_17_22:19:26_2022/att_norm_bz256.pkl\n"
     ]
    },
    {
     "name": "stderr",
     "output_type": "stream",
     "text": [
      "100%|██████████| 4/4 [00:02<00:00,  1.72it/s]\n"
     ]
    },
    {
     "name": "stdout",
     "output_type": "stream",
     "text": [
      "save RC_zeros_mask.pkl perturbation scores to /home/lyb/Transparency/data/qa/cnn_dot/att_norm\n",
      " rcc:0.482461541891098\n",
      "replace_func:att_mask, metric:RC\n",
      "/home/lyb/Transparency/data/qa/cnn_dot/att_norm\n",
      "load exp scores from outputs/qa/babi_1/cnn(1,3,5,7)+dot/Mon_Jan_17_22:19:26_2022/att_norm_bz256.pkl\n"
     ]
    },
    {
     "name": "stderr",
     "output_type": "stream",
     "text": [
      "100%|██████████| 4/4 [00:02<00:00,  1.72it/s]\n"
     ]
    },
    {
     "name": "stdout",
     "output_type": "stream",
     "text": [
      "save RC_att_mask.pkl perturbation scores to /home/lyb/Transparency/data/qa/cnn_dot/att_norm\n",
      " rcc:0.813912034034729\n",
      "replace_func:slice_out, metric:AUCTP\n",
      "/home/lyb/Transparency/data/qa/cnn_dot/att_norm\n",
      "load exp scores from outputs/qa/babi_1/cnn(1,3,5,7)+dot/Mon_Jan_17_22:19:26_2022/att_norm_bz256.pkl\n"
     ]
    },
    {
     "name": "stderr",
     "output_type": "stream",
     "text": [
      "100%|██████████| 4/4 [00:01<00:00,  2.08it/s]\n"
     ]
    },
    {
     "name": "stdout",
     "output_type": "stream",
     "text": [
      "save AUCTP_slice_out.pkl perturbation scores to /home/lyb/Transparency/data/qa/cnn_dot/att_norm\n",
      "[0.05 0.1  0.2  0.5 ]\n",
      "{'Comprehensiveness': 0.48988771438598633, 'AUCTP': 0.3135}\n",
      "[0.   0.05 0.1  0.2  0.3  0.4  0.5  0.6  0.7  0.8  0.9 ] [0.889, 0.549, 0.495, 0.33, 0.293, 0.31, 0.324, 0.323, 0.317, 0.255, 0.23]\n",
      "replace_func:zeros_mask, metric:AUCTP\n",
      "/home/lyb/Transparency/data/qa/cnn_dot/att_norm\n",
      "load exp scores from outputs/qa/babi_1/cnn(1,3,5,7)+dot/Mon_Jan_17_22:19:26_2022/att_norm_bz256.pkl\n"
     ]
    },
    {
     "name": "stderr",
     "output_type": "stream",
     "text": [
      "100%|██████████| 4/4 [00:01<00:00,  2.12it/s]\n"
     ]
    },
    {
     "name": "stdout",
     "output_type": "stream",
     "text": [
      "save AUCTP_zeros_mask.pkl perturbation scores to /home/lyb/Transparency/data/qa/cnn_dot/att_norm\n",
      "[0.05 0.1  0.2  0.5 ]\n",
      "{'Comprehensiveness': 0.1833478957414627, 'AUCTP': 0.5557250000000001}\n",
      "[0.   0.05 0.1  0.2  0.3  0.4  0.5  0.6  0.7  0.8  0.9 ] [0.889, 0.702, 0.768, 0.782, 0.771, 0.74, 0.627, 0.551, 0.455, 0.347, 0.27]\n",
      "replace_func:att_mask, metric:AUCTP\n",
      "/home/lyb/Transparency/data/qa/cnn_dot/att_norm\n",
      "load exp scores from outputs/qa/babi_1/cnn(1,3,5,7)+dot/Mon_Jan_17_22:19:26_2022/att_norm_bz256.pkl\n"
     ]
    },
    {
     "name": "stderr",
     "output_type": "stream",
     "text": [
      "100%|██████████| 4/4 [00:01<00:00,  2.12it/s]\n"
     ]
    },
    {
     "name": "stdout",
     "output_type": "stream",
     "text": [
      "save AUCTP_att_mask.pkl perturbation scores to /home/lyb/Transparency/data/qa/cnn_dot/att_norm\n",
      "[0.05 0.1  0.2  0.5 ]\n",
      "{'Comprehensiveness': 0.6042024493217468, 'AUCTP': 0.213475}\n",
      "[0.   0.05 0.1  0.2  0.3  0.4  0.5  0.6  0.7  0.8  0.9 ] [0.889, 0.432, 0.358, 0.237, 0.217, 0.199, 0.183, 0.174, 0.176, 0.159, 0.166]\n",
      "replace_func:slice_out, metric:Sufficiency\n",
      "/home/lyb/Transparency/data/qa/cnn_dot/att_norm\n",
      "load exp scores from outputs/qa/babi_1/cnn(1,3,5,7)+dot/Mon_Jan_17_22:19:26_2022/att_norm_bz256.pkl\n"
     ]
    },
    {
     "name": "stderr",
     "output_type": "stream",
     "text": [
      "100%|██████████| 4/4 [00:00<00:00,  4.36it/s]\n"
     ]
    },
    {
     "name": "stdout",
     "output_type": "stream",
     "text": [
      "save Sufficiency_slice_out.pkl perturbation scores to /home/lyb/Transparency/data/qa/cnn_dot/att_norm\n",
      "Calculate Sufficiency for [0.5  0.8  0.9  0.95]\n",
      "replace_func:zeros_mask, metric:Sufficiency\n",
      "/home/lyb/Transparency/data/qa/cnn_dot/att_norm\n",
      "load exp scores from outputs/qa/babi_1/cnn(1,3,5,7)+dot/Mon_Jan_17_22:19:26_2022/att_norm_bz256.pkl\n"
     ]
    },
    {
     "name": "stderr",
     "output_type": "stream",
     "text": [
      "100%|██████████| 4/4 [00:00<00:00,  4.61it/s]\n"
     ]
    },
    {
     "name": "stdout",
     "output_type": "stream",
     "text": [
      "save Sufficiency_zeros_mask.pkl perturbation scores to /home/lyb/Transparency/data/qa/cnn_dot/att_norm\n",
      "Calculate Sufficiency for [0.5  0.8  0.9  0.95]\n",
      "replace_func:att_mask, metric:Sufficiency\n",
      "/home/lyb/Transparency/data/qa/cnn_dot/att_norm\n",
      "load exp scores from outputs/qa/babi_1/cnn(1,3,5,7)+dot/Mon_Jan_17_22:19:26_2022/att_norm_bz256.pkl\n"
     ]
    },
    {
     "name": "stderr",
     "output_type": "stream",
     "text": [
      "100%|██████████| 4/4 [00:00<00:00,  4.59it/s]\n",
      "INFO - 2022-01-20 11:33:42,795 - type = cnn\n",
      "INFO - 2022-01-20 11:33:42,796 - vocab_size = 24\n",
      "INFO - 2022-01-20 11:33:42,797 - embed_size = 50\n",
      "INFO - 2022-01-20 11:33:42,798 - hidden_size = 8\n",
      "INFO - 2022-01-20 11:33:42,798 - kernel_sizes = [1, 3, 5, 7]\n",
      "INFO - 2022-01-20 11:33:42,799 - activation = relu\n",
      "INFO - 2022-01-20 11:33:42,800 - type = relu\n",
      "INFO - 2022-01-20 11:33:42,801 - type = relu\n",
      "INFO - 2022-01-20 11:33:42,801 - pre_embed = None\n",
      "INFO - 2022-01-20 11:33:42,805 - type = cnn\n",
      "INFO - 2022-01-20 11:33:42,806 - vocab_size = 24\n",
      "INFO - 2022-01-20 11:33:42,807 - embed_size = 50\n",
      "INFO - 2022-01-20 11:33:42,808 - hidden_size = 8\n",
      "INFO - 2022-01-20 11:33:42,808 - kernel_sizes = [1, 3, 5, 7]\n",
      "INFO - 2022-01-20 11:33:42,809 - activation = relu\n",
      "INFO - 2022-01-20 11:33:42,809 - type = relu\n",
      "INFO - 2022-01-20 11:33:42,810 - type = relu\n",
      "INFO - 2022-01-20 11:33:42,811 - pre_embed = None\n",
      "INFO - 2022-01-20 11:33:42,814 - hidden_size = 32\n",
      "INFO - 2022-01-20 11:33:42,815 - attention.type = tanh_qa\n",
      "INFO - 2022-01-20 11:33:42,816 - attention.type = tanh_qa\n",
      "INFO - 2022-01-20 11:33:42,816 - output_size = 36\n",
      "INFO - 2022-01-20 11:33:42,817 - use_attention = True\n",
      "INFO - 2022-01-20 11:33:42,817 - regularizer_attention = None\n",
      "INFO - 2022-01-20 11:33:42,819 - type = tanh_qa\n",
      "INFO - 2022-01-20 11:33:42,820 - hidden_size = 32\n"
     ]
    },
    {
     "name": "stdout",
     "output_type": "stream",
     "text": [
      "save Sufficiency_att_mask.pkl perturbation scores to /home/lyb/Transparency/data/qa/cnn_dot/att_norm\n",
      "Calculate Sufficiency for [0.5  0.8  0.9  0.95]\n",
      "{'AUCTP': 0.36090000000000005, 'Violation': 0.20833333333333334, 'Sufficiency': 0.3100335129517286, 'Comprehensiveness': 0.4258126864830653, 'RC': 0.5865219533443451}\n",
      "{'AUCTP': [0.3135, 0.5557250000000001, 0.213475], 'Violation': [0.20100000500679016, 0.2329999953508377, 0.19099999964237213], 'Sufficiency': [0.46999460458755493, 0.4601457715034485, -3.983723581768572e-05], 'Comprehensiveness': [0.48988771438598633, 0.1833478957414627, 0.6042024493217468], 'RC': [0.46319228410720825, 0.482461541891098, 0.813912034034729]}\n",
      "#################### dataset:babi_1, model:cnn_tanh, exp_type:att*grad  ####################\n",
      "replace_func:slice_out, metric:Violation\n",
      "/home/lyb/Transparency/data/qa/cnn/att*grad\n",
      "Violation mask size must be 1\n"
     ]
    },
    {
     "name": "stderr",
     "output_type": "stream",
     "text": [
      "100%|██████████| 4/4 [00:02<00:00,  1.72it/s]\n"
     ]
    },
    {
     "name": "stdout",
     "output_type": "stream",
     "text": [
      "save Violation_slice_out.pkl perturbation scores to /home/lyb/Transparency/data/qa/cnn/att*grad\n",
      "num. of violators: 144, ratio:14.40%\n",
      "replace_func:zeros_mask, metric:Violation\n",
      "/home/lyb/Transparency/data/qa/cnn/att*grad\n",
      "load exp scores from outputs/qa/babi_1/cnn(1,3,5,7)+tanh/Mon_Jan_17_22:06:23_2022/att*grad_bz256.pkl\n",
      "Violation mask size must be 1\n"
     ]
    },
    {
     "name": "stderr",
     "output_type": "stream",
     "text": [
      "100%|██████████| 4/4 [00:02<00:00,  1.71it/s]\n"
     ]
    },
    {
     "name": "stdout",
     "output_type": "stream",
     "text": [
      "save Violation_zeros_mask.pkl perturbation scores to /home/lyb/Transparency/data/qa/cnn/att*grad\n",
      "num. of violators: 258, ratio:25.80%\n",
      "replace_func:att_mask, metric:Violation\n",
      "/home/lyb/Transparency/data/qa/cnn/att*grad\n",
      "load exp scores from outputs/qa/babi_1/cnn(1,3,5,7)+tanh/Mon_Jan_17_22:06:23_2022/att*grad_bz256.pkl\n",
      "Violation mask size must be 1\n"
     ]
    },
    {
     "name": "stderr",
     "output_type": "stream",
     "text": [
      "100%|██████████| 4/4 [00:02<00:00,  1.74it/s]\n"
     ]
    },
    {
     "name": "stdout",
     "output_type": "stream",
     "text": [
      "save Violation_att_mask.pkl perturbation scores to /home/lyb/Transparency/data/qa/cnn/att*grad\n",
      "num. of violators: 47, ratio:4.70%\n",
      "replace_func:slice_out, metric:RC\n",
      "/home/lyb/Transparency/data/qa/cnn/att*grad\n",
      "load exp scores from outputs/qa/babi_1/cnn(1,3,5,7)+tanh/Mon_Jan_17_22:06:23_2022/att*grad_bz256.pkl\n"
     ]
    },
    {
     "name": "stderr",
     "output_type": "stream",
     "text": [
      "100%|██████████| 4/4 [00:02<00:00,  1.74it/s]\n"
     ]
    },
    {
     "name": "stdout",
     "output_type": "stream",
     "text": [
      "save RC_slice_out.pkl perturbation scores to /home/lyb/Transparency/data/qa/cnn/att*grad\n",
      " rcc:0.35847246646881104\n",
      "replace_func:zeros_mask, metric:RC\n",
      "/home/lyb/Transparency/data/qa/cnn/att*grad\n",
      "load exp scores from outputs/qa/babi_1/cnn(1,3,5,7)+tanh/Mon_Jan_17_22:06:23_2022/att*grad_bz256.pkl\n"
     ]
    },
    {
     "name": "stderr",
     "output_type": "stream",
     "text": [
      "100%|██████████| 4/4 [00:02<00:00,  1.72it/s]\n"
     ]
    },
    {
     "name": "stdout",
     "output_type": "stream",
     "text": [
      "save RC_zeros_mask.pkl perturbation scores to /home/lyb/Transparency/data/qa/cnn/att*grad\n",
      " rcc:0.31839558482170105\n",
      "replace_func:att_mask, metric:RC\n",
      "/home/lyb/Transparency/data/qa/cnn/att*grad\n",
      "load exp scores from outputs/qa/babi_1/cnn(1,3,5,7)+tanh/Mon_Jan_17_22:06:23_2022/att*grad_bz256.pkl\n"
     ]
    },
    {
     "name": "stderr",
     "output_type": "stream",
     "text": [
      "100%|██████████| 4/4 [00:02<00:00,  1.73it/s]\n"
     ]
    },
    {
     "name": "stdout",
     "output_type": "stream",
     "text": [
      "save RC_att_mask.pkl perturbation scores to /home/lyb/Transparency/data/qa/cnn/att*grad\n",
      " rcc:0.8786813020706177\n",
      "replace_func:slice_out, metric:AUCTP\n",
      "/home/lyb/Transparency/data/qa/cnn/att*grad\n",
      "load exp scores from outputs/qa/babi_1/cnn(1,3,5,7)+tanh/Mon_Jan_17_22:06:23_2022/att*grad_bz256.pkl\n"
     ]
    },
    {
     "name": "stderr",
     "output_type": "stream",
     "text": [
      "100%|██████████| 4/4 [00:01<00:00,  2.06it/s]\n"
     ]
    },
    {
     "name": "stdout",
     "output_type": "stream",
     "text": [
      "save AUCTP_slice_out.pkl perturbation scores to /home/lyb/Transparency/data/qa/cnn/att*grad\n",
      "[0.05 0.1  0.2  0.5 ]\n",
      "{'Comprehensiveness': 0.6257278919219971, 'AUCTP': 0.2223}\n",
      "[0.   0.05 0.1  0.2  0.3  0.4  0.5  0.6  0.7  0.8  0.9 ] [0.867, 0.52, 0.397, 0.279, 0.233, 0.199, 0.183, 0.175, 0.151, 0.155, 0.147]\n",
      "replace_func:zeros_mask, metric:AUCTP\n",
      "/home/lyb/Transparency/data/qa/cnn/att*grad\n",
      "load exp scores from outputs/qa/babi_1/cnn(1,3,5,7)+tanh/Mon_Jan_17_22:06:23_2022/att*grad_bz256.pkl\n"
     ]
    },
    {
     "name": "stderr",
     "output_type": "stream",
     "text": [
      "100%|██████████| 4/4 [00:01<00:00,  2.13it/s]\n"
     ]
    },
    {
     "name": "stdout",
     "output_type": "stream",
     "text": [
      "save AUCTP_zeros_mask.pkl perturbation scores to /home/lyb/Transparency/data/qa/cnn/att*grad\n",
      "[0.05 0.1  0.2  0.5 ]\n",
      "{'Comprehensiveness': 0.44057536125183105, 'AUCTP': 0.2964}\n",
      "[0.   0.05 0.1  0.2  0.3  0.4  0.5  0.6  0.7  0.8  0.9 ] [0.867, 0.746, 0.603, 0.422, 0.32, 0.251, 0.229, 0.218, 0.193, 0.197, 0.184]\n",
      "replace_func:att_mask, metric:AUCTP\n",
      "/home/lyb/Transparency/data/qa/cnn/att*grad\n",
      "load exp scores from outputs/qa/babi_1/cnn(1,3,5,7)+tanh/Mon_Jan_17_22:06:23_2022/att*grad_bz256.pkl\n"
     ]
    },
    {
     "name": "stderr",
     "output_type": "stream",
     "text": [
      "100%|██████████| 4/4 [00:01<00:00,  2.09it/s]\n"
     ]
    },
    {
     "name": "stdout",
     "output_type": "stream",
     "text": [
      "save AUCTP_att_mask.pkl perturbation scores to /home/lyb/Transparency/data/qa/cnn/att*grad\n",
      "[0.05 0.1  0.2  0.5 ]\n",
      "{'Comprehensiveness': 0.7064716219902039, 'AUCTP': 0.220625}\n",
      "[0.   0.05 0.1  0.2  0.3  0.4  0.5  0.6  0.7  0.8  0.9 ] [0.867, 0.41, 0.304, 0.226, 0.216, 0.204, 0.201, 0.203, 0.203, 0.202, 0.203]\n",
      "replace_func:slice_out, metric:Sufficiency\n",
      "/home/lyb/Transparency/data/qa/cnn/att*grad\n",
      "load exp scores from outputs/qa/babi_1/cnn(1,3,5,7)+tanh/Mon_Jan_17_22:06:23_2022/att*grad_bz256.pkl\n"
     ]
    },
    {
     "name": "stderr",
     "output_type": "stream",
     "text": [
      "100%|██████████| 4/4 [00:00<00:00,  4.39it/s]\n"
     ]
    },
    {
     "name": "stdout",
     "output_type": "stream",
     "text": [
      "save Sufficiency_slice_out.pkl perturbation scores to /home/lyb/Transparency/data/qa/cnn/att*grad\n",
      "Calculate Sufficiency for [0.5  0.8  0.9  0.95]\n",
      "replace_func:zeros_mask, metric:Sufficiency\n",
      "/home/lyb/Transparency/data/qa/cnn/att*grad\n",
      "load exp scores from outputs/qa/babi_1/cnn(1,3,5,7)+tanh/Mon_Jan_17_22:06:23_2022/att*grad_bz256.pkl\n"
     ]
    },
    {
     "name": "stderr",
     "output_type": "stream",
     "text": [
      "100%|██████████| 4/4 [00:01<00:00,  3.90it/s]\n"
     ]
    },
    {
     "name": "stdout",
     "output_type": "stream",
     "text": [
      "save Sufficiency_zeros_mask.pkl perturbation scores to /home/lyb/Transparency/data/qa/cnn/att*grad\n",
      "Calculate Sufficiency for [0.5  0.8  0.9  0.95]\n",
      "replace_func:att_mask, metric:Sufficiency\n",
      "/home/lyb/Transparency/data/qa/cnn/att*grad\n",
      "load exp scores from outputs/qa/babi_1/cnn(1,3,5,7)+tanh/Mon_Jan_17_22:06:23_2022/att*grad_bz256.pkl\n"
     ]
    },
    {
     "name": "stderr",
     "output_type": "stream",
     "text": [
      "100%|██████████| 4/4 [00:00<00:00,  4.54it/s]\n"
     ]
    },
    {
     "name": "stdout",
     "output_type": "stream",
     "text": [
      "save Sufficiency_att_mask.pkl perturbation scores to /home/lyb/Transparency/data/qa/cnn/att*grad\n",
      "Calculate Sufficiency for [0.5  0.8  0.9  0.95]\n",
      "{'AUCTP': 0.24644166666666664, 'Violation': 0.1496666595339775, 'Sufficiency': 0.24386286859711012, 'Comprehensiveness': 0.5909249583880106, 'RC': 0.5185164511203766}\n",
      "{'AUCTP': [0.2223, 0.2964, 0.220625], 'Violation': [0.14399999380111694, 0.257999986410141, 0.04699999839067459], 'Sufficiency': [0.36186686158180237, 0.4088630676269531, -0.039141323417425156], 'Comprehensiveness': [0.6257278919219971, 0.44057536125183105, 0.7064716219902039], 'RC': [0.35847246646881104, 0.31839558482170105, 0.8786813020706177]}\n",
      "#################### dataset:babi_1, model:cnn_tanh, exp_type:att  ####################\n",
      "replace_func:slice_out, metric:Violation\n",
      "/home/lyb/Transparency/data/qa/cnn/att\n",
      "Violation mask size must be 1\n"
     ]
    },
    {
     "name": "stderr",
     "output_type": "stream",
     "text": [
      "100%|██████████| 4/4 [00:02<00:00,  1.74it/s]\n"
     ]
    },
    {
     "name": "stdout",
     "output_type": "stream",
     "text": [
      "save Violation_slice_out.pkl perturbation scores to /home/lyb/Transparency/data/qa/cnn/att\n",
      "num. of violators: 236, ratio:23.60%\n",
      "replace_func:zeros_mask, metric:Violation\n",
      "/home/lyb/Transparency/data/qa/cnn/att\n",
      "load exp scores from outputs/qa/babi_1/cnn(1,3,5,7)+tanh/Mon_Jan_17_22:06:23_2022/att_bz256.pkl\n",
      "Violation mask size must be 1\n"
     ]
    },
    {
     "name": "stderr",
     "output_type": "stream",
     "text": [
      "100%|██████████| 4/4 [00:02<00:00,  1.74it/s]\n"
     ]
    },
    {
     "name": "stdout",
     "output_type": "stream",
     "text": [
      "save Violation_zeros_mask.pkl perturbation scores to /home/lyb/Transparency/data/qa/cnn/att\n",
      "num. of violators: 314, ratio:31.40%\n",
      "replace_func:att_mask, metric:Violation\n",
      "/home/lyb/Transparency/data/qa/cnn/att\n",
      "load exp scores from outputs/qa/babi_1/cnn(1,3,5,7)+tanh/Mon_Jan_17_22:06:23_2022/att_bz256.pkl\n",
      "Violation mask size must be 1\n"
     ]
    },
    {
     "name": "stderr",
     "output_type": "stream",
     "text": [
      "100%|██████████| 4/4 [00:02<00:00,  1.73it/s]\n"
     ]
    },
    {
     "name": "stdout",
     "output_type": "stream",
     "text": [
      "save Violation_att_mask.pkl perturbation scores to /home/lyb/Transparency/data/qa/cnn/att\n",
      "num. of violators: 211, ratio:21.10%\n",
      "replace_func:slice_out, metric:RC\n",
      "/home/lyb/Transparency/data/qa/cnn/att\n",
      "load exp scores from outputs/qa/babi_1/cnn(1,3,5,7)+tanh/Mon_Jan_17_22:06:23_2022/att_bz256.pkl\n"
     ]
    },
    {
     "name": "stderr",
     "output_type": "stream",
     "text": [
      "100%|██████████| 4/4 [00:02<00:00,  1.73it/s]\n"
     ]
    },
    {
     "name": "stdout",
     "output_type": "stream",
     "text": [
      "save RC_slice_out.pkl perturbation scores to /home/lyb/Transparency/data/qa/cnn/att\n",
      " rcc:0.34226372838020325\n",
      "replace_func:zeros_mask, metric:RC\n",
      "/home/lyb/Transparency/data/qa/cnn/att\n",
      "load exp scores from outputs/qa/babi_1/cnn(1,3,5,7)+tanh/Mon_Jan_17_22:06:23_2022/att_bz256.pkl\n"
     ]
    },
    {
     "name": "stderr",
     "output_type": "stream",
     "text": [
      "100%|██████████| 4/4 [00:02<00:00,  1.73it/s]\n"
     ]
    },
    {
     "name": "stdout",
     "output_type": "stream",
     "text": [
      "save RC_zeros_mask.pkl perturbation scores to /home/lyb/Transparency/data/qa/cnn/att\n",
      " rcc:0.30728021264076233\n",
      "replace_func:att_mask, metric:RC\n",
      "/home/lyb/Transparency/data/qa/cnn/att\n",
      "load exp scores from outputs/qa/babi_1/cnn(1,3,5,7)+tanh/Mon_Jan_17_22:06:23_2022/att_bz256.pkl\n"
     ]
    },
    {
     "name": "stderr",
     "output_type": "stream",
     "text": [
      "100%|██████████| 4/4 [00:02<00:00,  1.73it/s]\n"
     ]
    },
    {
     "name": "stdout",
     "output_type": "stream",
     "text": [
      "save RC_att_mask.pkl perturbation scores to /home/lyb/Transparency/data/qa/cnn/att\n",
      " rcc:0.7075659036636353\n",
      "replace_func:slice_out, metric:AUCTP\n",
      "/home/lyb/Transparency/data/qa/cnn/att\n",
      "load exp scores from outputs/qa/babi_1/cnn(1,3,5,7)+tanh/Mon_Jan_17_22:06:23_2022/att_bz256.pkl\n"
     ]
    },
    {
     "name": "stderr",
     "output_type": "stream",
     "text": [
      "100%|██████████| 4/4 [00:01<00:00,  2.06it/s]\n"
     ]
    },
    {
     "name": "stdout",
     "output_type": "stream",
     "text": [
      "save AUCTP_slice_out.pkl perturbation scores to /home/lyb/Transparency/data/qa/cnn/att\n",
      "[0.05 0.1  0.2  0.5 ]\n",
      "{'Comprehensiveness': 0.49489036202430725, 'AUCTP': 0.282625}\n",
      "[0.   0.05 0.1  0.2  0.3  0.4  0.5  0.6  0.7  0.8  0.9 ] [0.867, 0.557, 0.478, 0.373, 0.326, 0.275, 0.259, 0.242, 0.217, 0.199, 0.163]\n",
      "replace_func:zeros_mask, metric:AUCTP\n",
      "/home/lyb/Transparency/data/qa/cnn/att\n",
      "load exp scores from outputs/qa/babi_1/cnn(1,3,5,7)+tanh/Mon_Jan_17_22:06:23_2022/att_bz256.pkl\n"
     ]
    },
    {
     "name": "stderr",
     "output_type": "stream",
     "text": [
      "100%|██████████| 4/4 [00:02<00:00,  1.99it/s]\n"
     ]
    },
    {
     "name": "stdout",
     "output_type": "stream",
     "text": [
      "save AUCTP_zeros_mask.pkl perturbation scores to /home/lyb/Transparency/data/qa/cnn/att\n",
      "[0.05 0.1  0.2  0.5 ]\n",
      "{'Comprehensiveness': 0.33643481135368347, 'AUCTP': 0.337675}\n",
      "[0.   0.05 0.1  0.2  0.3  0.4  0.5  0.6  0.7  0.8  0.9 ] [0.867, 0.773, 0.656, 0.525, 0.413, 0.34, 0.283, 0.246, 0.202, 0.187, 0.171]\n",
      "replace_func:att_mask, metric:AUCTP\n",
      "/home/lyb/Transparency/data/qa/cnn/att\n",
      "load exp scores from outputs/qa/babi_1/cnn(1,3,5,7)+tanh/Mon_Jan_17_22:06:23_2022/att_bz256.pkl\n"
     ]
    },
    {
     "name": "stderr",
     "output_type": "stream",
     "text": [
      "100%|██████████| 4/4 [00:01<00:00,  2.11it/s]\n"
     ]
    },
    {
     "name": "stdout",
     "output_type": "stream",
     "text": [
      "save AUCTP_att_mask.pkl perturbation scores to /home/lyb/Transparency/data/qa/cnn/att\n",
      "[0.05 0.1  0.2  0.5 ]\n",
      "{'Comprehensiveness': 0.568153977394104, 'AUCTP': 0.22842500000000002}\n",
      "[0.   0.05 0.1  0.2  0.3  0.4  0.5  0.6  0.7  0.8  0.9 ] [0.867, 0.465, 0.398, 0.306, 0.241, 0.184, 0.18, 0.187, 0.18, 0.175, 0.167]\n",
      "replace_func:slice_out, metric:Sufficiency\n",
      "/home/lyb/Transparency/data/qa/cnn/att\n",
      "load exp scores from outputs/qa/babi_1/cnn(1,3,5,7)+tanh/Mon_Jan_17_22:06:23_2022/att_bz256.pkl\n"
     ]
    },
    {
     "name": "stderr",
     "output_type": "stream",
     "text": [
      "100%|██████████| 4/4 [00:00<00:00,  4.34it/s]\n"
     ]
    },
    {
     "name": "stdout",
     "output_type": "stream",
     "text": [
      "save Sufficiency_slice_out.pkl perturbation scores to /home/lyb/Transparency/data/qa/cnn/att\n",
      "Calculate Sufficiency for [0.5  0.8  0.9  0.95]\n",
      "replace_func:zeros_mask, metric:Sufficiency\n",
      "/home/lyb/Transparency/data/qa/cnn/att\n",
      "load exp scores from outputs/qa/babi_1/cnn(1,3,5,7)+tanh/Mon_Jan_17_22:06:23_2022/att_bz256.pkl\n"
     ]
    },
    {
     "name": "stderr",
     "output_type": "stream",
     "text": [
      "100%|██████████| 4/4 [00:00<00:00,  4.59it/s]\n"
     ]
    },
    {
     "name": "stdout",
     "output_type": "stream",
     "text": [
      "save Sufficiency_zeros_mask.pkl perturbation scores to /home/lyb/Transparency/data/qa/cnn/att\n",
      "Calculate Sufficiency for [0.5  0.8  0.9  0.95]\n",
      "replace_func:att_mask, metric:Sufficiency\n",
      "/home/lyb/Transparency/data/qa/cnn/att\n",
      "load exp scores from outputs/qa/babi_1/cnn(1,3,5,7)+tanh/Mon_Jan_17_22:06:23_2022/att_bz256.pkl\n"
     ]
    },
    {
     "name": "stderr",
     "output_type": "stream",
     "text": [
      "100%|██████████| 4/4 [00:00<00:00,  4.31it/s]\n"
     ]
    },
    {
     "name": "stdout",
     "output_type": "stream",
     "text": [
      "save Sufficiency_att_mask.pkl perturbation scores to /home/lyb/Transparency/data/qa/cnn/att\n",
      "Calculate Sufficiency for [0.5  0.8  0.9  0.95]\n",
      "{'AUCTP': 0.2829083333333334, 'Violation': 0.2536666691303253, 'Sufficiency': 0.268053486244753, 'Comprehensiveness': 0.4664930502573649, 'RC': 0.45236994822820026}\n",
      "{'AUCTP': [0.282625, 0.337675, 0.22842500000000002], 'Violation': [0.23600000143051147, 0.3140000104904175, 0.210999995470047], 'Sufficiency': [0.4123590886592865, 0.3931581974029541, -0.0013568273279815912], 'Comprehensiveness': [0.49489036202430725, 0.33643481135368347, 0.568153977394104], 'RC': [0.34226372838020325, 0.30728021264076233, 0.7075659036636353]}\n",
      "#################### dataset:babi_1, model:cnn_tanh, exp_type:ig  ####################\n",
      "replace_func:slice_out, metric:Violation\n",
      "/home/lyb/Transparency/data/qa/cnn/ig\n",
      "Violation mask size must be 1\n"
     ]
    },
    {
     "name": "stderr",
     "output_type": "stream",
     "text": [
      "100%|██████████| 4/4 [00:07<00:00,  2.00s/it]\n"
     ]
    },
    {
     "name": "stdout",
     "output_type": "stream",
     "text": [
      "save Violation_slice_out.pkl perturbation scores to /home/lyb/Transparency/data/qa/cnn/ig\n",
      "num. of violators: 72, ratio:7.20%\n",
      "replace_func:zeros_mask, metric:Violation\n",
      "/home/lyb/Transparency/data/qa/cnn/ig\n",
      "load exp scores from outputs/qa/babi_1/cnn(1,3,5,7)+tanh/Mon_Jan_17_22:06:23_2022/ig_bz256.pkl\n",
      "Violation mask size must be 1\n"
     ]
    },
    {
     "name": "stderr",
     "output_type": "stream",
     "text": [
      "100%|██████████| 4/4 [00:02<00:00,  1.70it/s]\n"
     ]
    },
    {
     "name": "stdout",
     "output_type": "stream",
     "text": [
      "save Violation_zeros_mask.pkl perturbation scores to /home/lyb/Transparency/data/qa/cnn/ig\n",
      "num. of violators: 45, ratio:4.50%\n",
      "replace_func:att_mask, metric:Violation\n",
      "/home/lyb/Transparency/data/qa/cnn/ig\n",
      "load exp scores from outputs/qa/babi_1/cnn(1,3,5,7)+tanh/Mon_Jan_17_22:06:23_2022/ig_bz256.pkl\n",
      "Violation mask size must be 1\n"
     ]
    },
    {
     "name": "stderr",
     "output_type": "stream",
     "text": [
      "100%|██████████| 4/4 [00:02<00:00,  1.73it/s]\n"
     ]
    },
    {
     "name": "stdout",
     "output_type": "stream",
     "text": [
      "save Violation_att_mask.pkl perturbation scores to /home/lyb/Transparency/data/qa/cnn/ig\n",
      "num. of violators: 334, ratio:33.40%\n",
      "replace_func:slice_out, metric:RC\n",
      "/home/lyb/Transparency/data/qa/cnn/ig\n",
      "load exp scores from outputs/qa/babi_1/cnn(1,3,5,7)+tanh/Mon_Jan_17_22:06:23_2022/ig_bz256.pkl\n"
     ]
    },
    {
     "name": "stderr",
     "output_type": "stream",
     "text": [
      "100%|██████████| 4/4 [00:02<00:00,  1.75it/s]\n"
     ]
    },
    {
     "name": "stdout",
     "output_type": "stream",
     "text": [
      "save RC_slice_out.pkl perturbation scores to /home/lyb/Transparency/data/qa/cnn/ig\n",
      " rcc:0.37548351287841797\n",
      "replace_func:zeros_mask, metric:RC\n",
      "/home/lyb/Transparency/data/qa/cnn/ig\n",
      "load exp scores from outputs/qa/babi_1/cnn(1,3,5,7)+tanh/Mon_Jan_17_22:06:23_2022/ig_bz256.pkl\n"
     ]
    },
    {
     "name": "stderr",
     "output_type": "stream",
     "text": [
      "100%|██████████| 4/4 [00:02<00:00,  1.75it/s]\n"
     ]
    },
    {
     "name": "stdout",
     "output_type": "stream",
     "text": [
      "save RC_zeros_mask.pkl perturbation scores to /home/lyb/Transparency/data/qa/cnn/ig\n",
      " rcc:0.4827747046947479\n",
      "replace_func:att_mask, metric:RC\n",
      "/home/lyb/Transparency/data/qa/cnn/ig\n",
      "load exp scores from outputs/qa/babi_1/cnn(1,3,5,7)+tanh/Mon_Jan_17_22:06:23_2022/ig_bz256.pkl\n"
     ]
    },
    {
     "name": "stderr",
     "output_type": "stream",
     "text": [
      "100%|██████████| 4/4 [00:02<00:00,  1.74it/s]\n"
     ]
    },
    {
     "name": "stdout",
     "output_type": "stream",
     "text": [
      "save RC_att_mask.pkl perturbation scores to /home/lyb/Transparency/data/qa/cnn/ig\n",
      " rcc:0.03662088140845299\n",
      "replace_func:slice_out, metric:AUCTP\n",
      "/home/lyb/Transparency/data/qa/cnn/ig\n",
      "load exp scores from outputs/qa/babi_1/cnn(1,3,5,7)+tanh/Mon_Jan_17_22:06:23_2022/ig_bz256.pkl\n"
     ]
    },
    {
     "name": "stderr",
     "output_type": "stream",
     "text": [
      "100%|██████████| 4/4 [00:01<00:00,  2.04it/s]\n"
     ]
    },
    {
     "name": "stdout",
     "output_type": "stream",
     "text": [
      "save AUCTP_slice_out.pkl perturbation scores to /home/lyb/Transparency/data/qa/cnn/ig\n",
      "[0.05 0.1  0.2  0.5 ]\n",
      "{'Comprehensiveness': 0.7425580024719238, 'AUCTP': 0.15660000000000002}\n",
      "[0.   0.05 0.1  0.2  0.3  0.4  0.5  0.6  0.7  0.8  0.9 ] [0.867, 0.375, 0.265, 0.155, 0.132, 0.131, 0.121, 0.128, 0.12, 0.118, 0.116]\n",
      "replace_func:zeros_mask, metric:AUCTP\n",
      "/home/lyb/Transparency/data/qa/cnn/ig\n",
      "load exp scores from outputs/qa/babi_1/cnn(1,3,5,7)+tanh/Mon_Jan_17_22:06:23_2022/ig_bz256.pkl\n"
     ]
    },
    {
     "name": "stderr",
     "output_type": "stream",
     "text": [
      "100%|██████████| 4/4 [00:01<00:00,  2.11it/s]\n"
     ]
    },
    {
     "name": "stdout",
     "output_type": "stream",
     "text": [
      "save AUCTP_zeros_mask.pkl perturbation scores to /home/lyb/Transparency/data/qa/cnn/ig\n",
      "[0.05 0.1  0.2  0.5 ]\n",
      "{'Comprehensiveness': 0.7785305380821228, 'AUCTP': 0.128825}\n",
      "[0.   0.05 0.1  0.2  0.3  0.4  0.5  0.6  0.7  0.8  0.9 ] [0.867, 0.323, 0.228, 0.131, 0.112, 0.095, 0.098, 0.09, 0.082, 0.088, 0.086]\n",
      "replace_func:att_mask, metric:AUCTP\n",
      "/home/lyb/Transparency/data/qa/cnn/ig\n",
      "load exp scores from outputs/qa/babi_1/cnn(1,3,5,7)+tanh/Mon_Jan_17_22:06:23_2022/ig_bz256.pkl\n"
     ]
    },
    {
     "name": "stderr",
     "output_type": "stream",
     "text": [
      "100%|██████████| 4/4 [00:01<00:00,  2.11it/s]\n"
     ]
    },
    {
     "name": "stdout",
     "output_type": "stream",
     "text": [
      "save AUCTP_att_mask.pkl perturbation scores to /home/lyb/Transparency/data/qa/cnn/ig\n",
      "[0.05 0.1  0.2  0.5 ]\n",
      "{'Comprehensiveness': 0.320960134267807, 'AUCTP': 0.38915}\n",
      "[0.   0.05 0.1  0.2  0.3  0.4  0.5  0.6  0.7  0.8  0.9 ] [0.867, 0.822, 0.723, 0.551, 0.465, 0.368, 0.325, 0.302, 0.291, 0.281, 0.277]\n",
      "replace_func:slice_out, metric:Sufficiency\n",
      "/home/lyb/Transparency/data/qa/cnn/ig\n",
      "load exp scores from outputs/qa/babi_1/cnn(1,3,5,7)+tanh/Mon_Jan_17_22:06:23_2022/ig_bz256.pkl\n"
     ]
    },
    {
     "name": "stderr",
     "output_type": "stream",
     "text": [
      "100%|██████████| 4/4 [00:00<00:00,  4.43it/s]\n"
     ]
    },
    {
     "name": "stdout",
     "output_type": "stream",
     "text": [
      "save Sufficiency_slice_out.pkl perturbation scores to /home/lyb/Transparency/data/qa/cnn/ig\n",
      "Calculate Sufficiency for [0.5  0.8  0.9  0.95]\n",
      "replace_func:zeros_mask, metric:Sufficiency\n",
      "/home/lyb/Transparency/data/qa/cnn/ig\n",
      "load exp scores from outputs/qa/babi_1/cnn(1,3,5,7)+tanh/Mon_Jan_17_22:06:23_2022/ig_bz256.pkl\n"
     ]
    },
    {
     "name": "stderr",
     "output_type": "stream",
     "text": [
      "100%|██████████| 4/4 [00:00<00:00,  4.34it/s]\n"
     ]
    },
    {
     "name": "stdout",
     "output_type": "stream",
     "text": [
      "save Sufficiency_zeros_mask.pkl perturbation scores to /home/lyb/Transparency/data/qa/cnn/ig\n",
      "Calculate Sufficiency for [0.5  0.8  0.9  0.95]\n",
      "replace_func:att_mask, metric:Sufficiency\n",
      "/home/lyb/Transparency/data/qa/cnn/ig\n",
      "load exp scores from outputs/qa/babi_1/cnn(1,3,5,7)+tanh/Mon_Jan_17_22:06:23_2022/ig_bz256.pkl\n"
     ]
    },
    {
     "name": "stderr",
     "output_type": "stream",
     "text": [
      "100%|██████████| 4/4 [00:01<00:00,  3.09it/s]\n"
     ]
    },
    {
     "name": "stdout",
     "output_type": "stream",
     "text": [
      "save Sufficiency_att_mask.pkl perturbation scores to /home/lyb/Transparency/data/qa/cnn/ig\n",
      "Calculate Sufficiency for [0.5  0.8  0.9  0.95]\n",
      "{'AUCTP': 0.22485833333333335, 'Violation': 0.15033333003520966, 'Sufficiency': 0.10228686779737473, 'Comprehensiveness': 0.6140162249406179, 'RC': 0.29829303299387294}\n",
      "{'AUCTP': [0.15660000000000002, 0.128825, 0.38915], 'Violation': [0.07199999690055847, 0.04500000178813934, 0.33399999141693115], 'Sufficiency': [0.1582123339176178, 0.08460212498903275, 0.06404614448547363], 'Comprehensiveness': [0.7425580024719238, 0.7785305380821228, 0.320960134267807], 'RC': [0.37548351287841797, 0.4827747046947479, 0.03662088140845299]}\n",
      "#################### dataset:babi_1, model:cnn_tanh, exp_type:rand  ####################\n",
      "replace_func:slice_out, metric:Violation\n",
      "/home/lyb/Transparency/data/qa/cnn/rand\n",
      "Violation mask size must be 1\n"
     ]
    },
    {
     "name": "stderr",
     "output_type": "stream",
     "text": [
      "100%|██████████| 4/4 [00:03<00:00,  1.25it/s]\n"
     ]
    },
    {
     "name": "stdout",
     "output_type": "stream",
     "text": [
      "save Violation_slice_out.pkl perturbation scores to /home/lyb/Transparency/data/qa/cnn/rand\n",
      "num. of violators: 364, ratio:36.40%\n",
      "replace_func:zeros_mask, metric:Violation\n",
      "/home/lyb/Transparency/data/qa/cnn/rand\n",
      "load exp scores from outputs/qa/babi_1/cnn(1,3,5,7)+tanh/Mon_Jan_17_22:06:23_2022/rand_bz256.pkl\n",
      "Violation mask size must be 1\n"
     ]
    },
    {
     "name": "stderr",
     "output_type": "stream",
     "text": [
      "100%|██████████| 4/4 [00:03<00:00,  1.26it/s]\n"
     ]
    },
    {
     "name": "stdout",
     "output_type": "stream",
     "text": [
      "save Violation_zeros_mask.pkl perturbation scores to /home/lyb/Transparency/data/qa/cnn/rand\n",
      "num. of violators: 351, ratio:35.10%\n",
      "replace_func:att_mask, metric:Violation\n",
      "/home/lyb/Transparency/data/qa/cnn/rand\n",
      "load exp scores from outputs/qa/babi_1/cnn(1,3,5,7)+tanh/Mon_Jan_17_22:06:23_2022/rand_bz256.pkl\n",
      "Violation mask size must be 1\n"
     ]
    },
    {
     "name": "stderr",
     "output_type": "stream",
     "text": [
      "100%|██████████| 4/4 [00:03<00:00,  1.27it/s]\n"
     ]
    },
    {
     "name": "stdout",
     "output_type": "stream",
     "text": [
      "save Violation_att_mask.pkl perturbation scores to /home/lyb/Transparency/data/qa/cnn/rand\n",
      "num. of violators: 407, ratio:40.70%\n",
      "replace_func:slice_out, metric:RC\n",
      "/home/lyb/Transparency/data/qa/cnn/rand\n",
      "load exp scores from outputs/qa/babi_1/cnn(1,3,5,7)+tanh/Mon_Jan_17_22:06:23_2022/rand_bz256.pkl\n"
     ]
    },
    {
     "name": "stderr",
     "output_type": "stream",
     "text": [
      "100%|██████████| 4/4 [00:03<00:00,  1.29it/s]\n"
     ]
    },
    {
     "name": "stdout",
     "output_type": "stream",
     "text": [
      "save RC_slice_out.pkl perturbation scores to /home/lyb/Transparency/data/qa/cnn/rand\n",
      " rcc:-0.06617032736539841\n",
      "replace_func:zeros_mask, metric:RC\n",
      "/home/lyb/Transparency/data/qa/cnn/rand\n",
      "load exp scores from outputs/qa/babi_1/cnn(1,3,5,7)+tanh/Mon_Jan_17_22:06:23_2022/rand_bz256.pkl\n"
     ]
    },
    {
     "name": "stderr",
     "output_type": "stream",
     "text": [
      "100%|██████████| 4/4 [00:03<00:00,  1.30it/s]\n"
     ]
    },
    {
     "name": "stdout",
     "output_type": "stream",
     "text": [
      "save RC_zeros_mask.pkl perturbation scores to /home/lyb/Transparency/data/qa/cnn/rand\n",
      " rcc:-0.06680768728256226\n",
      "replace_func:att_mask, metric:RC\n",
      "/home/lyb/Transparency/data/qa/cnn/rand\n",
      "load exp scores from outputs/qa/babi_1/cnn(1,3,5,7)+tanh/Mon_Jan_17_22:06:23_2022/rand_bz256.pkl\n"
     ]
    },
    {
     "name": "stderr",
     "output_type": "stream",
     "text": [
      "100%|██████████| 4/4 [00:03<00:00,  1.22it/s]\n"
     ]
    },
    {
     "name": "stdout",
     "output_type": "stream",
     "text": [
      "save RC_att_mask.pkl perturbation scores to /home/lyb/Transparency/data/qa/cnn/rand\n",
      " rcc:-0.09004396200180054\n",
      "replace_func:slice_out, metric:AUCTP\n",
      "/home/lyb/Transparency/data/qa/cnn/rand\n",
      "load exp scores from outputs/qa/babi_1/cnn(1,3,5,7)+tanh/Mon_Jan_17_22:06:23_2022/rand_bz256.pkl\n"
     ]
    },
    {
     "name": "stderr",
     "output_type": "stream",
     "text": [
      "100%|██████████| 4/4 [00:02<00:00,  1.49it/s]\n"
     ]
    },
    {
     "name": "stdout",
     "output_type": "stream",
     "text": [
      "save AUCTP_slice_out.pkl perturbation scores to /home/lyb/Transparency/data/qa/cnn/rand\n",
      "[0.05 0.1  0.2  0.5 ]\n",
      "{'Comprehensiveness': 0.27076923847198486, 'AUCTP': 0.4337}\n",
      "[0.   0.05 0.1  0.2  0.3  0.4  0.5  0.6  0.7  0.8  0.9 ] [0.867, 0.788, 0.727, 0.606, 0.509, 0.459, 0.395, 0.356, 0.348, 0.347, 0.322]\n",
      "replace_func:zeros_mask, metric:AUCTP\n",
      "/home/lyb/Transparency/data/qa/cnn/rand\n",
      "load exp scores from outputs/qa/babi_1/cnn(1,3,5,7)+tanh/Mon_Jan_17_22:06:23_2022/rand_bz256.pkl\n"
     ]
    },
    {
     "name": "stderr",
     "output_type": "stream",
     "text": [
      "100%|██████████| 4/4 [00:02<00:00,  1.95it/s]\n"
     ]
    },
    {
     "name": "stdout",
     "output_type": "stream",
     "text": [
      "save AUCTP_zeros_mask.pkl perturbation scores to /home/lyb/Transparency/data/qa/cnn/rand\n",
      "[0.05 0.1  0.2  0.5 ]\n",
      "{'Comprehensiveness': 0.2310343235731125, 'AUCTP': 0.4613499999999999}\n",
      "[0.   0.05 0.1  0.2  0.3  0.4  0.5  0.6  0.7  0.8  0.9 ] [0.867, 0.808, 0.765, 0.655, 0.573, 0.492, 0.426, 0.388, 0.377, 0.347, 0.322]\n",
      "replace_func:att_mask, metric:AUCTP\n",
      "/home/lyb/Transparency/data/qa/cnn/rand\n",
      "load exp scores from outputs/qa/babi_1/cnn(1,3,5,7)+tanh/Mon_Jan_17_22:06:23_2022/rand_bz256.pkl\n"
     ]
    },
    {
     "name": "stderr",
     "output_type": "stream",
     "text": [
      "100%|██████████| 4/4 [00:01<00:00,  2.08it/s]\n"
     ]
    },
    {
     "name": "stdout",
     "output_type": "stream",
     "text": [
      "save AUCTP_att_mask.pkl perturbation scores to /home/lyb/Transparency/data/qa/cnn/rand\n",
      "[0.05 0.1  0.2  0.5 ]\n",
      "{'Comprehensiveness': 0.08998246490955353, 'AUCTP': 0.6181249999999999}\n",
      "[0.   0.05 0.1  0.2  0.3  0.4  0.5  0.6  0.7  0.8  0.9 ] [0.867, 0.849, 0.838, 0.791, 0.747, 0.703, 0.664, 0.613, 0.57, 0.559, 0.529]\n",
      "replace_func:slice_out, metric:Sufficiency\n",
      "/home/lyb/Transparency/data/qa/cnn/rand\n",
      "load exp scores from outputs/qa/babi_1/cnn(1,3,5,7)+tanh/Mon_Jan_17_22:06:23_2022/rand_bz256.pkl\n"
     ]
    },
    {
     "name": "stderr",
     "output_type": "stream",
     "text": [
      "100%|██████████| 4/4 [00:00<00:00,  4.34it/s]\n"
     ]
    },
    {
     "name": "stdout",
     "output_type": "stream",
     "text": [
      "save Sufficiency_slice_out.pkl perturbation scores to /home/lyb/Transparency/data/qa/cnn/rand\n",
      "Calculate Sufficiency for [0.5  0.8  0.9  0.95]\n",
      "replace_func:zeros_mask, metric:Sufficiency\n",
      "/home/lyb/Transparency/data/qa/cnn/rand\n",
      "load exp scores from outputs/qa/babi_1/cnn(1,3,5,7)+tanh/Mon_Jan_17_22:06:23_2022/rand_bz256.pkl\n"
     ]
    },
    {
     "name": "stderr",
     "output_type": "stream",
     "text": [
      "100%|██████████| 4/4 [00:00<00:00,  4.38it/s]\n"
     ]
    },
    {
     "name": "stdout",
     "output_type": "stream",
     "text": [
      "save Sufficiency_zeros_mask.pkl perturbation scores to /home/lyb/Transparency/data/qa/cnn/rand\n",
      "Calculate Sufficiency for [0.5  0.8  0.9  0.95]\n",
      "replace_func:att_mask, metric:Sufficiency\n",
      "/home/lyb/Transparency/data/qa/cnn/rand\n",
      "load exp scores from outputs/qa/babi_1/cnn(1,3,5,7)+tanh/Mon_Jan_17_22:06:23_2022/rand_bz256.pkl\n"
     ]
    },
    {
     "name": "stderr",
     "output_type": "stream",
     "text": [
      "100%|██████████| 4/4 [00:00<00:00,  4.61it/s]\n"
     ]
    },
    {
     "name": "stdout",
     "output_type": "stream",
     "text": [
      "save Sufficiency_att_mask.pkl perturbation scores to /home/lyb/Transparency/data/qa/cnn/rand\n",
      "Calculate Sufficiency for [0.5  0.8  0.9  0.95]\n",
      "{'AUCTP': 0.5043916666666667, 'Violation': 0.3740000029404958, 'Sufficiency': 0.4928109546502431, 'Comprehensiveness': 0.19726200898488364, 'RC': -0.07434065888325374}\n",
      "{'AUCTP': [0.4337, 0.4613499999999999, 0.6181249999999999], 'Violation': [0.36399999260902405, 0.35100001096725464, 0.40700000524520874], 'Sufficiency': [0.5778203010559082, 0.5638563632965088, 0.3367561995983124], 'Comprehensiveness': [0.27076923847198486, 0.2310343235731125, 0.08998246490955353], 'RC': [-0.06617032736539841, -0.06680768728256226, -0.09004396200180054]}\n",
      "#################### dataset:babi_1, model:cnn_tanh, exp_type:input*grad  ####################\n",
      "replace_func:slice_out, metric:Violation\n",
      "/home/lyb/Transparency/data/qa/cnn/input*grad\n",
      "Violation mask size must be 1\n"
     ]
    },
    {
     "name": "stderr",
     "output_type": "stream",
     "text": [
      "100%|██████████| 4/4 [00:02<00:00,  1.59it/s]\n"
     ]
    },
    {
     "name": "stdout",
     "output_type": "stream",
     "text": [
      "save Violation_slice_out.pkl perturbation scores to /home/lyb/Transparency/data/qa/cnn/input*grad\n",
      "num. of violators: 169, ratio:16.90%\n",
      "replace_func:zeros_mask, metric:Violation\n",
      "/home/lyb/Transparency/data/qa/cnn/input*grad\n",
      "load exp scores from outputs/qa/babi_1/cnn(1,3,5,7)+tanh/Mon_Jan_17_22:06:23_2022/input*grad_bz256.pkl\n",
      "Violation mask size must be 1\n"
     ]
    },
    {
     "name": "stderr",
     "output_type": "stream",
     "text": [
      "100%|██████████| 4/4 [00:02<00:00,  1.68it/s]\n"
     ]
    },
    {
     "name": "stdout",
     "output_type": "stream",
     "text": [
      "save Violation_zeros_mask.pkl perturbation scores to /home/lyb/Transparency/data/qa/cnn/input*grad\n",
      "num. of violators: 137, ratio:13.70%\n",
      "replace_func:att_mask, metric:Violation\n",
      "/home/lyb/Transparency/data/qa/cnn/input*grad\n",
      "load exp scores from outputs/qa/babi_1/cnn(1,3,5,7)+tanh/Mon_Jan_17_22:06:23_2022/input*grad_bz256.pkl\n",
      "Violation mask size must be 1\n"
     ]
    },
    {
     "name": "stderr",
     "output_type": "stream",
     "text": [
      "100%|██████████| 4/4 [00:02<00:00,  1.68it/s]\n"
     ]
    },
    {
     "name": "stdout",
     "output_type": "stream",
     "text": [
      "save Violation_att_mask.pkl perturbation scores to /home/lyb/Transparency/data/qa/cnn/input*grad\n",
      "num. of violators: 266, ratio:26.60%\n",
      "replace_func:slice_out, metric:RC\n",
      "/home/lyb/Transparency/data/qa/cnn/input*grad\n",
      "load exp scores from outputs/qa/babi_1/cnn(1,3,5,7)+tanh/Mon_Jan_17_22:06:23_2022/input*grad_bz256.pkl\n"
     ]
    },
    {
     "name": "stderr",
     "output_type": "stream",
     "text": [
      "100%|██████████| 4/4 [00:02<00:00,  1.72it/s]\n"
     ]
    },
    {
     "name": "stdout",
     "output_type": "stream",
     "text": [
      "save RC_slice_out.pkl perturbation scores to /home/lyb/Transparency/data/qa/cnn/input*grad\n",
      " rcc:0.32703840732574463\n",
      "replace_func:zeros_mask, metric:RC\n",
      "/home/lyb/Transparency/data/qa/cnn/input*grad\n",
      "load exp scores from outputs/qa/babi_1/cnn(1,3,5,7)+tanh/Mon_Jan_17_22:06:23_2022/input*grad_bz256.pkl\n"
     ]
    },
    {
     "name": "stderr",
     "output_type": "stream",
     "text": [
      "100%|██████████| 4/4 [00:02<00:00,  1.71it/s]\n"
     ]
    },
    {
     "name": "stdout",
     "output_type": "stream",
     "text": [
      "save RC_zeros_mask.pkl perturbation scores to /home/lyb/Transparency/data/qa/cnn/input*grad\n",
      " rcc:0.39910435676574707\n",
      "replace_func:att_mask, metric:RC\n",
      "/home/lyb/Transparency/data/qa/cnn/input*grad\n",
      "load exp scores from outputs/qa/babi_1/cnn(1,3,5,7)+tanh/Mon_Jan_17_22:06:23_2022/input*grad_bz256.pkl\n"
     ]
    },
    {
     "name": "stderr",
     "output_type": "stream",
     "text": [
      "100%|██████████| 4/4 [00:02<00:00,  1.48it/s]\n"
     ]
    },
    {
     "name": "stdout",
     "output_type": "stream",
     "text": [
      "save RC_att_mask.pkl perturbation scores to /home/lyb/Transparency/data/qa/cnn/input*grad\n",
      " rcc:0.005884614773094654\n",
      "replace_func:slice_out, metric:AUCTP\n",
      "/home/lyb/Transparency/data/qa/cnn/input*grad\n",
      "load exp scores from outputs/qa/babi_1/cnn(1,3,5,7)+tanh/Mon_Jan_17_22:06:23_2022/input*grad_bz256.pkl\n"
     ]
    },
    {
     "name": "stderr",
     "output_type": "stream",
     "text": [
      "100%|██████████| 4/4 [00:01<00:00,  2.04it/s]\n"
     ]
    },
    {
     "name": "stdout",
     "output_type": "stream",
     "text": [
      "save AUCTP_slice_out.pkl perturbation scores to /home/lyb/Transparency/data/qa/cnn/input*grad\n",
      "[0.05 0.1  0.2  0.5 ]\n",
      "{'Comprehensiveness': 0.7448213696479797, 'AUCTP': 0.1696}\n",
      "[0.   0.05 0.1  0.2  0.3  0.4  0.5  0.6  0.7  0.8  0.9 ] [0.867, 0.308, 0.221, 0.169, 0.17, 0.152, 0.142, 0.142, 0.144, 0.154, 0.173]\n",
      "replace_func:zeros_mask, metric:AUCTP\n",
      "/home/lyb/Transparency/data/qa/cnn/input*grad\n",
      "load exp scores from outputs/qa/babi_1/cnn(1,3,5,7)+tanh/Mon_Jan_17_22:06:23_2022/input*grad_bz256.pkl\n"
     ]
    },
    {
     "name": "stderr",
     "output_type": "stream",
     "text": [
      "100%|██████████| 4/4 [00:01<00:00,  2.09it/s]\n"
     ]
    },
    {
     "name": "stdout",
     "output_type": "stream",
     "text": [
      "save AUCTP_zeros_mask.pkl perturbation scores to /home/lyb/Transparency/data/qa/cnn/input*grad\n",
      "[0.05 0.1  0.2  0.5 ]\n",
      "{'Comprehensiveness': 0.7575324773788452, 'AUCTP': 0.159825}\n",
      "[0.   0.05 0.1  0.2  0.3  0.4  0.5  0.6  0.7  0.8  0.9 ] [0.867, 0.306, 0.218, 0.156, 0.15, 0.138, 0.139, 0.138, 0.135, 0.137, 0.144]\n",
      "replace_func:att_mask, metric:AUCTP\n",
      "/home/lyb/Transparency/data/qa/cnn/input*grad\n",
      "load exp scores from outputs/qa/babi_1/cnn(1,3,5,7)+tanh/Mon_Jan_17_22:06:23_2022/input*grad_bz256.pkl\n"
     ]
    },
    {
     "name": "stderr",
     "output_type": "stream",
     "text": [
      "100%|██████████| 4/4 [00:02<00:00,  1.97it/s]\n"
     ]
    },
    {
     "name": "stdout",
     "output_type": "stream",
     "text": [
      "save AUCTP_att_mask.pkl perturbation scores to /home/lyb/Transparency/data/qa/cnn/input*grad\n",
      "[0.05 0.1  0.2  0.5 ]\n",
      "{'Comprehensiveness': 0.23794904351234436, 'AUCTP': 0.506375}\n",
      "[0.   0.05 0.1  0.2  0.3  0.4  0.5  0.6  0.7  0.8  0.9 ] [0.867, 0.826, 0.756, 0.646, 0.581, 0.523, 0.497, 0.477, 0.459, 0.457, 0.454]\n",
      "replace_func:slice_out, metric:Sufficiency\n",
      "/home/lyb/Transparency/data/qa/cnn/input*grad\n",
      "load exp scores from outputs/qa/babi_1/cnn(1,3,5,7)+tanh/Mon_Jan_17_22:06:23_2022/input*grad_bz256.pkl\n"
     ]
    },
    {
     "name": "stderr",
     "output_type": "stream",
     "text": [
      "100%|██████████| 4/4 [00:00<00:00,  4.30it/s]\n"
     ]
    },
    {
     "name": "stdout",
     "output_type": "stream",
     "text": [
      "save Sufficiency_slice_out.pkl perturbation scores to /home/lyb/Transparency/data/qa/cnn/input*grad\n",
      "Calculate Sufficiency for [0.5  0.8  0.9  0.95]\n",
      "replace_func:zeros_mask, metric:Sufficiency\n",
      "/home/lyb/Transparency/data/qa/cnn/input*grad\n",
      "load exp scores from outputs/qa/babi_1/cnn(1,3,5,7)+tanh/Mon_Jan_17_22:06:23_2022/input*grad_bz256.pkl\n"
     ]
    },
    {
     "name": "stderr",
     "output_type": "stream",
     "text": [
      "100%|██████████| 4/4 [00:00<00:00,  4.53it/s]\n"
     ]
    },
    {
     "name": "stdout",
     "output_type": "stream",
     "text": [
      "save Sufficiency_zeros_mask.pkl perturbation scores to /home/lyb/Transparency/data/qa/cnn/input*grad\n",
      "Calculate Sufficiency for [0.5  0.8  0.9  0.95]\n",
      "replace_func:att_mask, metric:Sufficiency\n",
      "/home/lyb/Transparency/data/qa/cnn/input*grad\n",
      "load exp scores from outputs/qa/babi_1/cnn(1,3,5,7)+tanh/Mon_Jan_17_22:06:23_2022/input*grad_bz256.pkl\n"
     ]
    },
    {
     "name": "stderr",
     "output_type": "stream",
     "text": [
      "100%|██████████| 4/4 [00:00<00:00,  4.19it/s]\n"
     ]
    },
    {
     "name": "stdout",
     "output_type": "stream",
     "text": [
      "save Sufficiency_att_mask.pkl perturbation scores to /home/lyb/Transparency/data/qa/cnn/input*grad\n",
      "Calculate Sufficiency for [0.5  0.8  0.9  0.95]\n",
      "{'AUCTP': 0.2786, 'Violation': 0.1906666656335195, 'Sufficiency': 0.2724077006181081, 'Comprehensiveness': 0.5801009635130564, 'RC': 0.24400912628819546}\n",
      "{'AUCTP': [0.1696, 0.159825, 0.506375], 'Violation': [0.16899999976158142, 0.13699999451637268, 0.26600000262260437], 'Sufficiency': [0.3304062485694885, 0.26245540380477905, 0.22436144948005676], 'Comprehensiveness': [0.7448213696479797, 0.7575324773788452, 0.23794904351234436], 'RC': [0.32703840732574463, 0.39910435676574707, 0.005884614773094654]}\n",
      "#################### dataset:babi_1, model:cnn_tanh, exp_type:att_norm  ####################\n",
      "replace_func:slice_out, metric:Violation\n",
      "/home/lyb/Transparency/data/qa/cnn/att_norm\n",
      "Violation mask size must be 1\n"
     ]
    },
    {
     "name": "stderr",
     "output_type": "stream",
     "text": [
      "100%|██████████| 4/4 [00:02<00:00,  1.72it/s]\n"
     ]
    },
    {
     "name": "stdout",
     "output_type": "stream",
     "text": [
      "save Violation_slice_out.pkl perturbation scores to /home/lyb/Transparency/data/qa/cnn/att_norm\n",
      "num. of violators: 215, ratio:21.50%\n",
      "replace_func:zeros_mask, metric:Violation\n",
      "/home/lyb/Transparency/data/qa/cnn/att_norm\n",
      "load exp scores from outputs/qa/babi_1/cnn(1,3,5,7)+tanh/Mon_Jan_17_22:06:23_2022/att_norm_bz256.pkl\n",
      "Violation mask size must be 1\n"
     ]
    },
    {
     "name": "stderr",
     "output_type": "stream",
     "text": [
      "100%|██████████| 4/4 [00:02<00:00,  1.72it/s]\n"
     ]
    },
    {
     "name": "stdout",
     "output_type": "stream",
     "text": [
      "save Violation_zeros_mask.pkl perturbation scores to /home/lyb/Transparency/data/qa/cnn/att_norm\n",
      "num. of violators: 296, ratio:29.60%\n",
      "replace_func:att_mask, metric:Violation\n",
      "/home/lyb/Transparency/data/qa/cnn/att_norm\n",
      "load exp scores from outputs/qa/babi_1/cnn(1,3,5,7)+tanh/Mon_Jan_17_22:06:23_2022/att_norm_bz256.pkl\n",
      "Violation mask size must be 1\n"
     ]
    },
    {
     "name": "stderr",
     "output_type": "stream",
     "text": [
      "100%|██████████| 4/4 [00:02<00:00,  1.73it/s]\n"
     ]
    },
    {
     "name": "stdout",
     "output_type": "stream",
     "text": [
      "save Violation_att_mask.pkl perturbation scores to /home/lyb/Transparency/data/qa/cnn/att_norm\n",
      "num. of violators: 160, ratio:16.00%\n",
      "replace_func:slice_out, metric:RC\n",
      "/home/lyb/Transparency/data/qa/cnn/att_norm\n",
      "load exp scores from outputs/qa/babi_1/cnn(1,3,5,7)+tanh/Mon_Jan_17_22:06:23_2022/att_norm_bz256.pkl\n"
     ]
    },
    {
     "name": "stderr",
     "output_type": "stream",
     "text": [
      "100%|██████████| 4/4 [00:02<00:00,  1.70it/s]\n"
     ]
    },
    {
     "name": "stdout",
     "output_type": "stream",
     "text": [
      "save RC_slice_out.pkl perturbation scores to /home/lyb/Transparency/data/qa/cnn/att_norm\n",
      " rcc:0.3499065935611725\n",
      "replace_func:zeros_mask, metric:RC\n",
      "/home/lyb/Transparency/data/qa/cnn/att_norm\n",
      "load exp scores from outputs/qa/babi_1/cnn(1,3,5,7)+tanh/Mon_Jan_17_22:06:23_2022/att_norm_bz256.pkl\n"
     ]
    },
    {
     "name": "stderr",
     "output_type": "stream",
     "text": [
      "100%|██████████| 4/4 [00:02<00:00,  1.72it/s]\n"
     ]
    },
    {
     "name": "stdout",
     "output_type": "stream",
     "text": [
      "save RC_zeros_mask.pkl perturbation scores to /home/lyb/Transparency/data/qa/cnn/att_norm\n",
      " rcc:0.3164670169353485\n",
      "replace_func:att_mask, metric:RC\n",
      "/home/lyb/Transparency/data/qa/cnn/att_norm\n",
      "load exp scores from outputs/qa/babi_1/cnn(1,3,5,7)+tanh/Mon_Jan_17_22:06:23_2022/att_norm_bz256.pkl\n"
     ]
    },
    {
     "name": "stderr",
     "output_type": "stream",
     "text": [
      "100%|██████████| 4/4 [00:02<00:00,  1.71it/s]\n"
     ]
    },
    {
     "name": "stdout",
     "output_type": "stream",
     "text": [
      "save RC_att_mask.pkl perturbation scores to /home/lyb/Transparency/data/qa/cnn/att_norm\n",
      " rcc:0.7578846216201782\n",
      "replace_func:slice_out, metric:AUCTP\n",
      "/home/lyb/Transparency/data/qa/cnn/att_norm\n",
      "load exp scores from outputs/qa/babi_1/cnn(1,3,5,7)+tanh/Mon_Jan_17_22:06:23_2022/att_norm_bz256.pkl\n"
     ]
    },
    {
     "name": "stderr",
     "output_type": "stream",
     "text": [
      "100%|██████████| 4/4 [00:01<00:00,  2.04it/s]\n"
     ]
    },
    {
     "name": "stdout",
     "output_type": "stream",
     "text": [
      "save AUCTP_slice_out.pkl perturbation scores to /home/lyb/Transparency/data/qa/cnn/att_norm\n",
      "[0.05 0.1  0.2  0.5 ]\n",
      "{'Comprehensiveness': 0.4984997808933258, 'AUCTP': 0.27977500000000005}\n",
      "[0.   0.05 0.1  0.2  0.3  0.4  0.5  0.6  0.7  0.8  0.9 ] [0.867, 0.543, 0.48, 0.362, 0.331, 0.281, 0.254, 0.247, 0.211, 0.177, 0.173]\n",
      "replace_func:zeros_mask, metric:AUCTP\n",
      "/home/lyb/Transparency/data/qa/cnn/att_norm\n",
      "load exp scores from outputs/qa/babi_1/cnn(1,3,5,7)+tanh/Mon_Jan_17_22:06:23_2022/att_norm_bz256.pkl\n"
     ]
    },
    {
     "name": "stderr",
     "output_type": "stream",
     "text": [
      "100%|██████████| 4/4 [00:01<00:00,  2.05it/s]\n"
     ]
    },
    {
     "name": "stdout",
     "output_type": "stream",
     "text": [
      "save AUCTP_zeros_mask.pkl perturbation scores to /home/lyb/Transparency/data/qa/cnn/att_norm\n",
      "[0.05 0.1  0.2  0.5 ]\n",
      "{'Comprehensiveness': 0.3476234972476959, 'AUCTP': 0.337275}\n",
      "[0.   0.05 0.1  0.2  0.3  0.4  0.5  0.6  0.7  0.8  0.9 ] [0.867, 0.754, 0.672, 0.495, 0.425, 0.325, 0.291, 0.255, 0.2, 0.192, 0.184]\n",
      "replace_func:att_mask, metric:AUCTP\n",
      "/home/lyb/Transparency/data/qa/cnn/att_norm\n",
      "load exp scores from outputs/qa/babi_1/cnn(1,3,5,7)+tanh/Mon_Jan_17_22:06:23_2022/att_norm_bz256.pkl\n"
     ]
    },
    {
     "name": "stderr",
     "output_type": "stream",
     "text": [
      "100%|██████████| 4/4 [00:01<00:00,  2.07it/s]\n"
     ]
    },
    {
     "name": "stdout",
     "output_type": "stream",
     "text": [
      "save AUCTP_att_mask.pkl perturbation scores to /home/lyb/Transparency/data/qa/cnn/att_norm\n",
      "[0.05 0.1  0.2  0.5 ]\n",
      "{'Comprehensiveness': 0.5965682864189148, 'AUCTP': 0.212375}\n",
      "[0.   0.05 0.1  0.2  0.3  0.4  0.5  0.6  0.7  0.8  0.9 ] [0.867, 0.431, 0.372, 0.256, 0.2, 0.175, 0.183, 0.18, 0.164, 0.167, 0.175]\n",
      "replace_func:slice_out, metric:Sufficiency\n",
      "/home/lyb/Transparency/data/qa/cnn/att_norm\n",
      "load exp scores from outputs/qa/babi_1/cnn(1,3,5,7)+tanh/Mon_Jan_17_22:06:23_2022/att_norm_bz256.pkl\n"
     ]
    },
    {
     "name": "stderr",
     "output_type": "stream",
     "text": [
      "100%|██████████| 4/4 [00:00<00:00,  4.29it/s]\n"
     ]
    },
    {
     "name": "stdout",
     "output_type": "stream",
     "text": [
      "save Sufficiency_slice_out.pkl perturbation scores to /home/lyb/Transparency/data/qa/cnn/att_norm\n",
      "Calculate Sufficiency for [0.5  0.8  0.9  0.95]\n",
      "replace_func:zeros_mask, metric:Sufficiency\n",
      "/home/lyb/Transparency/data/qa/cnn/att_norm\n",
      "load exp scores from outputs/qa/babi_1/cnn(1,3,5,7)+tanh/Mon_Jan_17_22:06:23_2022/att_norm_bz256.pkl\n"
     ]
    },
    {
     "name": "stderr",
     "output_type": "stream",
     "text": [
      "100%|██████████| 4/4 [00:00<00:00,  4.55it/s]\n"
     ]
    },
    {
     "name": "stdout",
     "output_type": "stream",
     "text": [
      "save Sufficiency_zeros_mask.pkl perturbation scores to /home/lyb/Transparency/data/qa/cnn/att_norm\n",
      "Calculate Sufficiency for [0.5  0.8  0.9  0.95]\n",
      "replace_func:att_mask, metric:Sufficiency\n",
      "/home/lyb/Transparency/data/qa/cnn/att_norm\n",
      "load exp scores from outputs/qa/babi_1/cnn(1,3,5,7)+tanh/Mon_Jan_17_22:06:23_2022/att_norm_bz256.pkl\n"
     ]
    },
    {
     "name": "stderr",
     "output_type": "stream",
     "text": [
      "100%|██████████| 4/4 [00:00<00:00,  4.43it/s]\n",
      "INFO - 2022-01-20 11:36:11,115 - type = rnn\n",
      "INFO - 2022-01-20 11:36:11,116 - vocab_size = 24\n",
      "INFO - 2022-01-20 11:36:11,117 - embed_size = 50\n",
      "INFO - 2022-01-20 11:36:11,118 - hidden_size = 32\n",
      "INFO - 2022-01-20 11:36:11,119 - pre_embed = None\n",
      "INFO - 2022-01-20 11:36:11,122 - type = rnn\n",
      "INFO - 2022-01-20 11:36:11,123 - vocab_size = 24\n",
      "INFO - 2022-01-20 11:36:11,124 - embed_size = 50\n",
      "INFO - 2022-01-20 11:36:11,124 - hidden_size = 32\n",
      "INFO - 2022-01-20 11:36:11,125 - pre_embed = None\n",
      "INFO - 2022-01-20 11:36:11,128 - hidden_size = 64\n",
      "INFO - 2022-01-20 11:36:11,129 - attention.type = dot_qa\n",
      "INFO - 2022-01-20 11:36:11,130 - attention.type = dot_qa\n",
      "INFO - 2022-01-20 11:36:11,131 - output_size = 36\n",
      "INFO - 2022-01-20 11:36:11,132 - use_attention = True\n",
      "INFO - 2022-01-20 11:36:11,132 - regularizer_attention = None\n",
      "INFO - 2022-01-20 11:36:11,134 - type = dot_qa\n",
      "INFO - 2022-01-20 11:36:11,135 - hidden_size = 64\n"
     ]
    },
    {
     "name": "stdout",
     "output_type": "stream",
     "text": [
      "save Sufficiency_att_mask.pkl perturbation scores to /home/lyb/Transparency/data/qa/cnn/att_norm\n",
      "Calculate Sufficiency for [0.5  0.8  0.9  0.95]\n",
      "{'AUCTP': 0.276475, 'Violation': 0.22366666793823242, 'Sufficiency': 0.280289491560931, 'Comprehensiveness': 0.4808971881866455, 'RC': 0.4747527440388997}\n",
      "{'AUCTP': [0.27977500000000005, 0.337275, 0.212375], 'Violation': [0.2150000035762787, 0.29600000381469727, 0.1599999964237213], 'Sufficiency': [0.4273373484611511, 0.4150877594947815, -0.001556633273139596], 'Comprehensiveness': [0.4984997808933258, 0.3476234972476959, 0.5965682864189148], 'RC': [0.3499065935611725, 0.3164670169353485, 0.7578846216201782]}\n",
      "#################### dataset:babi_1, model:lstm_dot, exp_type:att*grad  ####################\n",
      "replace_func:slice_out, metric:Violation\n",
      "/home/lyb/Transparency/data/qa/lstm_dot/att*grad\n",
      "Violation mask size must be 1\n"
     ]
    },
    {
     "name": "stderr",
     "output_type": "stream",
     "text": [
      "100%|██████████| 4/4 [00:00<00:00,  4.43it/s]\n"
     ]
    },
    {
     "name": "stdout",
     "output_type": "stream",
     "text": [
      "save Violation_slice_out.pkl perturbation scores to /home/lyb/Transparency/data/qa/lstm_dot/att*grad\n",
      "num. of violators: 0, ratio:0.00%\n",
      "replace_func:zeros_mask, metric:Violation\n",
      "/home/lyb/Transparency/data/qa/lstm_dot/att*grad\n",
      "load exp scores from outputs/qa/babi_1/lstm+dot/Mon_Jan_17_22:25:05_2022/att*grad_bz256.pkl\n",
      "Violation mask size must be 1\n"
     ]
    },
    {
     "name": "stderr",
     "output_type": "stream",
     "text": [
      "100%|██████████| 4/4 [00:00<00:00,  4.88it/s]\n"
     ]
    },
    {
     "name": "stdout",
     "output_type": "stream",
     "text": [
      "save Violation_zeros_mask.pkl perturbation scores to /home/lyb/Transparency/data/qa/lstm_dot/att*grad\n",
      "num. of violators: 0, ratio:0.00%\n",
      "replace_func:att_mask, metric:Violation\n",
      "/home/lyb/Transparency/data/qa/lstm_dot/att*grad\n",
      "load exp scores from outputs/qa/babi_1/lstm+dot/Mon_Jan_17_22:25:05_2022/att*grad_bz256.pkl\n",
      "Violation mask size must be 1\n"
     ]
    },
    {
     "name": "stderr",
     "output_type": "stream",
     "text": [
      "100%|██████████| 4/4 [00:00<00:00,  5.69it/s]\n"
     ]
    },
    {
     "name": "stdout",
     "output_type": "stream",
     "text": [
      "save Violation_att_mask.pkl perturbation scores to /home/lyb/Transparency/data/qa/lstm_dot/att*grad\n",
      "num. of violators: 0, ratio:0.00%\n",
      "replace_func:slice_out, metric:RC\n",
      "/home/lyb/Transparency/data/qa/lstm_dot/att*grad\n",
      "load exp scores from outputs/qa/babi_1/lstm+dot/Mon_Jan_17_22:25:05_2022/att*grad_bz256.pkl\n"
     ]
    },
    {
     "name": "stderr",
     "output_type": "stream",
     "text": [
      "100%|██████████| 4/4 [00:00<00:00,  5.56it/s]\n"
     ]
    },
    {
     "name": "stdout",
     "output_type": "stream",
     "text": [
      "save RC_slice_out.pkl perturbation scores to /home/lyb/Transparency/data/qa/lstm_dot/att*grad\n",
      " rcc:0.4412747323513031\n",
      "replace_func:zeros_mask, metric:RC\n",
      "/home/lyb/Transparency/data/qa/lstm_dot/att*grad\n",
      "load exp scores from outputs/qa/babi_1/lstm+dot/Mon_Jan_17_22:25:05_2022/att*grad_bz256.pkl\n"
     ]
    },
    {
     "name": "stderr",
     "output_type": "stream",
     "text": [
      "100%|██████████| 4/4 [00:00<00:00,  5.75it/s]\n"
     ]
    },
    {
     "name": "stdout",
     "output_type": "stream",
     "text": [
      "save RC_zeros_mask.pkl perturbation scores to /home/lyb/Transparency/data/qa/lstm_dot/att*grad\n",
      " rcc:0.5014615654945374\n",
      "replace_func:att_mask, metric:RC\n",
      "/home/lyb/Transparency/data/qa/lstm_dot/att*grad\n",
      "load exp scores from outputs/qa/babi_1/lstm+dot/Mon_Jan_17_22:25:05_2022/att*grad_bz256.pkl\n"
     ]
    },
    {
     "name": "stderr",
     "output_type": "stream",
     "text": [
      "100%|██████████| 4/4 [00:00<00:00,  5.73it/s]\n"
     ]
    },
    {
     "name": "stdout",
     "output_type": "stream",
     "text": [
      "save RC_att_mask.pkl perturbation scores to /home/lyb/Transparency/data/qa/lstm_dot/att*grad\n",
      " rcc:0.8714835047721863\n",
      "replace_func:slice_out, metric:AUCTP\n",
      "/home/lyb/Transparency/data/qa/lstm_dot/att*grad\n",
      "load exp scores from outputs/qa/babi_1/lstm+dot/Mon_Jan_17_22:25:05_2022/att*grad_bz256.pkl\n"
     ]
    },
    {
     "name": "stderr",
     "output_type": "stream",
     "text": [
      "100%|██████████| 4/4 [00:00<00:00,  6.92it/s]\n"
     ]
    },
    {
     "name": "stdout",
     "output_type": "stream",
     "text": [
      "save AUCTP_slice_out.pkl perturbation scores to /home/lyb/Transparency/data/qa/lstm_dot/att*grad\n",
      "[0.05 0.1  0.2  0.5 ]\n",
      "{'Comprehensiveness': 0.9488627910614014, 'AUCTP': 0.049975000000000006}\n",
      "[0.   0.05 0.1  0.2  0.3  0.4  0.5  0.6  0.7  0.8  0.9 ] [0.994, 0.076, 0.047, 0.02, 0.011, 0.01, 0.01, 0.012, 0.039, 0.045, 0.062]\n",
      "replace_func:zeros_mask, metric:AUCTP\n",
      "/home/lyb/Transparency/data/qa/lstm_dot/att*grad\n",
      "load exp scores from outputs/qa/babi_1/lstm+dot/Mon_Jan_17_22:25:05_2022/att*grad_bz256.pkl\n"
     ]
    },
    {
     "name": "stderr",
     "output_type": "stream",
     "text": [
      "100%|██████████| 4/4 [00:00<00:00,  6.54it/s]\n"
     ]
    },
    {
     "name": "stdout",
     "output_type": "stream",
     "text": [
      "save AUCTP_zeros_mask.pkl perturbation scores to /home/lyb/Transparency/data/qa/lstm_dot/att*grad\n",
      "[0.05 0.1  0.2  0.5 ]\n",
      "{'Comprehensiveness': 0.9439504146575928, 'AUCTP': 0.04257500000000001}\n",
      "[0.   0.05 0.1  0.2  0.3  0.4  0.5  0.6  0.7  0.8  0.9 ] [0.994, 0.079, 0.049, 0.02, 0.018, 0.008, 0.01, 0.015, 0.013, 0.013, 0.008]\n",
      "replace_func:att_mask, metric:AUCTP\n",
      "/home/lyb/Transparency/data/qa/lstm_dot/att*grad\n",
      "load exp scores from outputs/qa/babi_1/lstm+dot/Mon_Jan_17_22:25:05_2022/att*grad_bz256.pkl\n"
     ]
    },
    {
     "name": "stderr",
     "output_type": "stream",
     "text": [
      "100%|██████████| 4/4 [00:00<00:00,  5.44it/s]\n"
     ]
    },
    {
     "name": "stdout",
     "output_type": "stream",
     "text": [
      "save AUCTP_att_mask.pkl perturbation scores to /home/lyb/Transparency/data/qa/lstm_dot/att*grad\n",
      "[0.05 0.1  0.2  0.5 ]\n",
      "{'Comprehensiveness': 0.9088053703308105, 'AUCTP': 0.058225}\n",
      "[0.   0.05 0.1  0.2  0.3  0.4  0.5  0.6  0.7  0.8  0.9 ] [0.994, 0.153, 0.099, 0.05, 0.031, 0.024, 0.02, 0.02, 0.015, 0.018, 0.01]\n",
      "replace_func:slice_out, metric:Sufficiency\n",
      "/home/lyb/Transparency/data/qa/lstm_dot/att*grad\n",
      "load exp scores from outputs/qa/babi_1/lstm+dot/Mon_Jan_17_22:25:05_2022/att*grad_bz256.pkl\n"
     ]
    },
    {
     "name": "stderr",
     "output_type": "stream",
     "text": [
      "100%|██████████| 4/4 [00:00<00:00, 12.84it/s]\n"
     ]
    },
    {
     "name": "stdout",
     "output_type": "stream",
     "text": [
      "save Sufficiency_slice_out.pkl perturbation scores to /home/lyb/Transparency/data/qa/lstm_dot/att*grad\n",
      "Calculate Sufficiency for [0.5  0.8  0.9  0.95]\n",
      "replace_func:zeros_mask, metric:Sufficiency\n",
      "/home/lyb/Transparency/data/qa/lstm_dot/att*grad\n",
      "load exp scores from outputs/qa/babi_1/lstm+dot/Mon_Jan_17_22:25:05_2022/att*grad_bz256.pkl\n"
     ]
    },
    {
     "name": "stderr",
     "output_type": "stream",
     "text": [
      "100%|██████████| 4/4 [00:00<00:00, 11.04it/s]\n"
     ]
    },
    {
     "name": "stdout",
     "output_type": "stream",
     "text": [
      "save Sufficiency_zeros_mask.pkl perturbation scores to /home/lyb/Transparency/data/qa/lstm_dot/att*grad\n",
      "Calculate Sufficiency for [0.5  0.8  0.9  0.95]\n",
      "replace_func:att_mask, metric:Sufficiency\n",
      "/home/lyb/Transparency/data/qa/lstm_dot/att*grad\n",
      "load exp scores from outputs/qa/babi_1/lstm+dot/Mon_Jan_17_22:25:05_2022/att*grad_bz256.pkl\n"
     ]
    },
    {
     "name": "stderr",
     "output_type": "stream",
     "text": [
      "100%|██████████| 4/4 [00:00<00:00, 11.49it/s]\n"
     ]
    },
    {
     "name": "stdout",
     "output_type": "stream",
     "text": [
      "save Sufficiency_att_mask.pkl perturbation scores to /home/lyb/Transparency/data/qa/lstm_dot/att*grad\n",
      "Calculate Sufficiency for [0.5  0.8  0.9  0.95]\n",
      "{'AUCTP': 0.05025833333333334, 'Violation': 0.0, 'Sufficiency': 0.11693637693921725, 'Comprehensiveness': 0.9338728586832682, 'RC': 0.6047399342060089}\n",
      "{'AUCTP': [0.049975000000000006, 0.04257500000000001, 0.058225], 'Violation': [0.0, 0.0, 0.0], 'Sufficiency': [0.3255578577518463, 0.03864431753754616, -0.013393044471740723], 'Comprehensiveness': [0.9488627910614014, 0.9439504146575928, 0.9088053703308105], 'RC': [0.4412747323513031, 0.5014615654945374, 0.8714835047721863]}\n",
      "#################### dataset:babi_1, model:lstm_dot, exp_type:att  ####################\n",
      "replace_func:slice_out, metric:Violation\n",
      "/home/lyb/Transparency/data/qa/lstm_dot/att\n",
      "Violation mask size must be 1\n"
     ]
    },
    {
     "name": "stderr",
     "output_type": "stream",
     "text": [
      "100%|██████████| 4/4 [00:00<00:00,  4.82it/s]\n"
     ]
    },
    {
     "name": "stdout",
     "output_type": "stream",
     "text": [
      "save Violation_slice_out.pkl perturbation scores to /home/lyb/Transparency/data/qa/lstm_dot/att\n",
      "num. of violators: 6, ratio:0.60%\n",
      "replace_func:zeros_mask, metric:Violation\n",
      "/home/lyb/Transparency/data/qa/lstm_dot/att\n",
      "load exp scores from outputs/qa/babi_1/lstm+dot/Mon_Jan_17_22:25:05_2022/att_bz256.pkl\n",
      "Violation mask size must be 1\n"
     ]
    },
    {
     "name": "stderr",
     "output_type": "stream",
     "text": [
      "100%|██████████| 4/4 [00:00<00:00,  4.86it/s]\n"
     ]
    },
    {
     "name": "stdout",
     "output_type": "stream",
     "text": [
      "save Violation_zeros_mask.pkl perturbation scores to /home/lyb/Transparency/data/qa/lstm_dot/att\n",
      "num. of violators: 6, ratio:0.60%\n",
      "replace_func:att_mask, metric:Violation\n",
      "/home/lyb/Transparency/data/qa/lstm_dot/att\n",
      "load exp scores from outputs/qa/babi_1/lstm+dot/Mon_Jan_17_22:25:05_2022/att_bz256.pkl\n",
      "Violation mask size must be 1\n"
     ]
    },
    {
     "name": "stderr",
     "output_type": "stream",
     "text": [
      "100%|██████████| 4/4 [00:00<00:00,  4.94it/s]\n"
     ]
    },
    {
     "name": "stdout",
     "output_type": "stream",
     "text": [
      "save Violation_att_mask.pkl perturbation scores to /home/lyb/Transparency/data/qa/lstm_dot/att\n",
      "num. of violators: 6, ratio:0.60%\n",
      "replace_func:slice_out, metric:RC\n",
      "/home/lyb/Transparency/data/qa/lstm_dot/att\n",
      "load exp scores from outputs/qa/babi_1/lstm+dot/Mon_Jan_17_22:25:05_2022/att_bz256.pkl\n"
     ]
    },
    {
     "name": "stderr",
     "output_type": "stream",
     "text": [
      "100%|██████████| 4/4 [00:00<00:00,  5.40it/s]\n"
     ]
    },
    {
     "name": "stdout",
     "output_type": "stream",
     "text": [
      "save RC_slice_out.pkl perturbation scores to /home/lyb/Transparency/data/qa/lstm_dot/att\n",
      " rcc:0.4236593246459961\n",
      "replace_func:zeros_mask, metric:RC\n",
      "/home/lyb/Transparency/data/qa/lstm_dot/att\n",
      "load exp scores from outputs/qa/babi_1/lstm+dot/Mon_Jan_17_22:25:05_2022/att_bz256.pkl\n"
     ]
    },
    {
     "name": "stderr",
     "output_type": "stream",
     "text": [
      "100%|██████████| 4/4 [00:00<00:00,  5.77it/s]\n"
     ]
    },
    {
     "name": "stdout",
     "output_type": "stream",
     "text": [
      "save RC_zeros_mask.pkl perturbation scores to /home/lyb/Transparency/data/qa/lstm_dot/att\n",
      " rcc:0.48680219054222107\n",
      "replace_func:att_mask, metric:RC\n",
      "/home/lyb/Transparency/data/qa/lstm_dot/att\n",
      "load exp scores from outputs/qa/babi_1/lstm+dot/Mon_Jan_17_22:25:05_2022/att_bz256.pkl\n"
     ]
    },
    {
     "name": "stderr",
     "output_type": "stream",
     "text": [
      "100%|██████████| 4/4 [00:00<00:00,  5.66it/s]\n"
     ]
    },
    {
     "name": "stdout",
     "output_type": "stream",
     "text": [
      "save RC_att_mask.pkl perturbation scores to /home/lyb/Transparency/data/qa/lstm_dot/att\n",
      " rcc:0.8250330090522766\n",
      "replace_func:slice_out, metric:AUCTP\n",
      "/home/lyb/Transparency/data/qa/lstm_dot/att\n",
      "load exp scores from outputs/qa/babi_1/lstm+dot/Mon_Jan_17_22:25:05_2022/att_bz256.pkl\n"
     ]
    },
    {
     "name": "stderr",
     "output_type": "stream",
     "text": [
      "100%|██████████| 4/4 [00:00<00:00,  5.91it/s]\n"
     ]
    },
    {
     "name": "stdout",
     "output_type": "stream",
     "text": [
      "save AUCTP_slice_out.pkl perturbation scores to /home/lyb/Transparency/data/qa/lstm_dot/att\n",
      "[0.05 0.1  0.2  0.5 ]\n",
      "{'Comprehensiveness': 0.8277531862258911, 'AUCTP': 0.17165}\n",
      "[0.   0.05 0.1  0.2  0.3  0.4  0.5  0.6  0.7  0.8  0.9 ] [0.994, 0.109, 0.164, 0.176, 0.174, 0.173, 0.173, 0.17, 0.171, 0.17, 0.167]\n",
      "replace_func:zeros_mask, metric:AUCTP\n",
      "/home/lyb/Transparency/data/qa/lstm_dot/att\n",
      "load exp scores from outputs/qa/babi_1/lstm+dot/Mon_Jan_17_22:25:05_2022/att_bz256.pkl\n"
     ]
    },
    {
     "name": "stderr",
     "output_type": "stream",
     "text": [
      "100%|██████████| 4/4 [00:00<00:00,  5.33it/s]\n"
     ]
    },
    {
     "name": "stdout",
     "output_type": "stream",
     "text": [
      "save AUCTP_zeros_mask.pkl perturbation scores to /home/lyb/Transparency/data/qa/lstm_dot/att\n",
      "[0.05 0.1  0.2  0.5 ]\n",
      "{'Comprehensiveness': 0.8321051001548767, 'AUCTP': 0.16785}\n",
      "[0.   0.05 0.1  0.2  0.3  0.4  0.5  0.6  0.7  0.8  0.9 ] [0.994, 0.111, 0.162, 0.169, 0.168, 0.162, 0.166, 0.168, 0.169, 0.163, 0.176]\n",
      "replace_func:att_mask, metric:AUCTP\n",
      "/home/lyb/Transparency/data/qa/lstm_dot/att\n",
      "load exp scores from outputs/qa/babi_1/lstm+dot/Mon_Jan_17_22:25:05_2022/att_bz256.pkl\n"
     ]
    },
    {
     "name": "stderr",
     "output_type": "stream",
     "text": [
      "100%|██████████| 4/4 [00:00<00:00,  5.37it/s]\n"
     ]
    },
    {
     "name": "stdout",
     "output_type": "stream",
     "text": [
      "save AUCTP_att_mask.pkl perturbation scores to /home/lyb/Transparency/data/qa/lstm_dot/att\n",
      "[0.05 0.1  0.2  0.5 ]\n",
      "{'Comprehensiveness': 0.7303608655929565, 'AUCTP': 0.21342500000000003}\n",
      "[0.   0.05 0.1  0.2  0.3  0.4  0.5  0.6  0.7  0.8  0.9 ] [0.994, 0.207, 0.329, 0.304, 0.235, 0.184, 0.183, 0.178, 0.181, 0.183, 0.175]\n",
      "replace_func:slice_out, metric:Sufficiency\n",
      "/home/lyb/Transparency/data/qa/lstm_dot/att\n",
      "load exp scores from outputs/qa/babi_1/lstm+dot/Mon_Jan_17_22:25:05_2022/att_bz256.pkl\n"
     ]
    },
    {
     "name": "stderr",
     "output_type": "stream",
     "text": [
      "100%|██████████| 4/4 [00:00<00:00, 15.58it/s]\n"
     ]
    },
    {
     "name": "stdout",
     "output_type": "stream",
     "text": [
      "save Sufficiency_slice_out.pkl perturbation scores to /home/lyb/Transparency/data/qa/lstm_dot/att\n",
      "Calculate Sufficiency for [0.5  0.8  0.9  0.95]\n",
      "replace_func:zeros_mask, metric:Sufficiency\n",
      "/home/lyb/Transparency/data/qa/lstm_dot/att\n",
      "load exp scores from outputs/qa/babi_1/lstm+dot/Mon_Jan_17_22:25:05_2022/att_bz256.pkl\n"
     ]
    },
    {
     "name": "stderr",
     "output_type": "stream",
     "text": [
      "100%|██████████| 4/4 [00:00<00:00, 13.55it/s]\n"
     ]
    },
    {
     "name": "stdout",
     "output_type": "stream",
     "text": [
      "save Sufficiency_zeros_mask.pkl perturbation scores to /home/lyb/Transparency/data/qa/lstm_dot/att\n",
      "Calculate Sufficiency for [0.5  0.8  0.9  0.95]\n",
      "replace_func:att_mask, metric:Sufficiency\n",
      "/home/lyb/Transparency/data/qa/lstm_dot/att\n",
      "load exp scores from outputs/qa/babi_1/lstm+dot/Mon_Jan_17_22:25:05_2022/att_bz256.pkl\n"
     ]
    },
    {
     "name": "stderr",
     "output_type": "stream",
     "text": [
      "100%|██████████| 4/4 [00:00<00:00, 11.67it/s]\n"
     ]
    },
    {
     "name": "stdout",
     "output_type": "stream",
     "text": [
      "save Sufficiency_att_mask.pkl perturbation scores to /home/lyb/Transparency/data/qa/lstm_dot/att\n",
      "Calculate Sufficiency for [0.5  0.8  0.9  0.95]\n",
      "{'AUCTP': 0.18430833333333338, 'Violation': 0.006000000052154064, 'Sufficiency': 0.24433721978372583, 'Comprehensiveness': 0.7967397173245748, 'RC': 0.5784981747468313}\n",
      "{'AUCTP': [0.17165, 0.16785, 0.21342500000000003], 'Violation': [0.006000000052154064, 0.006000000052154064, 0.006000000052154064], 'Sufficiency': [0.5710797309875488, 0.1630057990550995, -0.0010738706914708018], 'Comprehensiveness': [0.8277531862258911, 0.8321051001548767, 0.7303608655929565], 'RC': [0.4236593246459961, 0.48680219054222107, 0.8250330090522766]}\n",
      "#################### dataset:babi_1, model:lstm_dot, exp_type:ig  ####################\n",
      "replace_func:slice_out, metric:Violation\n",
      "/home/lyb/Transparency/data/qa/lstm_dot/ig\n",
      "Violation mask size must be 1\n"
     ]
    },
    {
     "name": "stderr",
     "output_type": "stream",
     "text": [
      "100%|██████████| 4/4 [00:03<00:00,  1.02it/s]\n"
     ]
    },
    {
     "name": "stdout",
     "output_type": "stream",
     "text": [
      "save Violation_slice_out.pkl perturbation scores to /home/lyb/Transparency/data/qa/lstm_dot/ig\n",
      "num. of violators: 102, ratio:10.20%\n",
      "replace_func:zeros_mask, metric:Violation\n",
      "/home/lyb/Transparency/data/qa/lstm_dot/ig\n",
      "load exp scores from outputs/qa/babi_1/lstm+dot/Mon_Jan_17_22:25:05_2022/ig_bz256.pkl\n",
      "Violation mask size must be 1\n"
     ]
    },
    {
     "name": "stderr",
     "output_type": "stream",
     "text": [
      "100%|██████████| 4/4 [00:00<00:00,  5.77it/s]\n"
     ]
    },
    {
     "name": "stdout",
     "output_type": "stream",
     "text": [
      "save Violation_zeros_mask.pkl perturbation scores to /home/lyb/Transparency/data/qa/lstm_dot/ig\n",
      "num. of violators: 105, ratio:10.50%\n",
      "replace_func:att_mask, metric:Violation\n",
      "/home/lyb/Transparency/data/qa/lstm_dot/ig\n",
      "load exp scores from outputs/qa/babi_1/lstm+dot/Mon_Jan_17_22:25:05_2022/ig_bz256.pkl\n",
      "Violation mask size must be 1\n"
     ]
    },
    {
     "name": "stderr",
     "output_type": "stream",
     "text": [
      "100%|██████████| 4/4 [00:00<00:00,  4.96it/s]\n"
     ]
    },
    {
     "name": "stdout",
     "output_type": "stream",
     "text": [
      "save Violation_att_mask.pkl perturbation scores to /home/lyb/Transparency/data/qa/lstm_dot/ig\n",
      "num. of violators: 245, ratio:24.50%\n",
      "replace_func:slice_out, metric:RC\n",
      "/home/lyb/Transparency/data/qa/lstm_dot/ig\n",
      "load exp scores from outputs/qa/babi_1/lstm+dot/Mon_Jan_17_22:25:05_2022/ig_bz256.pkl\n"
     ]
    },
    {
     "name": "stderr",
     "output_type": "stream",
     "text": [
      "100%|██████████| 4/4 [00:00<00:00,  5.67it/s]\n"
     ]
    },
    {
     "name": "stdout",
     "output_type": "stream",
     "text": [
      "save RC_slice_out.pkl perturbation scores to /home/lyb/Transparency/data/qa/lstm_dot/ig\n",
      " rcc:0.42021429538726807\n",
      "replace_func:zeros_mask, metric:RC\n",
      "/home/lyb/Transparency/data/qa/lstm_dot/ig\n",
      "load exp scores from outputs/qa/babi_1/lstm+dot/Mon_Jan_17_22:25:05_2022/ig_bz256.pkl\n"
     ]
    },
    {
     "name": "stderr",
     "output_type": "stream",
     "text": [
      "100%|██████████| 4/4 [00:00<00:00,  5.74it/s]\n"
     ]
    },
    {
     "name": "stdout",
     "output_type": "stream",
     "text": [
      "save RC_zeros_mask.pkl perturbation scores to /home/lyb/Transparency/data/qa/lstm_dot/ig\n",
      " rcc:0.4324011206626892\n",
      "replace_func:att_mask, metric:RC\n",
      "/home/lyb/Transparency/data/qa/lstm_dot/ig\n",
      "load exp scores from outputs/qa/babi_1/lstm+dot/Mon_Jan_17_22:25:05_2022/ig_bz256.pkl\n"
     ]
    },
    {
     "name": "stderr",
     "output_type": "stream",
     "text": [
      "100%|██████████| 4/4 [00:00<00:00,  5.55it/s]\n"
     ]
    },
    {
     "name": "stdout",
     "output_type": "stream",
     "text": [
      "save RC_att_mask.pkl perturbation scores to /home/lyb/Transparency/data/qa/lstm_dot/ig\n",
      " rcc:0.24107693135738373\n",
      "replace_func:slice_out, metric:AUCTP\n",
      "/home/lyb/Transparency/data/qa/lstm_dot/ig\n",
      "load exp scores from outputs/qa/babi_1/lstm+dot/Mon_Jan_17_22:25:05_2022/ig_bz256.pkl\n"
     ]
    },
    {
     "name": "stderr",
     "output_type": "stream",
     "text": [
      "100%|██████████| 4/4 [00:00<00:00,  6.57it/s]\n"
     ]
    },
    {
     "name": "stdout",
     "output_type": "stream",
     "text": [
      "save AUCTP_slice_out.pkl perturbation scores to /home/lyb/Transparency/data/qa/lstm_dot/ig\n",
      "[0.05 0.1  0.2  0.5 ]\n",
      "{'Comprehensiveness': 0.8731122016906738, 'AUCTP': 0.07452500000000001}\n",
      "[0.   0.05 0.1  0.2  0.3  0.4  0.5  0.6  0.7  0.8  0.9 ] [0.994, 0.241, 0.137, 0.05, 0.028, 0.019, 0.022, 0.026, 0.042, 0.048, 0.077]\n",
      "replace_func:zeros_mask, metric:AUCTP\n",
      "/home/lyb/Transparency/data/qa/lstm_dot/ig\n",
      "load exp scores from outputs/qa/babi_1/lstm+dot/Mon_Jan_17_22:25:05_2022/ig_bz256.pkl\n"
     ]
    },
    {
     "name": "stderr",
     "output_type": "stream",
     "text": [
      "100%|██████████| 4/4 [00:00<00:00,  6.24it/s]\n"
     ]
    },
    {
     "name": "stdout",
     "output_type": "stream",
     "text": [
      "save AUCTP_zeros_mask.pkl perturbation scores to /home/lyb/Transparency/data/qa/lstm_dot/ig\n",
      "[0.05 0.1  0.2  0.5 ]\n",
      "{'Comprehensiveness': 0.8700248003005981, 'AUCTP': 0.06344999999999999}\n",
      "[0.   0.05 0.1  0.2  0.3  0.4  0.5  0.6  0.7  0.8  0.9 ] [0.994, 0.249, 0.138, 0.055, 0.024, 0.019, 0.015, 0.013, 0.01, 0.015, 0.014]\n",
      "replace_func:att_mask, metric:AUCTP\n",
      "/home/lyb/Transparency/data/qa/lstm_dot/ig\n",
      "load exp scores from outputs/qa/babi_1/lstm+dot/Mon_Jan_17_22:25:05_2022/ig_bz256.pkl\n"
     ]
    },
    {
     "name": "stderr",
     "output_type": "stream",
     "text": [
      "100%|██████████| 4/4 [00:00<00:00,  6.50it/s]\n"
     ]
    },
    {
     "name": "stdout",
     "output_type": "stream",
     "text": [
      "save AUCTP_att_mask.pkl perturbation scores to /home/lyb/Transparency/data/qa/lstm_dot/ig\n",
      "[0.05 0.1  0.2  0.5 ]\n",
      "{'Comprehensiveness': 0.732158362865448, 'AUCTP': 0.1391}\n",
      "[0.   0.05 0.1  0.2  0.3  0.4  0.5  0.6  0.7  0.8  0.9 ] [0.994, 0.481, 0.3, 0.172, 0.128, 0.097, 0.076, 0.06, 0.058, 0.057, 0.058]\n",
      "replace_func:slice_out, metric:Sufficiency\n",
      "/home/lyb/Transparency/data/qa/lstm_dot/ig\n",
      "load exp scores from outputs/qa/babi_1/lstm+dot/Mon_Jan_17_22:25:05_2022/ig_bz256.pkl\n"
     ]
    },
    {
     "name": "stderr",
     "output_type": "stream",
     "text": [
      "100%|██████████| 4/4 [00:00<00:00, 14.88it/s]\n"
     ]
    },
    {
     "name": "stdout",
     "output_type": "stream",
     "text": [
      "save Sufficiency_slice_out.pkl perturbation scores to /home/lyb/Transparency/data/qa/lstm_dot/ig\n",
      "Calculate Sufficiency for [0.5  0.8  0.9  0.95]\n",
      "replace_func:zeros_mask, metric:Sufficiency\n",
      "/home/lyb/Transparency/data/qa/lstm_dot/ig\n",
      "load exp scores from outputs/qa/babi_1/lstm+dot/Mon_Jan_17_22:25:05_2022/ig_bz256.pkl\n"
     ]
    },
    {
     "name": "stderr",
     "output_type": "stream",
     "text": [
      "100%|██████████| 4/4 [00:00<00:00, 12.93it/s]\n"
     ]
    },
    {
     "name": "stdout",
     "output_type": "stream",
     "text": [
      "save Sufficiency_zeros_mask.pkl perturbation scores to /home/lyb/Transparency/data/qa/lstm_dot/ig\n",
      "Calculate Sufficiency for [0.5  0.8  0.9  0.95]\n",
      "replace_func:att_mask, metric:Sufficiency\n",
      "/home/lyb/Transparency/data/qa/lstm_dot/ig\n",
      "load exp scores from outputs/qa/babi_1/lstm+dot/Mon_Jan_17_22:25:05_2022/ig_bz256.pkl\n"
     ]
    },
    {
     "name": "stderr",
     "output_type": "stream",
     "text": [
      "100%|██████████| 4/4 [00:00<00:00, 14.02it/s]\n"
     ]
    },
    {
     "name": "stdout",
     "output_type": "stream",
     "text": [
      "save Sufficiency_att_mask.pkl perturbation scores to /home/lyb/Transparency/data/qa/lstm_dot/ig\n",
      "Calculate Sufficiency for [0.5  0.8  0.9  0.95]\n",
      "{'AUCTP': 0.09235833333333333, 'Violation': 0.15066666652758917, 'Sufficiency': 0.13115166065593561, 'Comprehensiveness': 0.82509845495224, 'RC': 0.364564115802447}\n",
      "{'AUCTP': [0.07452500000000001, 0.06344999999999999, 0.1391], 'Violation': [0.10199999809265137, 0.10499999672174454, 0.24500000476837158], 'Sufficiency': [0.35825586318969727, 0.043080635368824005, -0.007881516590714455], 'Comprehensiveness': [0.8731122016906738, 0.8700248003005981, 0.732158362865448], 'RC': [0.42021429538726807, 0.4324011206626892, 0.24107693135738373]}\n",
      "#################### dataset:babi_1, model:lstm_dot, exp_type:rand  ####################\n",
      "replace_func:slice_out, metric:Violation\n",
      "/home/lyb/Transparency/data/qa/lstm_dot/rand\n",
      "Violation mask size must be 1\n"
     ]
    },
    {
     "name": "stderr",
     "output_type": "stream",
     "text": [
      "100%|██████████| 4/4 [00:00<00:00,  5.69it/s]\n"
     ]
    },
    {
     "name": "stdout",
     "output_type": "stream",
     "text": [
      "save Violation_slice_out.pkl perturbation scores to /home/lyb/Transparency/data/qa/lstm_dot/rand\n",
      "num. of violators: 483, ratio:48.30%\n",
      "replace_func:zeros_mask, metric:Violation\n",
      "/home/lyb/Transparency/data/qa/lstm_dot/rand\n",
      "load exp scores from outputs/qa/babi_1/lstm+dot/Mon_Jan_17_22:25:05_2022/rand_bz256.pkl\n",
      "Violation mask size must be 1\n"
     ]
    },
    {
     "name": "stderr",
     "output_type": "stream",
     "text": [
      "100%|██████████| 4/4 [00:00<00:00,  5.56it/s]\n"
     ]
    },
    {
     "name": "stdout",
     "output_type": "stream",
     "text": [
      "save Violation_zeros_mask.pkl perturbation scores to /home/lyb/Transparency/data/qa/lstm_dot/rand\n",
      "num. of violators: 362, ratio:36.20%\n",
      "replace_func:att_mask, metric:Violation\n",
      "/home/lyb/Transparency/data/qa/lstm_dot/rand\n",
      "load exp scores from outputs/qa/babi_1/lstm+dot/Mon_Jan_17_22:25:05_2022/rand_bz256.pkl\n",
      "Violation mask size must be 1\n"
     ]
    },
    {
     "name": "stderr",
     "output_type": "stream",
     "text": [
      "100%|██████████| 4/4 [00:00<00:00,  5.92it/s]\n"
     ]
    },
    {
     "name": "stdout",
     "output_type": "stream",
     "text": [
      "save Violation_att_mask.pkl perturbation scores to /home/lyb/Transparency/data/qa/lstm_dot/rand\n",
      "num. of violators: 596, ratio:59.60%\n",
      "replace_func:slice_out, metric:RC\n",
      "/home/lyb/Transparency/data/qa/lstm_dot/rand\n",
      "load exp scores from outputs/qa/babi_1/lstm+dot/Mon_Jan_17_22:25:05_2022/rand_bz256.pkl\n"
     ]
    },
    {
     "name": "stderr",
     "output_type": "stream",
     "text": [
      "100%|██████████| 4/4 [00:00<00:00,  5.65it/s]\n"
     ]
    },
    {
     "name": "stdout",
     "output_type": "stream",
     "text": [
      "save RC_slice_out.pkl perturbation scores to /home/lyb/Transparency/data/qa/lstm_dot/rand\n",
      " rcc:-0.07157693058252335\n",
      "replace_func:zeros_mask, metric:RC\n",
      "/home/lyb/Transparency/data/qa/lstm_dot/rand\n",
      "load exp scores from outputs/qa/babi_1/lstm+dot/Mon_Jan_17_22:25:05_2022/rand_bz256.pkl\n"
     ]
    },
    {
     "name": "stderr",
     "output_type": "stream",
     "text": [
      "100%|██████████| 4/4 [00:00<00:00,  5.50it/s]\n"
     ]
    },
    {
     "name": "stdout",
     "output_type": "stream",
     "text": [
      "save RC_zeros_mask.pkl perturbation scores to /home/lyb/Transparency/data/qa/lstm_dot/rand\n",
      " rcc:-0.05129670351743698\n",
      "replace_func:att_mask, metric:RC\n",
      "/home/lyb/Transparency/data/qa/lstm_dot/rand\n",
      "load exp scores from outputs/qa/babi_1/lstm+dot/Mon_Jan_17_22:25:05_2022/rand_bz256.pkl\n"
     ]
    },
    {
     "name": "stderr",
     "output_type": "stream",
     "text": [
      "100%|██████████| 4/4 [00:00<00:00,  5.63it/s]\n"
     ]
    },
    {
     "name": "stdout",
     "output_type": "stream",
     "text": [
      "save RC_att_mask.pkl perturbation scores to /home/lyb/Transparency/data/qa/lstm_dot/rand\n",
      " rcc:-0.07662638276815414\n",
      "replace_func:slice_out, metric:AUCTP\n",
      "/home/lyb/Transparency/data/qa/lstm_dot/rand\n",
      "load exp scores from outputs/qa/babi_1/lstm+dot/Mon_Jan_17_22:25:05_2022/rand_bz256.pkl\n"
     ]
    },
    {
     "name": "stderr",
     "output_type": "stream",
     "text": [
      "100%|██████████| 4/4 [00:00<00:00,  6.93it/s]\n"
     ]
    },
    {
     "name": "stdout",
     "output_type": "stream",
     "text": [
      "save AUCTP_slice_out.pkl perturbation scores to /home/lyb/Transparency/data/qa/lstm_dot/rand\n",
      "[0.05 0.1  0.2  0.5 ]\n",
      "{'Comprehensiveness': 0.3143925070762634, 'AUCTP': 0.42992499999999995}\n",
      "[0.   0.05 0.1  0.2  0.3  0.4  0.5  0.6  0.7  0.8  0.9 ] [0.994, 0.91, 0.805, 0.627, 0.542, 0.425, 0.368, 0.347, 0.308, 0.257, 0.236]\n",
      "replace_func:zeros_mask, metric:AUCTP\n",
      "/home/lyb/Transparency/data/qa/lstm_dot/rand\n",
      "load exp scores from outputs/qa/babi_1/lstm+dot/Mon_Jan_17_22:25:05_2022/rand_bz256.pkl\n"
     ]
    },
    {
     "name": "stderr",
     "output_type": "stream",
     "text": [
      "100%|██████████| 4/4 [00:00<00:00,  6.29it/s]\n"
     ]
    },
    {
     "name": "stdout",
     "output_type": "stream",
     "text": [
      "save AUCTP_zeros_mask.pkl perturbation scores to /home/lyb/Transparency/data/qa/lstm_dot/rand\n",
      "[0.05 0.1  0.2  0.5 ]\n",
      "{'Comprehensiveness': 0.2505342960357666, 'AUCTP': 0.52485}\n",
      "[0.   0.05 0.1  0.2  0.3  0.4  0.5  0.6  0.7  0.8  0.9 ] [0.994, 0.916, 0.832, 0.718, 0.644, 0.566, 0.503, 0.486, 0.429, 0.389, 0.366]\n",
      "replace_func:att_mask, metric:AUCTP\n",
      "/home/lyb/Transparency/data/qa/lstm_dot/rand\n",
      "load exp scores from outputs/qa/babi_1/lstm+dot/Mon_Jan_17_22:25:05_2022/rand_bz256.pkl\n"
     ]
    },
    {
     "name": "stderr",
     "output_type": "stream",
     "text": [
      "100%|██████████| 4/4 [00:00<00:00,  5.60it/s]\n"
     ]
    },
    {
     "name": "stdout",
     "output_type": "stream",
     "text": [
      "save AUCTP_att_mask.pkl perturbation scores to /home/lyb/Transparency/data/qa/lstm_dot/rand\n",
      "[0.05 0.1  0.2  0.5 ]\n",
      "{'Comprehensiveness': 0.11571680009365082, 'AUCTP': 0.68175}\n",
      "[0.   0.05 0.1  0.2  0.3  0.4  0.5  0.6  0.7  0.8  0.9 ] [0.994, 0.966, 0.944, 0.882, 0.821, 0.755, 0.731, 0.688, 0.645, 0.583, 0.546]\n",
      "replace_func:slice_out, metric:Sufficiency\n",
      "/home/lyb/Transparency/data/qa/lstm_dot/rand\n",
      "load exp scores from outputs/qa/babi_1/lstm+dot/Mon_Jan_17_22:25:05_2022/rand_bz256.pkl\n"
     ]
    },
    {
     "name": "stderr",
     "output_type": "stream",
     "text": [
      "100%|██████████| 4/4 [00:00<00:00, 13.59it/s]\n"
     ]
    },
    {
     "name": "stdout",
     "output_type": "stream",
     "text": [
      "save Sufficiency_slice_out.pkl perturbation scores to /home/lyb/Transparency/data/qa/lstm_dot/rand\n",
      "Calculate Sufficiency for [0.5  0.8  0.9  0.95]\n",
      "replace_func:zeros_mask, metric:Sufficiency\n",
      "/home/lyb/Transparency/data/qa/lstm_dot/rand\n",
      "load exp scores from outputs/qa/babi_1/lstm+dot/Mon_Jan_17_22:25:05_2022/rand_bz256.pkl\n"
     ]
    },
    {
     "name": "stderr",
     "output_type": "stream",
     "text": [
      "100%|██████████| 4/4 [00:00<00:00, 10.85it/s]\n"
     ]
    },
    {
     "name": "stdout",
     "output_type": "stream",
     "text": [
      "save Sufficiency_zeros_mask.pkl perturbation scores to /home/lyb/Transparency/data/qa/lstm_dot/rand\n",
      "Calculate Sufficiency for [0.5  0.8  0.9  0.95]\n",
      "replace_func:att_mask, metric:Sufficiency\n",
      "/home/lyb/Transparency/data/qa/lstm_dot/rand\n",
      "load exp scores from outputs/qa/babi_1/lstm+dot/Mon_Jan_17_22:25:05_2022/rand_bz256.pkl\n"
     ]
    },
    {
     "name": "stderr",
     "output_type": "stream",
     "text": [
      "100%|██████████| 4/4 [00:00<00:00, 11.14it/s]\n"
     ]
    },
    {
     "name": "stdout",
     "output_type": "stream",
     "text": [
      "save Sufficiency_att_mask.pkl perturbation scores to /home/lyb/Transparency/data/qa/lstm_dot/rand\n",
      "Calculate Sufficiency for [0.5  0.8  0.9  0.95]\n",
      "{'AUCTP': 0.5455083333333333, 'Violation': 0.4803333381811778, 'Sufficiency': 0.5517600377400717, 'Comprehensiveness': 0.22688120106856027, 'RC': -0.06650000562270482}\n",
      "{'AUCTP': [0.42992499999999995, 0.52485, 0.68175], 'Violation': [0.4830000102519989, 0.3619999885559082, 0.5960000157356262], 'Sufficiency': [0.7123622298240662, 0.5699589848518372, 0.3729588985443115], 'Comprehensiveness': [0.3143925070762634, 0.2505342960357666, 0.11571680009365082], 'RC': [-0.07157693058252335, -0.05129670351743698, -0.07662638276815414]}\n",
      "#################### dataset:babi_1, model:lstm_dot, exp_type:input*grad  ####################\n",
      "replace_func:slice_out, metric:Violation\n",
      "/home/lyb/Transparency/data/qa/lstm_dot/input*grad\n",
      "Violation mask size must be 1\n"
     ]
    },
    {
     "name": "stderr",
     "output_type": "stream",
     "text": [
      "100%|██████████| 4/4 [00:00<00:00,  4.07it/s]\n"
     ]
    },
    {
     "name": "stdout",
     "output_type": "stream",
     "text": [
      "save Violation_slice_out.pkl perturbation scores to /home/lyb/Transparency/data/qa/lstm_dot/input*grad\n",
      "num. of violators: 54, ratio:5.40%\n",
      "replace_func:zeros_mask, metric:Violation\n",
      "/home/lyb/Transparency/data/qa/lstm_dot/input*grad\n",
      "load exp scores from outputs/qa/babi_1/lstm+dot/Mon_Jan_17_22:25:05_2022/input*grad_bz256.pkl\n",
      "Violation mask size must be 1\n"
     ]
    },
    {
     "name": "stderr",
     "output_type": "stream",
     "text": [
      "100%|██████████| 4/4 [00:00<00:00,  4.98it/s]\n"
     ]
    },
    {
     "name": "stdout",
     "output_type": "stream",
     "text": [
      "save Violation_zeros_mask.pkl perturbation scores to /home/lyb/Transparency/data/qa/lstm_dot/input*grad\n",
      "num. of violators: 43, ratio:4.30%\n",
      "replace_func:att_mask, metric:Violation\n",
      "/home/lyb/Transparency/data/qa/lstm_dot/input*grad\n",
      "load exp scores from outputs/qa/babi_1/lstm+dot/Mon_Jan_17_22:25:05_2022/input*grad_bz256.pkl\n",
      "Violation mask size must be 1\n"
     ]
    },
    {
     "name": "stderr",
     "output_type": "stream",
     "text": [
      "100%|██████████| 4/4 [00:00<00:00,  5.79it/s]\n"
     ]
    },
    {
     "name": "stdout",
     "output_type": "stream",
     "text": [
      "save Violation_att_mask.pkl perturbation scores to /home/lyb/Transparency/data/qa/lstm_dot/input*grad\n",
      "num. of violators: 41, ratio:4.10%\n",
      "replace_func:slice_out, metric:RC\n",
      "/home/lyb/Transparency/data/qa/lstm_dot/input*grad\n",
      "load exp scores from outputs/qa/babi_1/lstm+dot/Mon_Jan_17_22:25:05_2022/input*grad_bz256.pkl\n"
     ]
    },
    {
     "name": "stderr",
     "output_type": "stream",
     "text": [
      "100%|██████████| 4/4 [00:00<00:00,  5.66it/s]\n"
     ]
    },
    {
     "name": "stdout",
     "output_type": "stream",
     "text": [
      "save RC_slice_out.pkl perturbation scores to /home/lyb/Transparency/data/qa/lstm_dot/input*grad\n",
      " rcc:0.3817747235298157\n",
      "replace_func:zeros_mask, metric:RC\n",
      "/home/lyb/Transparency/data/qa/lstm_dot/input*grad\n",
      "load exp scores from outputs/qa/babi_1/lstm+dot/Mon_Jan_17_22:25:05_2022/input*grad_bz256.pkl\n"
     ]
    },
    {
     "name": "stderr",
     "output_type": "stream",
     "text": [
      "100%|██████████| 4/4 [00:00<00:00,  5.30it/s]\n"
     ]
    },
    {
     "name": "stdout",
     "output_type": "stream",
     "text": [
      "save RC_zeros_mask.pkl perturbation scores to /home/lyb/Transparency/data/qa/lstm_dot/input*grad\n",
      " rcc:0.41296154260635376\n",
      "replace_func:att_mask, metric:RC\n",
      "/home/lyb/Transparency/data/qa/lstm_dot/input*grad\n",
      "load exp scores from outputs/qa/babi_1/lstm+dot/Mon_Jan_17_22:25:05_2022/input*grad_bz256.pkl\n"
     ]
    },
    {
     "name": "stderr",
     "output_type": "stream",
     "text": [
      "100%|██████████| 4/4 [00:00<00:00,  5.79it/s]\n"
     ]
    },
    {
     "name": "stdout",
     "output_type": "stream",
     "text": [
      "save RC_att_mask.pkl perturbation scores to /home/lyb/Transparency/data/qa/lstm_dot/input*grad\n",
      " rcc:0.3499780297279358\n",
      "replace_func:slice_out, metric:AUCTP\n",
      "/home/lyb/Transparency/data/qa/lstm_dot/input*grad\n",
      "load exp scores from outputs/qa/babi_1/lstm+dot/Mon_Jan_17_22:25:05_2022/input*grad_bz256.pkl\n"
     ]
    },
    {
     "name": "stderr",
     "output_type": "stream",
     "text": [
      "100%|██████████| 4/4 [00:00<00:00,  6.40it/s]\n"
     ]
    },
    {
     "name": "stdout",
     "output_type": "stream",
     "text": [
      "save AUCTP_slice_out.pkl perturbation scores to /home/lyb/Transparency/data/qa/lstm_dot/input*grad\n",
      "[0.05 0.1  0.2  0.5 ]\n",
      "{'Comprehensiveness': 0.8658385276794434, 'AUCTP': 0.08345}\n",
      "[0.   0.05 0.1  0.2  0.3  0.4  0.5  0.6  0.7  0.8  0.9 ] [0.994, 0.246, 0.134, 0.075, 0.06, 0.036, 0.036, 0.039, 0.036, 0.051, 0.059]\n",
      "replace_func:zeros_mask, metric:AUCTP\n",
      "/home/lyb/Transparency/data/qa/lstm_dot/input*grad\n",
      "load exp scores from outputs/qa/babi_1/lstm+dot/Mon_Jan_17_22:25:05_2022/input*grad_bz256.pkl\n"
     ]
    },
    {
     "name": "stderr",
     "output_type": "stream",
     "text": [
      "100%|██████████| 4/4 [00:00<00:00,  6.29it/s]\n"
     ]
    },
    {
     "name": "stdout",
     "output_type": "stream",
     "text": [
      "save AUCTP_zeros_mask.pkl perturbation scores to /home/lyb/Transparency/data/qa/lstm_dot/input*grad\n",
      "[0.05 0.1  0.2  0.5 ]\n",
      "{'Comprehensiveness': 0.861163854598999, 'AUCTP': 0.07885}\n",
      "[0.   0.05 0.1  0.2  0.3  0.4  0.5  0.6  0.7  0.8  0.9 ] [0.994, 0.258, 0.136, 0.075, 0.061, 0.035, 0.031, 0.033, 0.031, 0.027, 0.032]\n",
      "replace_func:att_mask, metric:AUCTP\n",
      "/home/lyb/Transparency/data/qa/lstm_dot/input*grad\n",
      "load exp scores from outputs/qa/babi_1/lstm+dot/Mon_Jan_17_22:25:05_2022/input*grad_bz256.pkl\n"
     ]
    },
    {
     "name": "stderr",
     "output_type": "stream",
     "text": [
      "100%|██████████| 4/4 [00:00<00:00,  6.23it/s]\n"
     ]
    },
    {
     "name": "stdout",
     "output_type": "stream",
     "text": [
      "save AUCTP_att_mask.pkl perturbation scores to /home/lyb/Transparency/data/qa/lstm_dot/input*grad\n",
      "[0.05 0.1  0.2  0.5 ]\n",
      "{'Comprehensiveness': 0.7558397650718689, 'AUCTP': 0.1291}\n",
      "[0.   0.05 0.1  0.2  0.3  0.4  0.5  0.6  0.7  0.8  0.9 ] [0.994, 0.448, 0.28, 0.137, 0.107, 0.079, 0.068, 0.067, 0.064, 0.059, 0.055]\n",
      "replace_func:slice_out, metric:Sufficiency\n",
      "/home/lyb/Transparency/data/qa/lstm_dot/input*grad\n",
      "load exp scores from outputs/qa/babi_1/lstm+dot/Mon_Jan_17_22:25:05_2022/input*grad_bz256.pkl\n"
     ]
    },
    {
     "name": "stderr",
     "output_type": "stream",
     "text": [
      "100%|██████████| 4/4 [00:00<00:00, 16.30it/s]\n"
     ]
    },
    {
     "name": "stdout",
     "output_type": "stream",
     "text": [
      "save Sufficiency_slice_out.pkl perturbation scores to /home/lyb/Transparency/data/qa/lstm_dot/input*grad\n",
      "Calculate Sufficiency for [0.5  0.8  0.9  0.95]\n",
      "replace_func:zeros_mask, metric:Sufficiency\n",
      "/home/lyb/Transparency/data/qa/lstm_dot/input*grad\n",
      "load exp scores from outputs/qa/babi_1/lstm+dot/Mon_Jan_17_22:25:05_2022/input*grad_bz256.pkl\n"
     ]
    },
    {
     "name": "stderr",
     "output_type": "stream",
     "text": [
      "100%|██████████| 4/4 [00:00<00:00, 15.22it/s]\n"
     ]
    },
    {
     "name": "stdout",
     "output_type": "stream",
     "text": [
      "save Sufficiency_zeros_mask.pkl perturbation scores to /home/lyb/Transparency/data/qa/lstm_dot/input*grad\n",
      "Calculate Sufficiency for [0.5  0.8  0.9  0.95]\n",
      "replace_func:att_mask, metric:Sufficiency\n",
      "/home/lyb/Transparency/data/qa/lstm_dot/input*grad\n",
      "load exp scores from outputs/qa/babi_1/lstm+dot/Mon_Jan_17_22:25:05_2022/input*grad_bz256.pkl\n"
     ]
    },
    {
     "name": "stderr",
     "output_type": "stream",
     "text": [
      "100%|██████████| 4/4 [00:00<00:00, 13.64it/s]\n"
     ]
    },
    {
     "name": "stdout",
     "output_type": "stream",
     "text": [
      "save Sufficiency_att_mask.pkl perturbation scores to /home/lyb/Transparency/data/qa/lstm_dot/input*grad\n",
      "Calculate Sufficiency for [0.5  0.8  0.9  0.95]\n",
      "{'AUCTP': 0.09713333333333334, 'Violation': 0.0460000013311704, 'Sufficiency': 0.14596626861020923, 'Comprehensiveness': 0.8276140491167704, 'RC': 0.3815714319547017}\n",
      "{'AUCTP': [0.08345, 0.07885, 0.1291], 'Violation': [0.05400000140070915, 0.0430000014603138, 0.04100000113248825], 'Sufficiency': [0.3372459411621094, 0.10796453058719635, -0.007311665918678045], 'Comprehensiveness': [0.8658385276794434, 0.861163854598999, 0.7558397650718689], 'RC': [0.3817747235298157, 0.41296154260635376, 0.3499780297279358]}\n",
      "#################### dataset:babi_1, model:lstm_dot, exp_type:att_norm  ####################\n",
      "replace_func:slice_out, metric:Violation\n",
      "/home/lyb/Transparency/data/qa/lstm_dot/att_norm\n",
      "Violation mask size must be 1\n"
     ]
    },
    {
     "name": "stderr",
     "output_type": "stream",
     "text": [
      "100%|██████████| 4/4 [00:00<00:00,  5.74it/s]\n"
     ]
    },
    {
     "name": "stdout",
     "output_type": "stream",
     "text": [
      "save Violation_slice_out.pkl perturbation scores to /home/lyb/Transparency/data/qa/lstm_dot/att_norm\n",
      "num. of violators: 5, ratio:0.50%\n",
      "replace_func:zeros_mask, metric:Violation\n",
      "/home/lyb/Transparency/data/qa/lstm_dot/att_norm\n",
      "load exp scores from outputs/qa/babi_1/lstm+dot/Mon_Jan_17_22:25:05_2022/att_norm_bz256.pkl\n",
      "Violation mask size must be 1\n"
     ]
    },
    {
     "name": "stderr",
     "output_type": "stream",
     "text": [
      "100%|██████████| 4/4 [00:00<00:00,  5.54it/s]\n"
     ]
    },
    {
     "name": "stdout",
     "output_type": "stream",
     "text": [
      "save Violation_zeros_mask.pkl perturbation scores to /home/lyb/Transparency/data/qa/lstm_dot/att_norm\n",
      "num. of violators: 5, ratio:0.50%\n",
      "replace_func:att_mask, metric:Violation\n",
      "/home/lyb/Transparency/data/qa/lstm_dot/att_norm\n",
      "load exp scores from outputs/qa/babi_1/lstm+dot/Mon_Jan_17_22:25:05_2022/att_norm_bz256.pkl\n",
      "Violation mask size must be 1\n"
     ]
    },
    {
     "name": "stderr",
     "output_type": "stream",
     "text": [
      "100%|██████████| 4/4 [00:00<00:00,  5.67it/s]\n"
     ]
    },
    {
     "name": "stdout",
     "output_type": "stream",
     "text": [
      "save Violation_att_mask.pkl perturbation scores to /home/lyb/Transparency/data/qa/lstm_dot/att_norm\n",
      "num. of violators: 5, ratio:0.50%\n",
      "replace_func:slice_out, metric:RC\n",
      "/home/lyb/Transparency/data/qa/lstm_dot/att_norm\n",
      "load exp scores from outputs/qa/babi_1/lstm+dot/Mon_Jan_17_22:25:05_2022/att_norm_bz256.pkl\n"
     ]
    },
    {
     "name": "stderr",
     "output_type": "stream",
     "text": [
      "100%|██████████| 4/4 [00:00<00:00,  5.76it/s]\n"
     ]
    },
    {
     "name": "stdout",
     "output_type": "stream",
     "text": [
      "save RC_slice_out.pkl perturbation scores to /home/lyb/Transparency/data/qa/lstm_dot/att_norm\n",
      " rcc:0.4191153943538666\n",
      "replace_func:zeros_mask, metric:RC\n",
      "/home/lyb/Transparency/data/qa/lstm_dot/att_norm\n",
      "load exp scores from outputs/qa/babi_1/lstm+dot/Mon_Jan_17_22:25:05_2022/att_norm_bz256.pkl\n"
     ]
    },
    {
     "name": "stderr",
     "output_type": "stream",
     "text": [
      "100%|██████████| 4/4 [00:00<00:00,  5.39it/s]\n"
     ]
    },
    {
     "name": "stdout",
     "output_type": "stream",
     "text": [
      "save RC_zeros_mask.pkl perturbation scores to /home/lyb/Transparency/data/qa/lstm_dot/att_norm\n",
      " rcc:0.49335166811943054\n",
      "replace_func:att_mask, metric:RC\n",
      "/home/lyb/Transparency/data/qa/lstm_dot/att_norm\n",
      "load exp scores from outputs/qa/babi_1/lstm+dot/Mon_Jan_17_22:25:05_2022/att_norm_bz256.pkl\n"
     ]
    },
    {
     "name": "stderr",
     "output_type": "stream",
     "text": [
      "100%|██████████| 4/4 [00:00<00:00,  5.67it/s]\n"
     ]
    },
    {
     "name": "stdout",
     "output_type": "stream",
     "text": [
      "save RC_att_mask.pkl perturbation scores to /home/lyb/Transparency/data/qa/lstm_dot/att_norm\n",
      " rcc:0.8450328707695007\n",
      "replace_func:slice_out, metric:AUCTP\n",
      "/home/lyb/Transparency/data/qa/lstm_dot/att_norm\n",
      "load exp scores from outputs/qa/babi_1/lstm+dot/Mon_Jan_17_22:25:05_2022/att_norm_bz256.pkl\n"
     ]
    },
    {
     "name": "stderr",
     "output_type": "stream",
     "text": [
      "100%|██████████| 4/4 [00:00<00:00,  7.75it/s]\n"
     ]
    },
    {
     "name": "stdout",
     "output_type": "stream",
     "text": [
      "save AUCTP_slice_out.pkl perturbation scores to /home/lyb/Transparency/data/qa/lstm_dot/att_norm\n",
      "[0.05 0.1  0.2  0.5 ]\n",
      "{'Comprehensiveness': 0.8270807266235352, 'AUCTP': 0.17085000000000003}\n",
      "[0.   0.05 0.1  0.2  0.3  0.4  0.5  0.6  0.7  0.8  0.9 ] [0.994, 0.112, 0.166, 0.173, 0.172, 0.171, 0.17, 0.167, 0.171, 0.17, 0.171]\n",
      "replace_func:zeros_mask, metric:AUCTP\n",
      "/home/lyb/Transparency/data/qa/lstm_dot/att_norm\n",
      "load exp scores from outputs/qa/babi_1/lstm+dot/Mon_Jan_17_22:25:05_2022/att_norm_bz256.pkl\n"
     ]
    },
    {
     "name": "stderr",
     "output_type": "stream",
     "text": [
      "100%|██████████| 4/4 [00:00<00:00,  6.81it/s]\n"
     ]
    },
    {
     "name": "stdout",
     "output_type": "stream",
     "text": [
      "save AUCTP_zeros_mask.pkl perturbation scores to /home/lyb/Transparency/data/qa/lstm_dot/att_norm\n",
      "[0.05 0.1  0.2  0.5 ]\n",
      "{'Comprehensiveness': 0.8303002119064331, 'AUCTP': 0.16855}\n",
      "[0.   0.05 0.1  0.2  0.3  0.4  0.5  0.6  0.7  0.8  0.9 ] [0.994, 0.114, 0.164, 0.175, 0.162, 0.165, 0.167, 0.171, 0.17, 0.157, 0.18]\n",
      "replace_func:att_mask, metric:AUCTP\n",
      "/home/lyb/Transparency/data/qa/lstm_dot/att_norm\n",
      "load exp scores from outputs/qa/babi_1/lstm+dot/Mon_Jan_17_22:25:05_2022/att_norm_bz256.pkl\n"
     ]
    },
    {
     "name": "stderr",
     "output_type": "stream",
     "text": [
      "100%|██████████| 4/4 [00:00<00:00,  5.33it/s]\n"
     ]
    },
    {
     "name": "stdout",
     "output_type": "stream",
     "text": [
      "save AUCTP_att_mask.pkl perturbation scores to /home/lyb/Transparency/data/qa/lstm_dot/att_norm\n",
      "[0.05 0.1  0.2  0.5 ]\n",
      "{'Comprehensiveness': 0.718601405620575, 'AUCTP': 0.220275}\n",
      "[0.   0.05 0.1  0.2  0.3  0.4  0.5  0.6  0.7  0.8  0.9 ] [0.994, 0.211, 0.341, 0.324, 0.253, 0.194, 0.186, 0.184, 0.185, 0.182, 0.17]\n",
      "replace_func:slice_out, metric:Sufficiency\n",
      "/home/lyb/Transparency/data/qa/lstm_dot/att_norm\n",
      "load exp scores from outputs/qa/babi_1/lstm+dot/Mon_Jan_17_22:25:05_2022/att_norm_bz256.pkl\n"
     ]
    },
    {
     "name": "stderr",
     "output_type": "stream",
     "text": [
      "100%|██████████| 4/4 [00:00<00:00, 14.14it/s]\n"
     ]
    },
    {
     "name": "stdout",
     "output_type": "stream",
     "text": [
      "save Sufficiency_slice_out.pkl perturbation scores to /home/lyb/Transparency/data/qa/lstm_dot/att_norm\n",
      "Calculate Sufficiency for [0.5  0.8  0.9  0.95]\n",
      "replace_func:zeros_mask, metric:Sufficiency\n",
      "/home/lyb/Transparency/data/qa/lstm_dot/att_norm\n",
      "load exp scores from outputs/qa/babi_1/lstm+dot/Mon_Jan_17_22:25:05_2022/att_norm_bz256.pkl\n"
     ]
    },
    {
     "name": "stderr",
     "output_type": "stream",
     "text": [
      "100%|██████████| 4/4 [00:00<00:00, 11.78it/s]\n"
     ]
    },
    {
     "name": "stdout",
     "output_type": "stream",
     "text": [
      "save Sufficiency_zeros_mask.pkl perturbation scores to /home/lyb/Transparency/data/qa/lstm_dot/att_norm\n",
      "Calculate Sufficiency for [0.5  0.8  0.9  0.95]\n",
      "replace_func:att_mask, metric:Sufficiency\n",
      "/home/lyb/Transparency/data/qa/lstm_dot/att_norm\n",
      "load exp scores from outputs/qa/babi_1/lstm+dot/Mon_Jan_17_22:25:05_2022/att_norm_bz256.pkl\n"
     ]
    },
    {
     "name": "stderr",
     "output_type": "stream",
     "text": [
      "100%|██████████| 4/4 [00:00<00:00, 10.51it/s]\n",
      "INFO - 2022-01-20 11:36:59,778 - type = rnn\n",
      "INFO - 2022-01-20 11:36:59,779 - vocab_size = 24\n",
      "INFO - 2022-01-20 11:36:59,780 - embed_size = 50\n",
      "INFO - 2022-01-20 11:36:59,780 - hidden_size = 32\n",
      "INFO - 2022-01-20 11:36:59,781 - pre_embed = None\n",
      "INFO - 2022-01-20 11:36:59,784 - type = rnn\n",
      "INFO - 2022-01-20 11:36:59,785 - vocab_size = 24\n",
      "INFO - 2022-01-20 11:36:59,785 - embed_size = 50\n",
      "INFO - 2022-01-20 11:36:59,786 - hidden_size = 32\n",
      "INFO - 2022-01-20 11:36:59,787 - pre_embed = None\n",
      "INFO - 2022-01-20 11:36:59,789 - hidden_size = 64\n",
      "INFO - 2022-01-20 11:36:59,790 - attention.type = tanh_qa\n",
      "INFO - 2022-01-20 11:36:59,791 - attention.type = tanh_qa\n",
      "INFO - 2022-01-20 11:36:59,791 - output_size = 36\n",
      "INFO - 2022-01-20 11:36:59,792 - use_attention = True\n",
      "INFO - 2022-01-20 11:36:59,792 - regularizer_attention = None\n",
      "INFO - 2022-01-20 11:36:59,794 - type = tanh_qa\n",
      "INFO - 2022-01-20 11:36:59,795 - hidden_size = 64\n"
     ]
    },
    {
     "name": "stdout",
     "output_type": "stream",
     "text": [
      "save Sufficiency_att_mask.pkl perturbation scores to /home/lyb/Transparency/data/qa/lstm_dot/att_norm\n",
      "Calculate Sufficiency for [0.5  0.8  0.9  0.95]\n",
      "{'AUCTP': 0.18655833333333335, 'Violation': 0.004999999888241291, 'Sufficiency': 0.27528889147409547, 'Comprehensiveness': 0.7919941147168478, 'RC': 0.5858333110809326}\n",
      "{'AUCTP': [0.17085000000000003, 0.16855, 0.220275], 'Violation': [0.004999999888241291, 0.004999999888241291, 0.004999999888241291], 'Sufficiency': [0.6060556173324585, 0.22085794806480408, -0.0010468909749761224], 'Comprehensiveness': [0.8270807266235352, 0.8303002119064331, 0.718601405620575], 'RC': [0.4191153943538666, 0.49335166811943054, 0.8450328707695007]}\n",
      "#################### dataset:babi_1, model:lstm_tanh, exp_type:att*grad  ####################\n",
      "replace_func:slice_out, metric:Violation\n",
      "/home/lyb/Transparency/data/qa/lstm/att*grad\n",
      "Violation mask size must be 1\n"
     ]
    },
    {
     "name": "stderr",
     "output_type": "stream",
     "text": [
      "100%|██████████| 4/4 [00:00<00:00,  4.32it/s]\n"
     ]
    },
    {
     "name": "stdout",
     "output_type": "stream",
     "text": [
      "save Violation_slice_out.pkl perturbation scores to /home/lyb/Transparency/data/qa/lstm/att*grad\n",
      "num. of violators: 4, ratio:0.40%\n",
      "replace_func:zeros_mask, metric:Violation\n",
      "/home/lyb/Transparency/data/qa/lstm/att*grad\n",
      "load exp scores from outputs/qa/babi_1/lstm+tanh/Mon_Jan_17_22:12:21_2022/att*grad_bz256.pkl\n",
      "Violation mask size must be 1\n"
     ]
    },
    {
     "name": "stderr",
     "output_type": "stream",
     "text": [
      "100%|██████████| 4/4 [00:00<00:00,  4.59it/s]\n"
     ]
    },
    {
     "name": "stdout",
     "output_type": "stream",
     "text": [
      "save Violation_zeros_mask.pkl perturbation scores to /home/lyb/Transparency/data/qa/lstm/att*grad\n",
      "num. of violators: 4, ratio:0.40%\n",
      "replace_func:att_mask, metric:Violation\n",
      "/home/lyb/Transparency/data/qa/lstm/att*grad\n",
      "load exp scores from outputs/qa/babi_1/lstm+tanh/Mon_Jan_17_22:12:21_2022/att*grad_bz256.pkl\n",
      "Violation mask size must be 1\n"
     ]
    },
    {
     "name": "stderr",
     "output_type": "stream",
     "text": [
      "100%|██████████| 4/4 [00:00<00:00,  5.51it/s]\n"
     ]
    },
    {
     "name": "stdout",
     "output_type": "stream",
     "text": [
      "save Violation_att_mask.pkl perturbation scores to /home/lyb/Transparency/data/qa/lstm/att*grad\n",
      "num. of violators: 3, ratio:0.30%\n",
      "replace_func:slice_out, metric:RC\n",
      "/home/lyb/Transparency/data/qa/lstm/att*grad\n",
      "load exp scores from outputs/qa/babi_1/lstm+tanh/Mon_Jan_17_22:12:21_2022/att*grad_bz256.pkl\n"
     ]
    },
    {
     "name": "stderr",
     "output_type": "stream",
     "text": [
      "100%|██████████| 4/4 [00:00<00:00,  5.41it/s]\n"
     ]
    },
    {
     "name": "stdout",
     "output_type": "stream",
     "text": [
      "save RC_slice_out.pkl perturbation scores to /home/lyb/Transparency/data/qa/lstm/att*grad\n",
      " rcc:0.35903847217559814\n",
      "replace_func:zeros_mask, metric:RC\n",
      "/home/lyb/Transparency/data/qa/lstm/att*grad\n",
      "load exp scores from outputs/qa/babi_1/lstm+tanh/Mon_Jan_17_22:12:21_2022/att*grad_bz256.pkl\n"
     ]
    },
    {
     "name": "stderr",
     "output_type": "stream",
     "text": [
      "100%|██████████| 4/4 [00:00<00:00,  5.54it/s]\n"
     ]
    },
    {
     "name": "stdout",
     "output_type": "stream",
     "text": [
      "save RC_zeros_mask.pkl perturbation scores to /home/lyb/Transparency/data/qa/lstm/att*grad\n",
      " rcc:0.4436374008655548\n",
      "replace_func:att_mask, metric:RC\n",
      "/home/lyb/Transparency/data/qa/lstm/att*grad\n",
      "load exp scores from outputs/qa/babi_1/lstm+tanh/Mon_Jan_17_22:12:21_2022/att*grad_bz256.pkl\n"
     ]
    },
    {
     "name": "stderr",
     "output_type": "stream",
     "text": [
      "100%|██████████| 4/4 [00:00<00:00,  5.13it/s]\n"
     ]
    },
    {
     "name": "stdout",
     "output_type": "stream",
     "text": [
      "save RC_att_mask.pkl perturbation scores to /home/lyb/Transparency/data/qa/lstm/att*grad\n",
      " rcc:0.6506977677345276\n",
      "replace_func:slice_out, metric:AUCTP\n",
      "/home/lyb/Transparency/data/qa/lstm/att*grad\n",
      "load exp scores from outputs/qa/babi_1/lstm+tanh/Mon_Jan_17_22:12:21_2022/att*grad_bz256.pkl\n"
     ]
    },
    {
     "name": "stderr",
     "output_type": "stream",
     "text": [
      "100%|██████████| 4/4 [00:00<00:00,  6.57it/s]\n"
     ]
    },
    {
     "name": "stdout",
     "output_type": "stream",
     "text": [
      "save AUCTP_slice_out.pkl perturbation scores to /home/lyb/Transparency/data/qa/lstm/att*grad\n",
      "[0.05 0.1  0.2  0.5 ]\n",
      "{'Comprehensiveness': 0.9443923234939575, 'AUCTP': 0.045675}\n",
      "[0.   0.05 0.1  0.2  0.3  0.4  0.5  0.6  0.7  0.8  0.9 ] [0.999, 0.048, 0.034, 0.046, 0.02, 0.009, 0.008, 0.01, 0.02, 0.027, 0.035]\n",
      "replace_func:zeros_mask, metric:AUCTP\n",
      "/home/lyb/Transparency/data/qa/lstm/att*grad\n",
      "load exp scores from outputs/qa/babi_1/lstm+tanh/Mon_Jan_17_22:12:21_2022/att*grad_bz256.pkl\n"
     ]
    },
    {
     "name": "stderr",
     "output_type": "stream",
     "text": [
      "100%|██████████| 4/4 [00:00<00:00,  6.18it/s]\n"
     ]
    },
    {
     "name": "stdout",
     "output_type": "stream",
     "text": [
      "save AUCTP_zeros_mask.pkl perturbation scores to /home/lyb/Transparency/data/qa/lstm/att*grad\n",
      "[0.05 0.1  0.2  0.5 ]\n",
      "{'Comprehensiveness': 0.9412449598312378, 'AUCTP': 0.04575}\n",
      "[0.   0.05 0.1  0.2  0.3  0.4  0.5  0.6  0.7  0.8  0.9 ] [0.999, 0.046, 0.039, 0.049, 0.027, 0.016, 0.016, 0.012, 0.012, 0.014, 0.019]\n",
      "replace_func:att_mask, metric:AUCTP\n",
      "/home/lyb/Transparency/data/qa/lstm/att*grad\n",
      "load exp scores from outputs/qa/babi_1/lstm+tanh/Mon_Jan_17_22:12:21_2022/att*grad_bz256.pkl\n"
     ]
    },
    {
     "name": "stderr",
     "output_type": "stream",
     "text": [
      "100%|██████████| 4/4 [00:00<00:00,  5.21it/s]\n"
     ]
    },
    {
     "name": "stdout",
     "output_type": "stream",
     "text": [
      "save AUCTP_att_mask.pkl perturbation scores to /home/lyb/Transparency/data/qa/lstm/att*grad\n",
      "[0.05 0.1  0.2  0.5 ]\n",
      "{'Comprehensiveness': 0.8811187744140625, 'AUCTP': 0.07545}\n",
      "[0.   0.05 0.1  0.2  0.3  0.4  0.5  0.6  0.7  0.8  0.9 ] [0.999, 0.205, 0.135, 0.052, 0.045, 0.042, 0.045, 0.041, 0.033, 0.032, 0.022]\n",
      "replace_func:slice_out, metric:Sufficiency\n",
      "/home/lyb/Transparency/data/qa/lstm/att*grad\n",
      "load exp scores from outputs/qa/babi_1/lstm+tanh/Mon_Jan_17_22:12:21_2022/att*grad_bz256.pkl\n"
     ]
    },
    {
     "name": "stderr",
     "output_type": "stream",
     "text": [
      "100%|██████████| 4/4 [00:00<00:00, 13.78it/s]\n"
     ]
    },
    {
     "name": "stdout",
     "output_type": "stream",
     "text": [
      "save Sufficiency_slice_out.pkl perturbation scores to /home/lyb/Transparency/data/qa/lstm/att*grad\n",
      "Calculate Sufficiency for [0.5  0.8  0.9  0.95]\n",
      "replace_func:zeros_mask, metric:Sufficiency\n",
      "/home/lyb/Transparency/data/qa/lstm/att*grad\n",
      "load exp scores from outputs/qa/babi_1/lstm+tanh/Mon_Jan_17_22:12:21_2022/att*grad_bz256.pkl\n"
     ]
    },
    {
     "name": "stderr",
     "output_type": "stream",
     "text": [
      "100%|██████████| 4/4 [00:00<00:00, 11.41it/s]\n"
     ]
    },
    {
     "name": "stdout",
     "output_type": "stream",
     "text": [
      "save Sufficiency_zeros_mask.pkl perturbation scores to /home/lyb/Transparency/data/qa/lstm/att*grad\n",
      "Calculate Sufficiency for [0.5  0.8  0.9  0.95]\n",
      "replace_func:att_mask, metric:Sufficiency\n",
      "/home/lyb/Transparency/data/qa/lstm/att*grad\n",
      "load exp scores from outputs/qa/babi_1/lstm+tanh/Mon_Jan_17_22:12:21_2022/att*grad_bz256.pkl\n"
     ]
    },
    {
     "name": "stderr",
     "output_type": "stream",
     "text": [
      "100%|██████████| 4/4 [00:00<00:00, 10.51it/s]\n"
     ]
    },
    {
     "name": "stdout",
     "output_type": "stream",
     "text": [
      "save Sufficiency_att_mask.pkl perturbation scores to /home/lyb/Transparency/data/qa/lstm/att*grad\n",
      "Calculate Sufficiency for [0.5  0.8  0.9  0.95]\n",
      "{'AUCTP': 0.055625, 'Violation': 0.003666666802018881, 'Sufficiency': 0.16862179315648973, 'Comprehensiveness': 0.9222520192464193, 'RC': 0.4844578802585602}\n",
      "{'AUCTP': [0.045675, 0.04575, 0.07545], 'Violation': [0.004000000189989805, 0.004000000189989805, 0.003000000026077032], 'Sufficiency': [0.44375669956207275, 0.06548760831356049, -0.00337892840616405], 'Comprehensiveness': [0.9443923234939575, 0.9412449598312378, 0.8811187744140625], 'RC': [0.35903847217559814, 0.4436374008655548, 0.6506977677345276]}\n",
      "#################### dataset:babi_1, model:lstm_tanh, exp_type:att  ####################\n",
      "replace_func:slice_out, metric:Violation\n",
      "/home/lyb/Transparency/data/qa/lstm/att\n",
      "Violation mask size must be 1\n"
     ]
    },
    {
     "name": "stderr",
     "output_type": "stream",
     "text": [
      "100%|██████████| 4/4 [00:00<00:00,  4.52it/s]\n"
     ]
    },
    {
     "name": "stdout",
     "output_type": "stream",
     "text": [
      "save Violation_slice_out.pkl perturbation scores to /home/lyb/Transparency/data/qa/lstm/att\n",
      "num. of violators: 5, ratio:0.50%\n",
      "replace_func:zeros_mask, metric:Violation\n",
      "/home/lyb/Transparency/data/qa/lstm/att\n",
      "load exp scores from outputs/qa/babi_1/lstm+tanh/Mon_Jan_17_22:12:21_2022/att_bz256.pkl\n",
      "Violation mask size must be 1\n"
     ]
    },
    {
     "name": "stderr",
     "output_type": "stream",
     "text": [
      "100%|██████████| 4/4 [00:00<00:00,  4.77it/s]\n"
     ]
    },
    {
     "name": "stdout",
     "output_type": "stream",
     "text": [
      "save Violation_zeros_mask.pkl perturbation scores to /home/lyb/Transparency/data/qa/lstm/att\n",
      "num. of violators: 5, ratio:0.50%\n",
      "replace_func:att_mask, metric:Violation\n",
      "/home/lyb/Transparency/data/qa/lstm/att\n",
      "load exp scores from outputs/qa/babi_1/lstm+tanh/Mon_Jan_17_22:12:21_2022/att_bz256.pkl\n",
      "Violation mask size must be 1\n"
     ]
    },
    {
     "name": "stderr",
     "output_type": "stream",
     "text": [
      "100%|██████████| 4/4 [00:00<00:00,  5.35it/s]\n"
     ]
    },
    {
     "name": "stdout",
     "output_type": "stream",
     "text": [
      "save Violation_att_mask.pkl perturbation scores to /home/lyb/Transparency/data/qa/lstm/att\n",
      "num. of violators: 4, ratio:0.40%\n",
      "replace_func:slice_out, metric:RC\n",
      "/home/lyb/Transparency/data/qa/lstm/att\n",
      "load exp scores from outputs/qa/babi_1/lstm+tanh/Mon_Jan_17_22:12:21_2022/att_bz256.pkl\n"
     ]
    },
    {
     "name": "stderr",
     "output_type": "stream",
     "text": [
      "100%|██████████| 4/4 [00:00<00:00,  4.91it/s]\n"
     ]
    },
    {
     "name": "stdout",
     "output_type": "stream",
     "text": [
      "save RC_slice_out.pkl perturbation scores to /home/lyb/Transparency/data/qa/lstm/att\n",
      " rcc:0.33770880103111267\n",
      "replace_func:zeros_mask, metric:RC\n",
      "/home/lyb/Transparency/data/qa/lstm/att\n",
      "load exp scores from outputs/qa/babi_1/lstm+tanh/Mon_Jan_17_22:12:21_2022/att_bz256.pkl\n"
     ]
    },
    {
     "name": "stderr",
     "output_type": "stream",
     "text": [
      "100%|██████████| 4/4 [00:00<00:00,  5.52it/s]\n"
     ]
    },
    {
     "name": "stdout",
     "output_type": "stream",
     "text": [
      "save RC_zeros_mask.pkl perturbation scores to /home/lyb/Transparency/data/qa/lstm/att\n",
      " rcc:0.4228900969028473\n",
      "replace_func:att_mask, metric:RC\n",
      "/home/lyb/Transparency/data/qa/lstm/att\n",
      "load exp scores from outputs/qa/babi_1/lstm+tanh/Mon_Jan_17_22:12:21_2022/att_bz256.pkl\n"
     ]
    },
    {
     "name": "stderr",
     "output_type": "stream",
     "text": [
      "100%|██████████| 4/4 [00:00<00:00,  5.49it/s]\n"
     ]
    },
    {
     "name": "stdout",
     "output_type": "stream",
     "text": [
      "save RC_att_mask.pkl perturbation scores to /home/lyb/Transparency/data/qa/lstm/att\n",
      " rcc:0.6954175233840942\n",
      "replace_func:slice_out, metric:AUCTP\n",
      "/home/lyb/Transparency/data/qa/lstm/att\n",
      "load exp scores from outputs/qa/babi_1/lstm+tanh/Mon_Jan_17_22:12:21_2022/att_bz256.pkl\n"
     ]
    },
    {
     "name": "stderr",
     "output_type": "stream",
     "text": [
      "100%|██████████| 4/4 [00:00<00:00,  6.95it/s]\n"
     ]
    },
    {
     "name": "stdout",
     "output_type": "stream",
     "text": [
      "save AUCTP_slice_out.pkl perturbation scores to /home/lyb/Transparency/data/qa/lstm/att\n",
      "[0.05 0.1  0.2  0.5 ]\n",
      "{'Comprehensiveness': 0.828406572341919, 'AUCTP': 0.18282500000000002}\n",
      "[0.   0.05 0.1  0.2  0.3  0.4  0.5  0.6  0.7  0.8  0.9 ] [0.999, 0.08, 0.162, 0.205, 0.199, 0.201, 0.196, 0.184, 0.168, 0.177, 0.174]\n",
      "replace_func:zeros_mask, metric:AUCTP\n",
      "/home/lyb/Transparency/data/qa/lstm/att\n",
      "load exp scores from outputs/qa/babi_1/lstm+tanh/Mon_Jan_17_22:12:21_2022/att_bz256.pkl\n"
     ]
    },
    {
     "name": "stderr",
     "output_type": "stream",
     "text": [
      "100%|██████████| 4/4 [00:00<00:00,  5.16it/s]\n"
     ]
    },
    {
     "name": "stdout",
     "output_type": "stream",
     "text": [
      "save AUCTP_zeros_mask.pkl perturbation scores to /home/lyb/Transparency/data/qa/lstm/att\n",
      "[0.05 0.1  0.2  0.5 ]\n",
      "{'Comprehensiveness': 0.8285995125770569, 'AUCTP': 0.18020000000000003}\n",
      "[0.   0.05 0.1  0.2  0.3  0.4  0.5  0.6  0.7  0.8  0.9 ] [0.999, 0.078, 0.179, 0.214, 0.212, 0.196, 0.183, 0.17, 0.167, 0.158, 0.158]\n",
      "replace_func:att_mask, metric:AUCTP\n",
      "/home/lyb/Transparency/data/qa/lstm/att\n",
      "load exp scores from outputs/qa/babi_1/lstm+tanh/Mon_Jan_17_22:12:21_2022/att_bz256.pkl\n"
     ]
    },
    {
     "name": "stderr",
     "output_type": "stream",
     "text": [
      "100%|██████████| 4/4 [00:00<00:00,  5.35it/s]\n"
     ]
    },
    {
     "name": "stdout",
     "output_type": "stream",
     "text": [
      "save AUCTP_att_mask.pkl perturbation scores to /home/lyb/Transparency/data/qa/lstm/att\n",
      "[0.05 0.1  0.2  0.5 ]\n",
      "{'Comprehensiveness': 0.7285865545272827, 'AUCTP': 0.286975}\n",
      "[0.   0.05 0.1  0.2  0.3  0.4  0.5  0.6  0.7  0.8  0.9 ] [0.999, 0.254, 0.298, 0.254, 0.263, 0.306, 0.322, 0.317, 0.338, 0.331, 0.277]\n",
      "replace_func:slice_out, metric:Sufficiency\n",
      "/home/lyb/Transparency/data/qa/lstm/att\n",
      "load exp scores from outputs/qa/babi_1/lstm+tanh/Mon_Jan_17_22:12:21_2022/att_bz256.pkl\n"
     ]
    },
    {
     "name": "stderr",
     "output_type": "stream",
     "text": [
      "100%|██████████| 4/4 [00:00<00:00, 13.43it/s]\n"
     ]
    },
    {
     "name": "stdout",
     "output_type": "stream",
     "text": [
      "save Sufficiency_slice_out.pkl perturbation scores to /home/lyb/Transparency/data/qa/lstm/att\n",
      "Calculate Sufficiency for [0.5  0.8  0.9  0.95]\n",
      "replace_func:zeros_mask, metric:Sufficiency\n",
      "/home/lyb/Transparency/data/qa/lstm/att\n",
      "load exp scores from outputs/qa/babi_1/lstm+tanh/Mon_Jan_17_22:12:21_2022/att_bz256.pkl\n"
     ]
    },
    {
     "name": "stderr",
     "output_type": "stream",
     "text": [
      "100%|██████████| 4/4 [00:00<00:00, 10.90it/s]\n"
     ]
    },
    {
     "name": "stdout",
     "output_type": "stream",
     "text": [
      "save Sufficiency_zeros_mask.pkl perturbation scores to /home/lyb/Transparency/data/qa/lstm/att\n",
      "Calculate Sufficiency for [0.5  0.8  0.9  0.95]\n",
      "replace_func:att_mask, metric:Sufficiency\n",
      "/home/lyb/Transparency/data/qa/lstm/att\n",
      "load exp scores from outputs/qa/babi_1/lstm+tanh/Mon_Jan_17_22:12:21_2022/att_bz256.pkl\n"
     ]
    },
    {
     "name": "stderr",
     "output_type": "stream",
     "text": [
      "100%|██████████| 4/4 [00:00<00:00, 12.25it/s]\n"
     ]
    },
    {
     "name": "stdout",
     "output_type": "stream",
     "text": [
      "save Sufficiency_att_mask.pkl perturbation scores to /home/lyb/Transparency/data/qa/lstm/att\n",
      "Calculate Sufficiency for [0.5  0.8  0.9  0.95]\n",
      "{'AUCTP': 0.21666666666666667, 'Violation': 0.004666666655490796, 'Sufficiency': 0.32610391986357473, 'Comprehensiveness': 0.7951975464820862, 'RC': 0.48533880710601807}\n",
      "{'AUCTP': [0.18282500000000002, 0.18020000000000003, 0.286975], 'Violation': [0.004999999888241291, 0.004999999888241291, 0.004000000189989805], 'Sufficiency': [0.6571296453475952, 0.3211946487426758, -1.2534499546745792e-05], 'Comprehensiveness': [0.828406572341919, 0.8285995125770569, 0.7285865545272827], 'RC': [0.33770880103111267, 0.4228900969028473, 0.6954175233840942]}\n",
      "#################### dataset:babi_1, model:lstm_tanh, exp_type:ig  ####################\n",
      "replace_func:slice_out, metric:Violation\n",
      "/home/lyb/Transparency/data/qa/lstm/ig\n",
      "Violation mask size must be 1\n"
     ]
    },
    {
     "name": "stderr",
     "output_type": "stream",
     "text": [
      "100%|██████████| 4/4 [00:04<00:00,  1.03s/it]\n"
     ]
    },
    {
     "name": "stdout",
     "output_type": "stream",
     "text": [
      "save Violation_slice_out.pkl perturbation scores to /home/lyb/Transparency/data/qa/lstm/ig\n",
      "num. of violators: 15, ratio:1.50%\n",
      "replace_func:zeros_mask, metric:Violation\n",
      "/home/lyb/Transparency/data/qa/lstm/ig\n",
      "load exp scores from outputs/qa/babi_1/lstm+tanh/Mon_Jan_17_22:12:21_2022/ig_bz256.pkl\n",
      "Violation mask size must be 1\n"
     ]
    },
    {
     "name": "stderr",
     "output_type": "stream",
     "text": [
      "100%|██████████| 4/4 [00:00<00:00,  5.58it/s]\n"
     ]
    },
    {
     "name": "stdout",
     "output_type": "stream",
     "text": [
      "save Violation_zeros_mask.pkl perturbation scores to /home/lyb/Transparency/data/qa/lstm/ig\n",
      "num. of violators: 8, ratio:0.80%\n",
      "replace_func:att_mask, metric:Violation\n",
      "/home/lyb/Transparency/data/qa/lstm/ig\n",
      "load exp scores from outputs/qa/babi_1/lstm+tanh/Mon_Jan_17_22:12:21_2022/ig_bz256.pkl\n",
      "Violation mask size must be 1\n"
     ]
    },
    {
     "name": "stderr",
     "output_type": "stream",
     "text": [
      "100%|██████████| 4/4 [00:00<00:00,  5.55it/s]\n"
     ]
    },
    {
     "name": "stdout",
     "output_type": "stream",
     "text": [
      "save Violation_att_mask.pkl perturbation scores to /home/lyb/Transparency/data/qa/lstm/ig\n",
      "num. of violators: 150, ratio:15.00%\n",
      "replace_func:slice_out, metric:RC\n",
      "/home/lyb/Transparency/data/qa/lstm/ig\n",
      "load exp scores from outputs/qa/babi_1/lstm+tanh/Mon_Jan_17_22:12:21_2022/ig_bz256.pkl\n"
     ]
    },
    {
     "name": "stderr",
     "output_type": "stream",
     "text": [
      "100%|██████████| 4/4 [00:00<00:00,  5.17it/s]\n"
     ]
    },
    {
     "name": "stdout",
     "output_type": "stream",
     "text": [
      "save RC_slice_out.pkl perturbation scores to /home/lyb/Transparency/data/qa/lstm/ig\n",
      " rcc:0.5484449863433838\n",
      "replace_func:zeros_mask, metric:RC\n",
      "/home/lyb/Transparency/data/qa/lstm/ig\n",
      "load exp scores from outputs/qa/babi_1/lstm+tanh/Mon_Jan_17_22:12:21_2022/ig_bz256.pkl\n"
     ]
    },
    {
     "name": "stderr",
     "output_type": "stream",
     "text": [
      "100%|██████████| 4/4 [00:00<00:00,  5.72it/s]\n"
     ]
    },
    {
     "name": "stdout",
     "output_type": "stream",
     "text": [
      "save RC_zeros_mask.pkl perturbation scores to /home/lyb/Transparency/data/qa/lstm/ig\n",
      " rcc:0.5673462152481079\n",
      "replace_func:att_mask, metric:RC\n",
      "/home/lyb/Transparency/data/qa/lstm/ig\n",
      "load exp scores from outputs/qa/babi_1/lstm+tanh/Mon_Jan_17_22:12:21_2022/ig_bz256.pkl\n"
     ]
    },
    {
     "name": "stderr",
     "output_type": "stream",
     "text": [
      "100%|██████████| 4/4 [00:00<00:00,  5.53it/s]\n"
     ]
    },
    {
     "name": "stdout",
     "output_type": "stream",
     "text": [
      "save RC_att_mask.pkl perturbation scores to /home/lyb/Transparency/data/qa/lstm/ig\n",
      " rcc:0.08141759037971497\n",
      "replace_func:slice_out, metric:AUCTP\n",
      "/home/lyb/Transparency/data/qa/lstm/ig\n",
      "load exp scores from outputs/qa/babi_1/lstm+tanh/Mon_Jan_17_22:12:21_2022/ig_bz256.pkl\n"
     ]
    },
    {
     "name": "stderr",
     "output_type": "stream",
     "text": [
      "100%|██████████| 4/4 [00:00<00:00,  6.65it/s]\n"
     ]
    },
    {
     "name": "stdout",
     "output_type": "stream",
     "text": [
      "save AUCTP_slice_out.pkl perturbation scores to /home/lyb/Transparency/data/qa/lstm/ig\n",
      "[0.05 0.1  0.2  0.5 ]\n",
      "{'Comprehensiveness': 0.9309766292572021, 'AUCTP': 0.05770000000000001}\n",
      "[0.   0.05 0.1  0.2  0.3  0.4  0.5  0.6  0.7  0.8  0.9 ] [0.999, 0.093, 0.057, 0.031, 0.029, 0.017, 0.019, 0.022, 0.038, 0.049, 0.066]\n",
      "replace_func:zeros_mask, metric:AUCTP\n",
      "/home/lyb/Transparency/data/qa/lstm/ig\n",
      "load exp scores from outputs/qa/babi_1/lstm+tanh/Mon_Jan_17_22:12:21_2022/ig_bz256.pkl\n"
     ]
    },
    {
     "name": "stderr",
     "output_type": "stream",
     "text": [
      "100%|██████████| 4/4 [00:00<00:00,  5.35it/s]\n"
     ]
    },
    {
     "name": "stdout",
     "output_type": "stream",
     "text": [
      "save AUCTP_zeros_mask.pkl perturbation scores to /home/lyb/Transparency/data/qa/lstm/ig\n",
      "[0.05 0.1  0.2  0.5 ]\n",
      "{'Comprehensiveness': 0.9336950778961182, 'AUCTP': 0.04180000000000001}\n",
      "[0.   0.05 0.1  0.2  0.3  0.4  0.5  0.6  0.7  0.8  0.9 ] [0.999, 0.087, 0.055, 0.025, 0.016, 0.008, 0.009, 0.006, 0.008, 0.007, 0.009]\n",
      "replace_func:att_mask, metric:AUCTP\n",
      "/home/lyb/Transparency/data/qa/lstm/ig\n",
      "load exp scores from outputs/qa/babi_1/lstm+tanh/Mon_Jan_17_22:12:21_2022/ig_bz256.pkl\n"
     ]
    },
    {
     "name": "stderr",
     "output_type": "stream",
     "text": [
      "100%|██████████| 4/4 [00:00<00:00,  5.51it/s]\n"
     ]
    },
    {
     "name": "stdout",
     "output_type": "stream",
     "text": [
      "save AUCTP_att_mask.pkl perturbation scores to /home/lyb/Transparency/data/qa/lstm/ig\n",
      "[0.05 0.1  0.2  0.5 ]\n",
      "{'Comprehensiveness': 0.7709894180297852, 'AUCTP': 0.11125}\n",
      "[0.   0.05 0.1  0.2  0.3  0.4  0.5  0.6  0.7  0.8  0.9 ] [0.999, 0.468, 0.255, 0.101, 0.071, 0.052, 0.053, 0.05, 0.046, 0.044, 0.041]\n",
      "replace_func:slice_out, metric:Sufficiency\n",
      "/home/lyb/Transparency/data/qa/lstm/ig\n",
      "load exp scores from outputs/qa/babi_1/lstm+tanh/Mon_Jan_17_22:12:21_2022/ig_bz256.pkl\n"
     ]
    },
    {
     "name": "stderr",
     "output_type": "stream",
     "text": [
      "100%|██████████| 4/4 [00:00<00:00, 15.46it/s]\n"
     ]
    },
    {
     "name": "stdout",
     "output_type": "stream",
     "text": [
      "save Sufficiency_slice_out.pkl perturbation scores to /home/lyb/Transparency/data/qa/lstm/ig\n",
      "Calculate Sufficiency for [0.5  0.8  0.9  0.95]\n",
      "replace_func:zeros_mask, metric:Sufficiency\n",
      "/home/lyb/Transparency/data/qa/lstm/ig\n",
      "load exp scores from outputs/qa/babi_1/lstm+tanh/Mon_Jan_17_22:12:21_2022/ig_bz256.pkl\n"
     ]
    },
    {
     "name": "stderr",
     "output_type": "stream",
     "text": [
      "100%|██████████| 4/4 [00:00<00:00, 12.60it/s]\n"
     ]
    },
    {
     "name": "stdout",
     "output_type": "stream",
     "text": [
      "save Sufficiency_zeros_mask.pkl perturbation scores to /home/lyb/Transparency/data/qa/lstm/ig\n",
      "Calculate Sufficiency for [0.5  0.8  0.9  0.95]\n",
      "replace_func:att_mask, metric:Sufficiency\n",
      "/home/lyb/Transparency/data/qa/lstm/ig\n",
      "load exp scores from outputs/qa/babi_1/lstm+tanh/Mon_Jan_17_22:12:21_2022/ig_bz256.pkl\n"
     ]
    },
    {
     "name": "stderr",
     "output_type": "stream",
     "text": [
      "100%|██████████| 4/4 [00:00<00:00, 11.03it/s]\n"
     ]
    },
    {
     "name": "stdout",
     "output_type": "stream",
     "text": [
      "save Sufficiency_att_mask.pkl perturbation scores to /home/lyb/Transparency/data/qa/lstm/ig\n",
      "Calculate Sufficiency for [0.5  0.8  0.9  0.95]\n",
      "{'AUCTP': 0.07025, 'Violation': 0.05766666866838932, 'Sufficiency': 0.12541060840400556, 'Comprehensiveness': 0.8785537083943685, 'RC': 0.39906959732373554}\n",
      "{'AUCTP': [0.05770000000000001, 0.04180000000000001, 0.11125], 'Violation': [0.014999999664723873, 0.00800000037997961, 0.15000000596046448], 'Sufficiency': [0.3582603633403778, 0.02109149470925331, -0.003120032837614417], 'Comprehensiveness': [0.9309766292572021, 0.9336950778961182, 0.7709894180297852], 'RC': [0.5484449863433838, 0.5673462152481079, 0.08141759037971497]}\n",
      "#################### dataset:babi_1, model:lstm_tanh, exp_type:rand  ####################\n",
      "replace_func:slice_out, metric:Violation\n",
      "/home/lyb/Transparency/data/qa/lstm/rand\n",
      "Violation mask size must be 1\n"
     ]
    },
    {
     "name": "stderr",
     "output_type": "stream",
     "text": [
      "100%|██████████| 4/4 [00:00<00:00,  4.38it/s]\n"
     ]
    },
    {
     "name": "stdout",
     "output_type": "stream",
     "text": [
      "save Violation_slice_out.pkl perturbation scores to /home/lyb/Transparency/data/qa/lstm/rand\n",
      "num. of violators: 426, ratio:42.60%\n",
      "replace_func:zeros_mask, metric:Violation\n",
      "/home/lyb/Transparency/data/qa/lstm/rand\n",
      "load exp scores from outputs/qa/babi_1/lstm+tanh/Mon_Jan_17_22:12:21_2022/rand_bz256.pkl\n",
      "Violation mask size must be 1\n"
     ]
    },
    {
     "name": "stderr",
     "output_type": "stream",
     "text": [
      "100%|██████████| 4/4 [00:00<00:00,  4.71it/s]\n"
     ]
    },
    {
     "name": "stdout",
     "output_type": "stream",
     "text": [
      "save Violation_zeros_mask.pkl perturbation scores to /home/lyb/Transparency/data/qa/lstm/rand\n",
      "num. of violators: 389, ratio:38.90%\n",
      "replace_func:att_mask, metric:Violation\n",
      "/home/lyb/Transparency/data/qa/lstm/rand\n",
      "load exp scores from outputs/qa/babi_1/lstm+tanh/Mon_Jan_17_22:12:21_2022/rand_bz256.pkl\n",
      "Violation mask size must be 1\n"
     ]
    },
    {
     "name": "stderr",
     "output_type": "stream",
     "text": [
      "100%|██████████| 4/4 [00:00<00:00,  4.74it/s]\n"
     ]
    },
    {
     "name": "stdout",
     "output_type": "stream",
     "text": [
      "save Violation_att_mask.pkl perturbation scores to /home/lyb/Transparency/data/qa/lstm/rand\n",
      "num. of violators: 199, ratio:19.90%\n",
      "replace_func:slice_out, metric:RC\n",
      "/home/lyb/Transparency/data/qa/lstm/rand\n",
      "load exp scores from outputs/qa/babi_1/lstm+tanh/Mon_Jan_17_22:12:21_2022/rand_bz256.pkl\n"
     ]
    },
    {
     "name": "stderr",
     "output_type": "stream",
     "text": [
      "100%|██████████| 4/4 [00:00<00:00,  5.57it/s]\n"
     ]
    },
    {
     "name": "stdout",
     "output_type": "stream",
     "text": [
      "save RC_slice_out.pkl perturbation scores to /home/lyb/Transparency/data/qa/lstm/rand\n",
      " rcc:-0.07031867653131485\n",
      "replace_func:zeros_mask, metric:RC\n",
      "/home/lyb/Transparency/data/qa/lstm/rand\n",
      "load exp scores from outputs/qa/babi_1/lstm+tanh/Mon_Jan_17_22:12:21_2022/rand_bz256.pkl\n"
     ]
    },
    {
     "name": "stderr",
     "output_type": "stream",
     "text": [
      "100%|██████████| 4/4 [00:00<00:00,  4.91it/s]\n"
     ]
    },
    {
     "name": "stdout",
     "output_type": "stream",
     "text": [
      "save RC_zeros_mask.pkl perturbation scores to /home/lyb/Transparency/data/qa/lstm/rand\n",
      " rcc:-0.054664839059114456\n",
      "replace_func:att_mask, metric:RC\n",
      "/home/lyb/Transparency/data/qa/lstm/rand\n",
      "load exp scores from outputs/qa/babi_1/lstm+tanh/Mon_Jan_17_22:12:21_2022/rand_bz256.pkl\n"
     ]
    },
    {
     "name": "stderr",
     "output_type": "stream",
     "text": [
      "100%|██████████| 4/4 [00:00<00:00,  5.63it/s]\n"
     ]
    },
    {
     "name": "stdout",
     "output_type": "stream",
     "text": [
      "save RC_att_mask.pkl perturbation scores to /home/lyb/Transparency/data/qa/lstm/rand\n",
      " rcc:-0.5545109510421753\n",
      "replace_func:slice_out, metric:AUCTP\n",
      "/home/lyb/Transparency/data/qa/lstm/rand\n",
      "load exp scores from outputs/qa/babi_1/lstm+tanh/Mon_Jan_17_22:12:21_2022/rand_bz256.pkl\n"
     ]
    },
    {
     "name": "stderr",
     "output_type": "stream",
     "text": [
      "100%|██████████| 4/4 [00:00<00:00,  6.27it/s]\n"
     ]
    },
    {
     "name": "stdout",
     "output_type": "stream",
     "text": [
      "save AUCTP_slice_out.pkl perturbation scores to /home/lyb/Transparency/data/qa/lstm/rand\n",
      "[0.05 0.1  0.2  0.5 ]\n",
      "{'Comprehensiveness': 0.3113847076892853, 'AUCTP': 0.41794999999999993}\n",
      "[0.   0.05 0.1  0.2  0.3  0.4  0.5  0.6  0.7  0.8  0.9 ] [0.999, 0.919, 0.831, 0.627, 0.512, 0.419, 0.372, 0.336, 0.272, 0.211, 0.196]\n",
      "replace_func:zeros_mask, metric:AUCTP\n",
      "/home/lyb/Transparency/data/qa/lstm/rand\n",
      "load exp scores from outputs/qa/babi_1/lstm+tanh/Mon_Jan_17_22:12:21_2022/rand_bz256.pkl\n"
     ]
    },
    {
     "name": "stderr",
     "output_type": "stream",
     "text": [
      "100%|██████████| 4/4 [00:00<00:00,  4.20it/s]\n"
     ]
    },
    {
     "name": "stdout",
     "output_type": "stream",
     "text": [
      "save AUCTP_zeros_mask.pkl perturbation scores to /home/lyb/Transparency/data/qa/lstm/rand\n",
      "[0.05 0.1  0.2  0.5 ]\n",
      "{'Comprehensiveness': 0.25150173902511597, 'AUCTP': 0.51075}\n",
      "[0.   0.05 0.1  0.2  0.3  0.4  0.5  0.6  0.7  0.8  0.9 ] [0.999, 0.922, 0.857, 0.724, 0.63, 0.535, 0.485, 0.451, 0.389, 0.366, 0.348]\n",
      "replace_func:att_mask, metric:AUCTP\n",
      "/home/lyb/Transparency/data/qa/lstm/rand\n",
      "load exp scores from outputs/qa/babi_1/lstm+tanh/Mon_Jan_17_22:12:21_2022/rand_bz256.pkl\n"
     ]
    },
    {
     "name": "stderr",
     "output_type": "stream",
     "text": [
      "100%|██████████| 4/4 [00:00<00:00,  5.00it/s]\n"
     ]
    },
    {
     "name": "stdout",
     "output_type": "stream",
     "text": [
      "save AUCTP_att_mask.pkl perturbation scores to /home/lyb/Transparency/data/qa/lstm/rand\n",
      "[0.05 0.1  0.2  0.5 ]\n",
      "{'Comprehensiveness': 0.10305878520011902, 'AUCTP': 0.7049749999999999}\n",
      "[0.   0.05 0.1  0.2  0.3  0.4  0.5  0.6  0.7  0.8  0.9 ] [0.999, 0.972, 0.952, 0.904, 0.853, 0.794, 0.755, 0.719, 0.667, 0.618, 0.58]\n",
      "replace_func:slice_out, metric:Sufficiency\n",
      "/home/lyb/Transparency/data/qa/lstm/rand\n",
      "load exp scores from outputs/qa/babi_1/lstm+tanh/Mon_Jan_17_22:12:21_2022/rand_bz256.pkl\n"
     ]
    },
    {
     "name": "stderr",
     "output_type": "stream",
     "text": [
      "100%|██████████| 4/4 [00:00<00:00, 12.65it/s]\n"
     ]
    },
    {
     "name": "stdout",
     "output_type": "stream",
     "text": [
      "save Sufficiency_slice_out.pkl perturbation scores to /home/lyb/Transparency/data/qa/lstm/rand\n",
      "Calculate Sufficiency for [0.5  0.8  0.9  0.95]\n",
      "replace_func:zeros_mask, metric:Sufficiency\n",
      "/home/lyb/Transparency/data/qa/lstm/rand\n",
      "load exp scores from outputs/qa/babi_1/lstm+tanh/Mon_Jan_17_22:12:21_2022/rand_bz256.pkl\n"
     ]
    },
    {
     "name": "stderr",
     "output_type": "stream",
     "text": [
      "100%|██████████| 4/4 [00:00<00:00, 11.50it/s]\n"
     ]
    },
    {
     "name": "stdout",
     "output_type": "stream",
     "text": [
      "save Sufficiency_zeros_mask.pkl perturbation scores to /home/lyb/Transparency/data/qa/lstm/rand\n",
      "Calculate Sufficiency for [0.5  0.8  0.9  0.95]\n",
      "replace_func:att_mask, metric:Sufficiency\n",
      "/home/lyb/Transparency/data/qa/lstm/rand\n",
      "load exp scores from outputs/qa/babi_1/lstm+tanh/Mon_Jan_17_22:12:21_2022/rand_bz256.pkl\n"
     ]
    },
    {
     "name": "stderr",
     "output_type": "stream",
     "text": [
      "100%|██████████| 4/4 [00:00<00:00, 11.71it/s]\n"
     ]
    },
    {
     "name": "stdout",
     "output_type": "stream",
     "text": [
      "save Sufficiency_att_mask.pkl perturbation scores to /home/lyb/Transparency/data/qa/lstm/rand\n",
      "Calculate Sufficiency for [0.5  0.8  0.9  0.95]\n",
      "{'AUCTP': 0.5445583333333333, 'Violation': 0.33799999952316284, 'Sufficiency': 0.5835243066151937, 'Comprehensiveness': 0.22198174397150675, 'RC': -0.22649815554420152}\n",
      "{'AUCTP': [0.41794999999999993, 0.51075, 0.7049749999999999], 'Violation': [0.4259999990463257, 0.3889999985694885, 0.19900000095367432], 'Sufficiency': [0.7399888038635254, 0.6227328181266785, 0.3878512978553772], 'Comprehensiveness': [0.3113847076892853, 0.25150173902511597, 0.10305878520011902], 'RC': [-0.07031867653131485, -0.054664839059114456, -0.5545109510421753]}\n",
      "#################### dataset:babi_1, model:lstm_tanh, exp_type:input*grad  ####################\n",
      "replace_func:slice_out, metric:Violation\n",
      "/home/lyb/Transparency/data/qa/lstm/input*grad\n",
      "Violation mask size must be 1\n"
     ]
    },
    {
     "name": "stderr",
     "output_type": "stream",
     "text": [
      "100%|██████████| 4/4 [00:00<00:00,  4.27it/s]\n"
     ]
    },
    {
     "name": "stdout",
     "output_type": "stream",
     "text": [
      "save Violation_slice_out.pkl perturbation scores to /home/lyb/Transparency/data/qa/lstm/input*grad\n",
      "num. of violators: 4, ratio:0.40%\n",
      "replace_func:zeros_mask, metric:Violation\n",
      "/home/lyb/Transparency/data/qa/lstm/input*grad\n",
      "load exp scores from outputs/qa/babi_1/lstm+tanh/Mon_Jan_17_22:12:21_2022/input*grad_bz256.pkl\n",
      "Violation mask size must be 1\n"
     ]
    },
    {
     "name": "stderr",
     "output_type": "stream",
     "text": [
      "100%|██████████| 4/4 [00:00<00:00,  4.54it/s]\n"
     ]
    },
    {
     "name": "stdout",
     "output_type": "stream",
     "text": [
      "save Violation_zeros_mask.pkl perturbation scores to /home/lyb/Transparency/data/qa/lstm/input*grad\n",
      "num. of violators: 1, ratio:0.10%\n",
      "replace_func:att_mask, metric:Violation\n",
      "/home/lyb/Transparency/data/qa/lstm/input*grad\n",
      "load exp scores from outputs/qa/babi_1/lstm+tanh/Mon_Jan_17_22:12:21_2022/input*grad_bz256.pkl\n",
      "Violation mask size must be 1\n"
     ]
    },
    {
     "name": "stderr",
     "output_type": "stream",
     "text": [
      "100%|██████████| 4/4 [00:00<00:00,  4.40it/s]\n"
     ]
    },
    {
     "name": "stdout",
     "output_type": "stream",
     "text": [
      "save Violation_att_mask.pkl perturbation scores to /home/lyb/Transparency/data/qa/lstm/input*grad\n",
      "num. of violators: 152, ratio:15.20%\n",
      "replace_func:slice_out, metric:RC\n",
      "/home/lyb/Transparency/data/qa/lstm/input*grad\n",
      "load exp scores from outputs/qa/babi_1/lstm+tanh/Mon_Jan_17_22:12:21_2022/input*grad_bz256.pkl\n"
     ]
    },
    {
     "name": "stderr",
     "output_type": "stream",
     "text": [
      "100%|██████████| 4/4 [00:00<00:00,  4.90it/s]\n"
     ]
    },
    {
     "name": "stdout",
     "output_type": "stream",
     "text": [
      "save RC_slice_out.pkl perturbation scores to /home/lyb/Transparency/data/qa/lstm/input*grad\n",
      " rcc:0.46486809849739075\n",
      "replace_func:zeros_mask, metric:RC\n",
      "/home/lyb/Transparency/data/qa/lstm/input*grad\n",
      "load exp scores from outputs/qa/babi_1/lstm+tanh/Mon_Jan_17_22:12:21_2022/input*grad_bz256.pkl\n"
     ]
    },
    {
     "name": "stderr",
     "output_type": "stream",
     "text": [
      "100%|██████████| 4/4 [00:00<00:00,  4.71it/s]\n"
     ]
    },
    {
     "name": "stdout",
     "output_type": "stream",
     "text": [
      "save RC_zeros_mask.pkl perturbation scores to /home/lyb/Transparency/data/qa/lstm/input*grad\n",
      " rcc:0.5141428709030151\n",
      "replace_func:att_mask, metric:RC\n",
      "/home/lyb/Transparency/data/qa/lstm/input*grad\n",
      "load exp scores from outputs/qa/babi_1/lstm+tanh/Mon_Jan_17_22:12:21_2022/input*grad_bz256.pkl\n"
     ]
    },
    {
     "name": "stderr",
     "output_type": "stream",
     "text": [
      "100%|██████████| 4/4 [00:00<00:00,  5.19it/s]\n"
     ]
    },
    {
     "name": "stdout",
     "output_type": "stream",
     "text": [
      "save RC_att_mask.pkl perturbation scores to /home/lyb/Transparency/data/qa/lstm/input*grad\n",
      " rcc:-0.025016484782099724\n",
      "replace_func:slice_out, metric:AUCTP\n",
      "/home/lyb/Transparency/data/qa/lstm/input*grad\n",
      "load exp scores from outputs/qa/babi_1/lstm+tanh/Mon_Jan_17_22:12:21_2022/input*grad_bz256.pkl\n"
     ]
    },
    {
     "name": "stderr",
     "output_type": "stream",
     "text": [
      "100%|██████████| 4/4 [00:00<00:00,  6.45it/s]\n"
     ]
    },
    {
     "name": "stdout",
     "output_type": "stream",
     "text": [
      "save AUCTP_slice_out.pkl perturbation scores to /home/lyb/Transparency/data/qa/lstm/input*grad\n",
      "[0.05 0.1  0.2  0.5 ]\n",
      "{'Comprehensiveness': 0.9210759401321411, 'AUCTP': 0.064575}\n",
      "[0.   0.05 0.1  0.2  0.3  0.4  0.5  0.6  0.7  0.8  0.9 ] [0.999, 0.091, 0.054, 0.06, 0.038, 0.024, 0.031, 0.032, 0.04, 0.053, 0.064]\n",
      "replace_func:zeros_mask, metric:AUCTP\n",
      "/home/lyb/Transparency/data/qa/lstm/input*grad\n",
      "load exp scores from outputs/qa/babi_1/lstm+tanh/Mon_Jan_17_22:12:21_2022/input*grad_bz256.pkl\n"
     ]
    },
    {
     "name": "stderr",
     "output_type": "stream",
     "text": [
      "100%|██████████| 4/4 [00:00<00:00,  6.15it/s]\n"
     ]
    },
    {
     "name": "stdout",
     "output_type": "stream",
     "text": [
      "save AUCTP_zeros_mask.pkl perturbation scores to /home/lyb/Transparency/data/qa/lstm/input*grad\n",
      "[0.05 0.1  0.2  0.5 ]\n",
      "{'Comprehensiveness': 0.9206913113594055, 'AUCTP': 0.057624999999999996}\n",
      "[0.   0.05 0.1  0.2  0.3  0.4  0.5  0.6  0.7  0.8  0.9 ] [0.999, 0.085, 0.054, 0.048, 0.04, 0.026, 0.029, 0.028, 0.029, 0.027, 0.033]\n",
      "replace_func:att_mask, metric:AUCTP\n",
      "/home/lyb/Transparency/data/qa/lstm/input*grad\n",
      "load exp scores from outputs/qa/babi_1/lstm+tanh/Mon_Jan_17_22:12:21_2022/input*grad_bz256.pkl\n"
     ]
    },
    {
     "name": "stderr",
     "output_type": "stream",
     "text": [
      "100%|██████████| 4/4 [00:00<00:00,  6.27it/s]\n"
     ]
    },
    {
     "name": "stdout",
     "output_type": "stream",
     "text": [
      "save AUCTP_att_mask.pkl perturbation scores to /home/lyb/Transparency/data/qa/lstm/input*grad\n",
      "[0.05 0.1  0.2  0.5 ]\n",
      "{'Comprehensiveness': 0.581142783164978, 'AUCTP': 0.30682499999999996}\n",
      "[0.   0.05 0.1  0.2  0.3  0.4  0.5  0.6  0.7  0.8  0.9 ] [0.999, 0.576, 0.45, 0.34, 0.32, 0.297, 0.283, 0.276, 0.274, 0.268, 0.27]\n",
      "replace_func:slice_out, metric:Sufficiency\n",
      "/home/lyb/Transparency/data/qa/lstm/input*grad\n",
      "load exp scores from outputs/qa/babi_1/lstm+tanh/Mon_Jan_17_22:12:21_2022/input*grad_bz256.pkl\n"
     ]
    },
    {
     "name": "stderr",
     "output_type": "stream",
     "text": [
      "100%|██████████| 4/4 [00:00<00:00, 12.80it/s]\n"
     ]
    },
    {
     "name": "stdout",
     "output_type": "stream",
     "text": [
      "save Sufficiency_slice_out.pkl perturbation scores to /home/lyb/Transparency/data/qa/lstm/input*grad\n",
      "Calculate Sufficiency for [0.5  0.8  0.9  0.95]\n",
      "replace_func:zeros_mask, metric:Sufficiency\n",
      "/home/lyb/Transparency/data/qa/lstm/input*grad\n",
      "load exp scores from outputs/qa/babi_1/lstm+tanh/Mon_Jan_17_22:12:21_2022/input*grad_bz256.pkl\n"
     ]
    },
    {
     "name": "stderr",
     "output_type": "stream",
     "text": [
      "100%|██████████| 4/4 [00:00<00:00, 11.38it/s]\n"
     ]
    },
    {
     "name": "stdout",
     "output_type": "stream",
     "text": [
      "save Sufficiency_zeros_mask.pkl perturbation scores to /home/lyb/Transparency/data/qa/lstm/input*grad\n",
      "Calculate Sufficiency for [0.5  0.8  0.9  0.95]\n",
      "replace_func:att_mask, metric:Sufficiency\n",
      "/home/lyb/Transparency/data/qa/lstm/input*grad\n",
      "load exp scores from outputs/qa/babi_1/lstm+tanh/Mon_Jan_17_22:12:21_2022/input*grad_bz256.pkl\n"
     ]
    },
    {
     "name": "stderr",
     "output_type": "stream",
     "text": [
      "100%|██████████| 4/4 [00:00<00:00, 11.44it/s]\n"
     ]
    },
    {
     "name": "stdout",
     "output_type": "stream",
     "text": [
      "save Sufficiency_att_mask.pkl perturbation scores to /home/lyb/Transparency/data/qa/lstm/input*grad\n",
      "Calculate Sufficiency for [0.5  0.8  0.9  0.95]\n",
      "{'AUCTP': 0.14300833333333332, 'Violation': 0.05233333178330213, 'Sufficiency': 0.23107187946637472, 'Comprehensiveness': 0.8076366782188416, 'RC': 0.3179981615394354}\n",
      "{'AUCTP': [0.064575, 0.057624999999999996, 0.30682499999999996], 'Violation': [0.004000000189989805, 0.0010000000474974513, 0.15199999511241913], 'Sufficiency': [0.43858200311660767, 0.17305222153663635, 0.08158141374588013], 'Comprehensiveness': [0.9210759401321411, 0.9206913113594055, 0.581142783164978], 'RC': [0.46486809849739075, 0.5141428709030151, -0.025016484782099724]}\n",
      "#################### dataset:babi_1, model:lstm_tanh, exp_type:att_norm  ####################\n",
      "replace_func:slice_out, metric:Violation\n",
      "/home/lyb/Transparency/data/qa/lstm/att_norm\n",
      "Violation mask size must be 1\n"
     ]
    },
    {
     "name": "stderr",
     "output_type": "stream",
     "text": [
      "100%|██████████| 4/4 [00:00<00:00,  5.33it/s]\n"
     ]
    },
    {
     "name": "stdout",
     "output_type": "stream",
     "text": [
      "save Violation_slice_out.pkl perturbation scores to /home/lyb/Transparency/data/qa/lstm/att_norm\n",
      "num. of violators: 5, ratio:0.50%\n",
      "replace_func:zeros_mask, metric:Violation\n",
      "/home/lyb/Transparency/data/qa/lstm/att_norm\n",
      "load exp scores from outputs/qa/babi_1/lstm+tanh/Mon_Jan_17_22:12:21_2022/att_norm_bz256.pkl\n",
      "Violation mask size must be 1\n"
     ]
    },
    {
     "name": "stderr",
     "output_type": "stream",
     "text": [
      "100%|██████████| 4/4 [00:00<00:00,  5.36it/s]\n"
     ]
    },
    {
     "name": "stdout",
     "output_type": "stream",
     "text": [
      "save Violation_zeros_mask.pkl perturbation scores to /home/lyb/Transparency/data/qa/lstm/att_norm\n",
      "num. of violators: 5, ratio:0.50%\n",
      "replace_func:att_mask, metric:Violation\n",
      "/home/lyb/Transparency/data/qa/lstm/att_norm\n",
      "load exp scores from outputs/qa/babi_1/lstm+tanh/Mon_Jan_17_22:12:21_2022/att_norm_bz256.pkl\n",
      "Violation mask size must be 1\n"
     ]
    },
    {
     "name": "stderr",
     "output_type": "stream",
     "text": [
      "100%|██████████| 4/4 [00:00<00:00,  5.18it/s]\n"
     ]
    },
    {
     "name": "stdout",
     "output_type": "stream",
     "text": [
      "save Violation_att_mask.pkl perturbation scores to /home/lyb/Transparency/data/qa/lstm/att_norm\n",
      "num. of violators: 4, ratio:0.40%\n",
      "replace_func:slice_out, metric:RC\n",
      "/home/lyb/Transparency/data/qa/lstm/att_norm\n",
      "load exp scores from outputs/qa/babi_1/lstm+tanh/Mon_Jan_17_22:12:21_2022/att_norm_bz256.pkl\n"
     ]
    },
    {
     "name": "stderr",
     "output_type": "stream",
     "text": [
      "100%|██████████| 4/4 [00:00<00:00,  5.48it/s]\n"
     ]
    },
    {
     "name": "stdout",
     "output_type": "stream",
     "text": [
      "save RC_slice_out.pkl perturbation scores to /home/lyb/Transparency/data/qa/lstm/att_norm\n",
      " rcc:0.35103297233581543\n",
      "replace_func:zeros_mask, metric:RC\n",
      "/home/lyb/Transparency/data/qa/lstm/att_norm\n",
      "load exp scores from outputs/qa/babi_1/lstm+tanh/Mon_Jan_17_22:12:21_2022/att_norm_bz256.pkl\n"
     ]
    },
    {
     "name": "stderr",
     "output_type": "stream",
     "text": [
      "100%|██████████| 4/4 [00:00<00:00,  5.64it/s]\n"
     ]
    },
    {
     "name": "stdout",
     "output_type": "stream",
     "text": [
      "save RC_zeros_mask.pkl perturbation scores to /home/lyb/Transparency/data/qa/lstm/att_norm\n",
      " rcc:0.4343900680541992\n",
      "replace_func:att_mask, metric:RC\n",
      "/home/lyb/Transparency/data/qa/lstm/att_norm\n",
      "load exp scores from outputs/qa/babi_1/lstm+tanh/Mon_Jan_17_22:12:21_2022/att_norm_bz256.pkl\n"
     ]
    },
    {
     "name": "stderr",
     "output_type": "stream",
     "text": [
      "100%|██████████| 4/4 [00:00<00:00,  5.35it/s]\n"
     ]
    },
    {
     "name": "stdout",
     "output_type": "stream",
     "text": [
      "save RC_att_mask.pkl perturbation scores to /home/lyb/Transparency/data/qa/lstm/att_norm\n",
      " rcc:0.6969341039657593\n",
      "replace_func:slice_out, metric:AUCTP\n",
      "/home/lyb/Transparency/data/qa/lstm/att_norm\n",
      "load exp scores from outputs/qa/babi_1/lstm+tanh/Mon_Jan_17_22:12:21_2022/att_norm_bz256.pkl\n"
     ]
    },
    {
     "name": "stderr",
     "output_type": "stream",
     "text": [
      "100%|██████████| 4/4 [00:00<00:00,  6.51it/s]\n"
     ]
    },
    {
     "name": "stdout",
     "output_type": "stream",
     "text": [
      "save AUCTP_slice_out.pkl perturbation scores to /home/lyb/Transparency/data/qa/lstm/att_norm\n",
      "[0.05 0.1  0.2  0.5 ]\n",
      "{'Comprehensiveness': 0.8308385610580444, 'AUCTP': 0.173925}\n",
      "[0.   0.05 0.1  0.2  0.3  0.4  0.5  0.6  0.7  0.8  0.9 ] [0.999, 0.08, 0.158, 0.211, 0.185, 0.183, 0.167, 0.154, 0.169, 0.184, 0.156]\n",
      "replace_func:zeros_mask, metric:AUCTP\n",
      "/home/lyb/Transparency/data/qa/lstm/att_norm\n",
      "load exp scores from outputs/qa/babi_1/lstm+tanh/Mon_Jan_17_22:12:21_2022/att_norm_bz256.pkl\n"
     ]
    },
    {
     "name": "stderr",
     "output_type": "stream",
     "text": [
      "100%|██████████| 4/4 [00:00<00:00,  6.36it/s]\n"
     ]
    },
    {
     "name": "stdout",
     "output_type": "stream",
     "text": [
      "save AUCTP_zeros_mask.pkl perturbation scores to /home/lyb/Transparency/data/qa/lstm/att_norm\n",
      "[0.05 0.1  0.2  0.5 ]\n",
      "{'Comprehensiveness': 0.829367995262146, 'AUCTP': 0.1759}\n",
      "[0.   0.05 0.1  0.2  0.3  0.4  0.5  0.6  0.7  0.8  0.9 ] [0.999, 0.078, 0.177, 0.218, 0.203, 0.179, 0.166, 0.168, 0.172, 0.154, 0.155]\n",
      "replace_func:att_mask, metric:AUCTP\n",
      "/home/lyb/Transparency/data/qa/lstm/att_norm\n",
      "load exp scores from outputs/qa/babi_1/lstm+tanh/Mon_Jan_17_22:12:21_2022/att_norm_bz256.pkl\n"
     ]
    },
    {
     "name": "stderr",
     "output_type": "stream",
     "text": [
      "100%|██████████| 4/4 [00:00<00:00,  5.96it/s]\n"
     ]
    },
    {
     "name": "stdout",
     "output_type": "stream",
     "text": [
      "save AUCTP_att_mask.pkl perturbation scores to /home/lyb/Transparency/data/qa/lstm/att_norm\n",
      "[0.05 0.1  0.2  0.5 ]\n",
      "{'Comprehensiveness': 0.7210331559181213, 'AUCTP': 0.28415}\n",
      "[0.   0.05 0.1  0.2  0.3  0.4  0.5  0.6  0.7  0.8  0.9 ] [0.999, 0.26, 0.319, 0.281, 0.281, 0.298, 0.312, 0.293, 0.311, 0.319, 0.255]\n",
      "replace_func:slice_out, metric:Sufficiency\n",
      "/home/lyb/Transparency/data/qa/lstm/att_norm\n",
      "load exp scores from outputs/qa/babi_1/lstm+tanh/Mon_Jan_17_22:12:21_2022/att_norm_bz256.pkl\n"
     ]
    },
    {
     "name": "stderr",
     "output_type": "stream",
     "text": [
      "100%|██████████| 4/4 [00:00<00:00, 13.02it/s]\n"
     ]
    },
    {
     "name": "stdout",
     "output_type": "stream",
     "text": [
      "save Sufficiency_slice_out.pkl perturbation scores to /home/lyb/Transparency/data/qa/lstm/att_norm\n",
      "Calculate Sufficiency for [0.5  0.8  0.9  0.95]\n",
      "replace_func:zeros_mask, metric:Sufficiency\n",
      "/home/lyb/Transparency/data/qa/lstm/att_norm\n",
      "load exp scores from outputs/qa/babi_1/lstm+tanh/Mon_Jan_17_22:12:21_2022/att_norm_bz256.pkl\n"
     ]
    },
    {
     "name": "stderr",
     "output_type": "stream",
     "text": [
      "100%|██████████| 4/4 [00:00<00:00, 10.99it/s]\n"
     ]
    },
    {
     "name": "stdout",
     "output_type": "stream",
     "text": [
      "save Sufficiency_zeros_mask.pkl perturbation scores to /home/lyb/Transparency/data/qa/lstm/att_norm\n",
      "Calculate Sufficiency for [0.5  0.8  0.9  0.95]\n",
      "replace_func:att_mask, metric:Sufficiency\n",
      "/home/lyb/Transparency/data/qa/lstm/att_norm\n",
      "load exp scores from outputs/qa/babi_1/lstm+tanh/Mon_Jan_17_22:12:21_2022/att_norm_bz256.pkl\n"
     ]
    },
    {
     "name": "stderr",
     "output_type": "stream",
     "text": [
      "100%|██████████| 4/4 [00:00<00:00, 10.88it/s]"
     ]
    },
    {
     "name": "stdout",
     "output_type": "stream",
     "text": [
      "save Sufficiency_att_mask.pkl perturbation scores to /home/lyb/Transparency/data/qa/lstm/att_norm\n",
      "Calculate Sufficiency for [0.5  0.8  0.9  0.95]\n",
      "{'AUCTP': 0.21132499999999999, 'Violation': 0.004666666655490796, 'Sufficiency': 0.3325740723163714, 'Comprehensiveness': 0.7937465707461039, 'RC': 0.4941190481185913}\n",
      "{'AUCTP': [0.173925, 0.1759, 0.28415], 'Violation': [0.004999999888241291, 0.004999999888241291, 0.004000000189989805], 'Sufficiency': [0.6665859222412109, 0.33114752173423767, -1.1227026334381662e-05], 'Comprehensiveness': [0.8308385610580444, 0.829367995262146, 0.7210331559181213], 'RC': [0.35103297233581543, 0.4343900680541992, 0.6969341039657593]}\n"
     ]
    },
    {
     "name": "stderr",
     "output_type": "stream",
     "text": [
      "\n"
     ]
    }
   ],
   "source": [
    "############################ Generate Results for Table Begin ################################## \n",
    "\n",
    "all_dataset_names = ['qqp', 'babi_1', 'babi_2', 'babi_3', 'snli']\n",
    "all_encoder_names = ['cnn', 'lstm']\n",
    "all_attention_names = ['dot', 'tanh']\n",
    "all_exp_names = [\"rand\", \"ig\", \"att\", \"att*grad\", \"att_norm\", \\\n",
    "    \"att*grad_abs\", \"att*grad_only_grad\", \"att*grad_sign\", \"grad_cam\", \"input*grad\", ]\n",
    "all_exp_metric_names = [\"AUCTP\", \"Violation\", \"Sufficiency\", \"Comprehensiveness\", \"RC\"]\n",
    "all_replace_names = [\"slice_out\", \"zeros_mask\", \"att_mask\"]\n",
    "\n",
    "\n",
    "# [\"att*grad\", \"att\", \"ig\", \"rand\", \"input*grad\", \"att_norm\"]\n",
    "dataset_names = ['babi_1']\n",
    "encoder_names = ['lstm']\n",
    "attention_names = ['tanh']\n",
    "exp_names = [\"rand\", \"att\"]\n",
    "# exp_names = [\"ig\", \"rand\", \"att\", \"att*grad\", \"input*grad\", \"att_norm\"]\n",
    "\n",
    "exp_metric_names = [\"Violation\"]\n",
    "replace_names = [\"slice_out\", \"zeros_mask\", \"att_mask\"]\n",
    "args.batch_size = 256\n",
    "\n",
    "\n",
    "total_scores_dict = {dataset_name:{} for dataset_name in dataset_names}\n",
    "for dataset_name in dataset_names: # Dataset Name\n",
    "    if dataset_name not in total_scores_dict:\n",
    "        total_scores_dict[dataset_name] = {}\n",
    "    dataset_dict = total_scores_dict[dataset_name]\n",
    "\n",
    "    # load dataset\n",
    "    args.dataset = dataset_name\n",
    "    dataset = datasets[args.dataset](args)\n",
    "    if args.output_dir is not None :\n",
    "        dataset.output_dir = args.output_dir\n",
    "    dataset.display_stats()\n",
    "\n",
    "    # mask size setup\n",
    "    dataset_len = len(dataset.test_data.A)\n",
    "    minlen = len(dataset.test_data.Q[0])\n",
    "    mask_size = 1\n",
    "    group_size = 20\n",
    "    if minlen > group_size:\n",
    "        # in case of very long sequence, we use mask_size to reduce iteration times\n",
    "        mask_size += (minlen//group_size)\n",
    "\n",
    "    for encoder_name in encoder_names: # Model Type\n",
    "        args.encoder = encoder_name\n",
    "        for attention_type in attention_names: # tanh  # Attention Type\n",
    "            args.attention = attention_type\n",
    "            if args.attention in ['dot'] :\n",
    "                e = args.encoder + '_dot'\n",
    "            else:\n",
    "                e = args.encoder\n",
    "\n",
    "            config = e\n",
    "            if e not in dataset_dict:\n",
    "                dataset_dict[e] = {}\n",
    "            \n",
    "            config = configurations_qa[config](dataset)\n",
    "            latest_model_path = get_latest_model(os.path.join(config['training']['basepath'], config['training']['exp_dirname']))\n",
    "            evaluator = Evaluator(dataset, latest_model_path, _type=dataset.trainer_type)\n",
    "            evaluator.model.bsize = args.batch_size\n",
    "            # predictions, attentions, metrics = evaluator.evaluate(dataset.test_data, save_results=False, return_metrics=True)\n",
    "\n",
    "            for exp_type in exp_names: # Explanation Type\n",
    "                load_cached_exp = False\n",
    "                print(\"#\"*20, \"dataset:{}, model:{}, exp_type:{} \".format(dataset_name, encoder_name+\"_\"+attention_type, exp_type), \"#\"*20)\n",
    "                if exp_type not in dataset_dict[e]:\n",
    "                    scores = {n:[] for n in all_exp_metric_names}\n",
    "                else:\n",
    "                    scores = dataset_dict[e][exp_type]\n",
    "                    for exp_metric in exp_metric_names:\n",
    "                        scores[exp_metric] = []\n",
    "\n",
    "                for i, exp_metric in enumerate(exp_metric_names):\n",
    "                    for delta_type in replace_names: # Replacement methods\n",
    "                        print(\"replace_func:{}, metric:{}\".format(delta_type, exp_metric))\n",
    "                        torch.cuda.empty_cache()\n",
    "                        outputs = evaluator.replace_and_run_experiment(e, dataset.test_data, exp=exp_type, \\\n",
    "                            delta_type=delta_type, exp_metric=exp_metric, mask_size=mask_size, plot=True, \\\n",
    "                            load_exp_scores=load_cached_exp, load_perturbation_scores=False)\n",
    "\n",
    "                        for calculated_metric in outputs[-1]:\n",
    "                            scores[calculated_metric].append(outputs[-1][calculated_metric])\n",
    "                        \n",
    "                        load_cached_exp = True\n",
    "\n",
    "                dataset_dict[e][exp_type] = scores\n",
    "                mean_scores = {n: sum(scores[n])/3 for n in scores}\n",
    "                print(mean_scores)\n",
    "                print(scores)\n"
   ]
  },
  {
   "cell_type": "code",
   "execution_count": 42,
   "metadata": {},
   "outputs": [],
   "source": [
    "import pickle\n",
    "import os\n",
    "\n",
    "data_dir = \"./data\"\n",
    "with open(os.path.join(data_dir, \"QA_results.pkl\"), 'wb') as f:\n",
    "    pickle.dump(total_scores_dict, f)"
   ]
  }
 ],
 "metadata": {
  "interpreter": {
   "hash": "df9fbcb36b66b3abb022e6e6ee23e59f5f48539a033744504a8ba84fc8f1878c"
  },
  "kernelspec": {
   "display_name": "Python 3.8.11 64-bit ('python3': conda)",
   "language": "python",
   "name": "python3"
  },
  "language_info": {
   "codemirror_mode": {
    "name": "ipython",
    "version": 3
   },
   "file_extension": ".py",
   "mimetype": "text/x-python",
   "name": "python",
   "nbconvert_exporter": "python",
   "pygments_lexer": "ipython3",
   "version": "3.8.11"
  },
  "orig_nbformat": 4
 },
 "nbformat": 4,
 "nbformat_minor": 2
}
