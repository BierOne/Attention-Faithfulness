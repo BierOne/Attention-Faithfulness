{
 "cells": [
  {
   "cell_type": "code",
   "execution_count": 1,
   "metadata": {},
   "outputs": [],
   "source": [
    "import argparse, os\n",
    "import torch\n",
    "import numpy as np\n",
    "\n",
    "import os, h5py, json\n",
    "from tqdm import tqdm\n",
    "from PIL import Image\n",
    "\n",
    "from skimage import transform, io, img_as_float\n",
    "import torchvision.transforms as transforms\n",
    "import numpy as np\n",
    "\n",
    "import matplotlib.image as mpimg\n",
    "import matplotlib.pyplot as plt"
   ]
  },
  {
   "cell_type": "code",
   "execution_count": null,
   "metadata": {},
   "outputs": [
    {
     "name": "stdout",
     "output_type": "stream",
     "text": [
      "bc\n"
     ]
    }
   ],
   "source": [
    "from Transparency.Trainers.DatasetBC import *\n",
    "from Transparency.ExperimentsBC import *\n",
    "from Transparency.common_code.common import *\n",
    "from Transparency.Trainers.PlottingBC import generate_graphs, plot_adversarial_examples, plot_logodds_examples\n",
    "from Transparency.configurations import configurations\n",
    "from Transparency.Trainers.TrainerBC import Trainer, Evaluator\n",
    "from Transparency.model.LR import LR\n",
    "\n",
    "torch.backends.cudnn.enabled = False\n",
    "task = \"bc\" "
   ]
  },
  {
   "cell_type": "code",
   "execution_count": 2,
   "metadata": {},
   "outputs": [],
   "source": [
    "parser = argparse.ArgumentParser()\n",
    "parser.add_argument('--dataset', type=str)\n",
    "parser.add_argument(\"--data_dir\", type=str)\n",
    "parser.add_argument(\"--output_dir\", type=str)\n",
    "parser.add_argument('--encoder', type=str, choices=['cnn', 'lstm', 'average', 'all'])\n",
    "parser.add_argument('--attention', type=str, choices=['tanh', 'dot', 'all'])\n",
    "parser.add_argument(\"--gpu\", type=str, default='2')\n",
    "parser.add_argument(\"--layers\", type=int, default=1)\n",
    "parser.add_argument(\"--e_layers\", type=int, default=0)\n",
    "\n",
    "args, extras = parser.parse_known_args(args=[])\n",
    "args.extras = extras\n",
    "\n",
    "args.gpu = '0'\n",
    "args.output_dir = 'outputs/mc'\n",
    "args.data_dir = './'\n",
    "\n",
    "os.environ[\"CUDA_VISIBLE_DEVICES\"] = args.gpu"
   ]
  },
  {
   "cell_type": "code",
   "execution_count": 8,
   "metadata": {},
   "outputs": [
    {
     "name": "stderr",
     "output_type": "stream",
     "text": [
      "INFO - 2022-01-25 20:08:05,217 - type = rnn\n",
      "INFO - 2022-01-25 20:08:05,218 - vocab_size = 38636\n",
      "INFO - 2022-01-25 20:08:05,219 - embed_size = 300\n",
      "INFO - 2022-01-25 20:08:05,219 - hidden_size = 128\n",
      "INFO - 2022-01-25 20:08:05,220 - pre_embed = None\n",
      "INFO - 2022-01-25 20:08:05,221 - e_layers = 0\n",
      "INFO - 2022-01-25 20:08:05,373 - hidden_size = 256\n",
      "INFO - 2022-01-25 20:08:05,374 - attention.type = tanh\n",
      "INFO - 2022-01-25 20:08:05,375 - attention.type = tanh\n",
      "INFO - 2022-01-25 20:08:05,376 - output_size = 5\n",
      "INFO - 2022-01-25 20:08:05,377 - use_attention = True\n",
      "INFO - 2022-01-25 20:08:05,377 - regularizer_attention = None\n",
      "INFO - 2022-01-25 20:08:05,378 - layers = 1\n",
      "INFO - 2022-01-25 20:08:05,380 - type = tanh\n",
      "INFO - 2022-01-25 20:08:05,381 - hidden_size = 256\n"
     ]
    },
    {
     "name": "stdout",
     "output_type": "stream",
     "text": [
      "{'vocab_size': 38636, 'embed_size': 300, 'train_size': [(0, 72608), (1, 68818), (2, 73502), (3, 80623), (4, 91975)], 'test_size': [(0, 5601), (1, 5350), (2, 5674), (3, 6254), (4, 7197)], 'min_length': 7, 'max_length': 149, 'mean_length': 76.30818577334166, 'std_length': 37.82558250984736}\n"
     ]
    },
    {
     "name": "stderr",
     "output_type": "stream",
     "text": [
      "100%|██████████| 118/118 [00:03<00:00, 30.89it/s]\n"
     ]
    },
    {
     "name": "stdout",
     "output_type": "stream",
     "text": [
      "{'accuracy': 0.646329299108924}\n"
     ]
    },
    {
     "data": {
      "text/html": [
       "<div>\n",
       "<style scoped>\n",
       "    .dataframe tbody tr th:only-of-type {\n",
       "        vertical-align: middle;\n",
       "    }\n",
       "\n",
       "    .dataframe tbody tr th {\n",
       "        vertical-align: top;\n",
       "    }\n",
       "\n",
       "    .dataframe thead th {\n",
       "        text-align: right;\n",
       "    }\n",
       "</style>\n",
       "<table border=\"1\" class=\"dataframe\">\n",
       "  <thead>\n",
       "    <tr style=\"text-align: right;\">\n",
       "      <th></th>\n",
       "    </tr>\n",
       "  </thead>\n",
       "  <tbody>\n",
       "  </tbody>\n",
       "</table>\n",
       "</div>"
      ],
      "text/plain": [
       "Empty DataFrame\n",
       "Columns: []\n",
       "Index: []"
      ]
     },
     "metadata": {},
     "output_type": "display_data"
    },
    {
     "name": "stdout",
     "output_type": "stream",
     "text": [
      "#################### dataset:yelp, model:lstm_tanh, exp_type:ig  ####################\n",
      "replace_func:slice_out, metric:Violation\n",
      "/home/lyb/Transparency/data/bc/yelp/lstm/ig\n",
      "Violation mask size must be 1\n"
     ]
    },
    {
     "name": "stderr",
     "output_type": "stream",
     "text": [
      "100%|██████████| 118/118 [03:26<00:00,  1.75s/it]\n"
     ]
    },
    {
     "name": "stdout",
     "output_type": "stream",
     "text": [
      "save Violation_slice_out.pkl perturbation scores to /home/lyb/Transparency/data/bc/yelp/lstm/ig\n",
      "num. of violators: 294, ratio:0.98%\n",
      "replace_func:zeros_mask, metric:Violation\n",
      "/home/lyb/Transparency/data/bc/yelp/lstm/ig\n",
      "load exp scores from outputs/mc_1l_relu/yelp/lstm+tanh/Sun_Jan_23_00:05:10_2022/ig_bz256.pkl\n",
      "Violation mask size must be 1\n"
     ]
    },
    {
     "name": "stderr",
     "output_type": "stream",
     "text": [
      "100%|██████████| 118/118 [00:31<00:00,  3.78it/s]\n"
     ]
    },
    {
     "name": "stdout",
     "output_type": "stream",
     "text": [
      "save Violation_zeros_mask.pkl perturbation scores to /home/lyb/Transparency/data/bc/yelp/lstm/ig\n",
      "num. of violators: 226, ratio:0.75%\n",
      "replace_func:att_mask, metric:Violation\n",
      "/home/lyb/Transparency/data/bc/yelp/lstm/ig\n",
      "load exp scores from outputs/mc_1l_relu/yelp/lstm+tanh/Sun_Jan_23_00:05:10_2022/ig_bz256.pkl\n",
      "Violation mask size must be 1\n"
     ]
    },
    {
     "name": "stderr",
     "output_type": "stream",
     "text": [
      "100%|██████████| 118/118 [00:32<00:00,  3.67it/s]\n"
     ]
    },
    {
     "name": "stdout",
     "output_type": "stream",
     "text": [
      "save Violation_att_mask.pkl perturbation scores to /home/lyb/Transparency/data/bc/yelp/lstm/ig\n",
      "num. of violators: 808, ratio:2.69%\n",
      "{'AUCTP': 0.0, 'Violation': 0.014718268997967243, 'Sufficiency': 0.0, 'Comprehensiveness': 0.0, 'RC': 0.0}\n",
      "{'AUCTP': [], 'Violation': [0.009775236248970032, 0.007514297030866146, 0.026865273714065552], 'Sufficiency': [], 'Comprehensiveness': [], 'RC': []}\n",
      "#################### dataset:yelp, model:lstm_tanh, exp_type:rand  ####################\n",
      "replace_func:slice_out, metric:Violation\n",
      "/home/lyb/Transparency/data/bc/yelp/lstm/rand\n",
      "Violation mask size must be 1\n"
     ]
    },
    {
     "name": "stderr",
     "output_type": "stream",
     "text": [
      "100%|██████████| 118/118 [00:30<00:00,  3.89it/s]\n"
     ]
    },
    {
     "name": "stdout",
     "output_type": "stream",
     "text": [
      "save Violation_slice_out.pkl perturbation scores to /home/lyb/Transparency/data/bc/yelp/lstm/rand\n",
      "num. of violators: 14126, ratio:46.97%\n",
      "replace_func:zeros_mask, metric:Violation\n",
      "/home/lyb/Transparency/data/bc/yelp/lstm/rand\n",
      "load exp scores from outputs/mc_1l_relu/yelp/lstm+tanh/Sun_Jan_23_00:05:10_2022/rand_bz256.pkl\n",
      "Violation mask size must be 1\n"
     ]
    },
    {
     "name": "stderr",
     "output_type": "stream",
     "text": [
      "100%|██████████| 118/118 [00:33<00:00,  3.49it/s]\n"
     ]
    },
    {
     "name": "stdout",
     "output_type": "stream",
     "text": [
      "save Violation_zeros_mask.pkl perturbation scores to /home/lyb/Transparency/data/bc/yelp/lstm/rand\n",
      "num. of violators: 11763, ratio:39.11%\n",
      "replace_func:att_mask, metric:Violation\n",
      "/home/lyb/Transparency/data/bc/yelp/lstm/rand\n",
      "load exp scores from outputs/mc_1l_relu/yelp/lstm+tanh/Sun_Jan_23_00:05:10_2022/rand_bz256.pkl\n",
      "Violation mask size must be 1\n"
     ]
    },
    {
     "name": "stderr",
     "output_type": "stream",
     "text": [
      "100%|██████████| 118/118 [00:32<00:00,  3.67it/s]\n"
     ]
    },
    {
     "name": "stdout",
     "output_type": "stream",
     "text": [
      "save Violation_att_mask.pkl perturbation scores to /home/lyb/Transparency/data/bc/yelp/lstm/rand\n",
      "num. of violators: 16552, ratio:55.03%\n",
      "{'AUCTP': 0.0, 'Violation': 0.47037506103515625, 'Sufficiency': 0.0, 'Comprehensiveness': 0.0, 'RC': 0.0}\n",
      "{'AUCTP': [], 'Violation': [0.46967682242393494, 0.3911091983318329, 0.5503391623497009], 'Sufficiency': [], 'Comprehensiveness': [], 'RC': []}\n",
      "#################### dataset:yelp, model:lstm_tanh, exp_type:att  ####################\n",
      "replace_func:slice_out, metric:Violation\n",
      "/home/lyb/Transparency/data/bc/yelp/lstm/att\n",
      "Violation mask size must be 1\n"
     ]
    },
    {
     "name": "stderr",
     "output_type": "stream",
     "text": [
      "100%|██████████| 118/118 [00:30<00:00,  3.89it/s]\n"
     ]
    },
    {
     "name": "stdout",
     "output_type": "stream",
     "text": [
      "save Violation_slice_out.pkl perturbation scores to /home/lyb/Transparency/data/bc/yelp/lstm/att\n",
      "num. of violators: 7742, ratio:25.74%\n",
      "replace_func:zeros_mask, metric:Violation\n",
      "/home/lyb/Transparency/data/bc/yelp/lstm/att\n",
      "load exp scores from outputs/mc_1l_relu/yelp/lstm+tanh/Sun_Jan_23_00:05:10_2022/att_bz256.pkl\n",
      "Violation mask size must be 1\n"
     ]
    },
    {
     "name": "stderr",
     "output_type": "stream",
     "text": [
      "100%|██████████| 118/118 [00:32<00:00,  3.62it/s]\n"
     ]
    },
    {
     "name": "stdout",
     "output_type": "stream",
     "text": [
      "save Violation_zeros_mask.pkl perturbation scores to /home/lyb/Transparency/data/bc/yelp/lstm/att\n",
      "num. of violators: 6565, ratio:21.83%\n",
      "replace_func:att_mask, metric:Violation\n",
      "/home/lyb/Transparency/data/bc/yelp/lstm/att\n",
      "load exp scores from outputs/mc_1l_relu/yelp/lstm+tanh/Sun_Jan_23_00:05:10_2022/att_bz256.pkl\n",
      "Violation mask size must be 1\n"
     ]
    },
    {
     "name": "stderr",
     "output_type": "stream",
     "text": [
      "100%|██████████| 118/118 [00:31<00:00,  3.75it/s]\n"
     ]
    },
    {
     "name": "stdout",
     "output_type": "stream",
     "text": [
      "save Violation_att_mask.pkl perturbation scores to /home/lyb/Transparency/data/bc/yelp/lstm/att\n",
      "num. of violators: 9386, ratio:31.21%\n",
      "{'AUCTP': 0.0, 'Violation': 0.26259032388528186, 'Sufficiency': 0.0, 'Comprehensiveness': 0.0, 'RC': 0.0}\n",
      "{'AUCTP': [], 'Violation': [0.2574145495891571, 0.2182803601026535, 0.31207606196403503], 'Sufficiency': [], 'Comprehensiveness': [], 'RC': []}\n",
      "#################### dataset:yelp, model:lstm_tanh, exp_type:att*grad  ####################\n",
      "replace_func:slice_out, metric:Violation\n",
      "/home/lyb/Transparency/data/bc/yelp/lstm/att*grad\n",
      "Violation mask size must be 1\n"
     ]
    },
    {
     "name": "stderr",
     "output_type": "stream",
     "text": [
      "100%|██████████| 118/118 [00:31<00:00,  3.69it/s]\n"
     ]
    },
    {
     "name": "stdout",
     "output_type": "stream",
     "text": [
      "save Violation_slice_out.pkl perturbation scores to /home/lyb/Transparency/data/bc/yelp/lstm/att*grad\n",
      "num. of violators: 592, ratio:1.97%\n",
      "replace_func:zeros_mask, metric:Violation\n",
      "/home/lyb/Transparency/data/bc/yelp/lstm/att*grad\n",
      "load exp scores from outputs/mc_1l_relu/yelp/lstm+tanh/Sun_Jan_23_00:05:10_2022/att*grad_bz256.pkl\n",
      "Violation mask size must be 1\n"
     ]
    },
    {
     "name": "stderr",
     "output_type": "stream",
     "text": [
      "100%|██████████| 118/118 [00:32<00:00,  3.60it/s]\n"
     ]
    },
    {
     "name": "stdout",
     "output_type": "stream",
     "text": [
      "save Violation_zeros_mask.pkl perturbation scores to /home/lyb/Transparency/data/bc/yelp/lstm/att*grad\n",
      "num. of violators: 529, ratio:1.76%\n",
      "replace_func:att_mask, metric:Violation\n",
      "/home/lyb/Transparency/data/bc/yelp/lstm/att*grad\n",
      "load exp scores from outputs/mc_1l_relu/yelp/lstm+tanh/Sun_Jan_23_00:05:10_2022/att*grad_bz256.pkl\n",
      "Violation mask size must be 1\n"
     ]
    },
    {
     "name": "stderr",
     "output_type": "stream",
     "text": [
      "100%|██████████| 118/118 [00:33<00:00,  3.56it/s]\n"
     ]
    },
    {
     "name": "stdout",
     "output_type": "stream",
     "text": [
      "save Violation_att_mask.pkl perturbation scores to /home/lyb/Transparency/data/bc/yelp/lstm/att*grad\n",
      "num. of violators: 374, ratio:1.24%\n",
      "{'AUCTP': 0.0, 'Violation': 0.016569136331478756, 'Sufficiency': 0.0, 'Comprehensiveness': 0.0, 'RC': 0.0}\n",
      "{'AUCTP': [], 'Violation': [0.019683469086885452, 0.017588775604963303, 0.01243516430258751], 'Sufficiency': [], 'Comprehensiveness': [], 'RC': []}\n",
      "#################### dataset:yelp, model:lstm_tanh, exp_type:input*grad  ####################\n",
      "replace_func:slice_out, metric:Violation\n",
      "/home/lyb/Transparency/data/bc/yelp/lstm/input*grad\n",
      "Violation mask size must be 1\n"
     ]
    },
    {
     "name": "stderr",
     "output_type": "stream",
     "text": [
      "100%|██████████| 118/118 [00:37<00:00,  3.12it/s]\n"
     ]
    },
    {
     "name": "stdout",
     "output_type": "stream",
     "text": [
      "save Violation_slice_out.pkl perturbation scores to /home/lyb/Transparency/data/bc/yelp/lstm/input*grad\n",
      "num. of violators: 388, ratio:1.29%\n",
      "replace_func:zeros_mask, metric:Violation\n",
      "/home/lyb/Transparency/data/bc/yelp/lstm/input*grad\n",
      "load exp scores from outputs/mc_1l_relu/yelp/lstm+tanh/Sun_Jan_23_00:05:10_2022/input*grad_bz256.pkl\n",
      "Violation mask size must be 1\n"
     ]
    },
    {
     "name": "stderr",
     "output_type": "stream",
     "text": [
      "100%|██████████| 118/118 [00:30<00:00,  3.86it/s]\n"
     ]
    },
    {
     "name": "stdout",
     "output_type": "stream",
     "text": [
      "save Violation_zeros_mask.pkl perturbation scores to /home/lyb/Transparency/data/bc/yelp/lstm/input*grad\n",
      "num. of violators: 266, ratio:0.88%\n",
      "replace_func:att_mask, metric:Violation\n",
      "/home/lyb/Transparency/data/bc/yelp/lstm/input*grad\n",
      "load exp scores from outputs/mc_1l_relu/yelp/lstm+tanh/Sun_Jan_23_00:05:10_2022/input*grad_bz256.pkl\n",
      "Violation mask size must be 1\n"
     ]
    },
    {
     "name": "stderr",
     "output_type": "stream",
     "text": [
      "100%|██████████| 118/118 [00:33<00:00,  3.55it/s]\n"
     ]
    },
    {
     "name": "stdout",
     "output_type": "stream",
     "text": [
      "save Violation_att_mask.pkl perturbation scores to /home/lyb/Transparency/data/bc/yelp/lstm/input*grad\n",
      "num. of violators: 1216, ratio:4.04%\n",
      "{'AUCTP': 0.0, 'Violation': 0.020725273216764133, 'Sufficiency': 0.0, 'Comprehensiveness': 0.0, 'RC': 0.0}\n",
      "{'AUCTP': [], 'Violation': [0.012900651432573795, 0.008844261057674885, 0.040430907160043716], 'Sufficiency': [], 'Comprehensiveness': [], 'RC': []}\n",
      "#################### dataset:yelp, model:lstm_tanh, exp_type:att_norm  ####################\n",
      "replace_func:slice_out, metric:Violation\n",
      "/home/lyb/Transparency/data/bc/yelp/lstm/att_norm\n",
      "Violation mask size must be 1\n"
     ]
    },
    {
     "name": "stderr",
     "output_type": "stream",
     "text": [
      "100%|██████████| 118/118 [00:31<00:00,  3.78it/s]\n"
     ]
    },
    {
     "name": "stdout",
     "output_type": "stream",
     "text": [
      "save Violation_slice_out.pkl perturbation scores to /home/lyb/Transparency/data/bc/yelp/lstm/att_norm\n",
      "num. of violators: 6049, ratio:20.11%\n",
      "replace_func:zeros_mask, metric:Violation\n",
      "/home/lyb/Transparency/data/bc/yelp/lstm/att_norm\n",
      "load exp scores from outputs/mc_1l_relu/yelp/lstm+tanh/Sun_Jan_23_00:05:10_2022/att_norm_bz256.pkl\n",
      "Violation mask size must be 1\n"
     ]
    },
    {
     "name": "stderr",
     "output_type": "stream",
     "text": [
      "100%|██████████| 118/118 [00:31<00:00,  3.78it/s]\n"
     ]
    },
    {
     "name": "stdout",
     "output_type": "stream",
     "text": [
      "save Violation_zeros_mask.pkl perturbation scores to /home/lyb/Transparency/data/bc/yelp/lstm/att_norm\n",
      "num. of violators: 5291, ratio:17.59%\n",
      "replace_func:att_mask, metric:Violation\n",
      "/home/lyb/Transparency/data/bc/yelp/lstm/att_norm\n",
      "load exp scores from outputs/mc_1l_relu/yelp/lstm+tanh/Sun_Jan_23_00:05:10_2022/att_norm_bz256.pkl\n",
      "Violation mask size must be 1\n"
     ]
    },
    {
     "name": "stderr",
     "output_type": "stream",
     "text": [
      "100%|██████████| 118/118 [00:32<00:00,  3.65it/s]"
     ]
    },
    {
     "name": "stdout",
     "output_type": "stream",
     "text": [
      "save Violation_att_mask.pkl perturbation scores to /home/lyb/Transparency/data/bc/yelp/lstm/att_norm\n",
      "num. of violators: 7436, ratio:24.72%\n",
      "{'AUCTP': 0.0, 'Violation': 0.20809504389762878, 'Sufficiency': 0.0, 'Comprehensiveness': 0.0, 'RC': 0.0}\n",
      "{'AUCTP': [], 'Violation': [0.20112381875514984, 0.1759209930896759, 0.2472403198480606], 'Sufficiency': [], 'Comprehensiveness': [], 'RC': []}\n"
     ]
    },
    {
     "name": "stderr",
     "output_type": "stream",
     "text": [
      "\n"
     ]
    }
   ],
   "source": [
    "############################ Generate Results for Table Begin ################################## \n",
    "\n",
    "all_dataset_names = [ 'sst', 'yelp', '20News_sports', 'AgNews']\n",
    "all_encoder_names = ['cnn', 'lstm']\n",
    "all_attention_names = ['dot', 'tanh']\n",
    "all_exp_names = [\"rand\", \"ig\", \"att\", \"att*grad\", \"att_norm\", \\\n",
    "    \"att*grad_abs\", \"att*grad_only_grad\", \"att*grad_sign\", \"grad_cam\", \"input*grad\", ]\n",
    "all_exp_metric_names = [\"AUCTP\", \"Violation\", \"Sufficiency\", \"Comprehensiveness\", \"RC\"]\n",
    "all_replace_names = [\"slice_out\", \"zeros_mask\", \"att_mask\"]\n",
    "\n",
    "\n",
    "\n",
    "dataset_names = ['yelp']\n",
    "encoder_names = ['lstm']\n",
    "attention_names = ['tanh']\n",
    "exp_names = [\"rand\", \"att\"]\n",
    "# exp_names = [\"ig\", \"rand\", \"att\", \"att*grad\", \"input*grad\", \"att_norm\"]\n",
    "\n",
    "exp_metric_names = [\"Violation\"]\n",
    "replace_names = [\"slice_out\", \"zeros_mask\", \"att_mask\"]\n",
    "\n",
    "args.batch_size = 256\n",
    "\n",
    "\n",
    "total_scores_dict = {dataset_name:{} for dataset_name in dataset_names}\n",
    "for dataset_name in dataset_names: # Dataset Name\n",
    "    if dataset_name not in total_scores_dict:\n",
    "        total_scores_dict[dataset_name] = {}\n",
    "    dataset_dict = total_scores_dict[dataset_name]\n",
    "\n",
    "    # load dataset\n",
    "    args.dataset = dataset_name\n",
    "    dataset = datasets[args.dataset](args)\n",
    "    if args.output_dir is not None :\n",
    "        dataset.output_dir = args.output_dir\n",
    "    dataset.display_stats()\n",
    "\n",
    "    # mask size setup\n",
    "    dataset_len = len(dataset.test_data.y)\n",
    "    minlen = len(dataset.test_data.X[0]) # X is sorted\n",
    "    mask_size = 1\n",
    "    group_size = 20\n",
    "    if minlen > group_size:\n",
    "        # in case of very long sequence, we use mask_size to reduce iteration times\n",
    "        mask_size += (minlen//group_size)\n",
    "\n",
    "    for encoder_name in encoder_names: # Model Type\n",
    "        args.encoder = encoder_name\n",
    "        for attention_type in attention_names: # tanh  # Attention Type\n",
    "            args.attention = attention_type\n",
    "            if args.attention in ['dot'] :\n",
    "                e = args.encoder + '_dot'\n",
    "            else:\n",
    "                e = args.encoder\n",
    "\n",
    "            config = e\n",
    "            if e not in dataset_dict:\n",
    "                dataset_dict[e] = {}\n",
    "            \n",
    "            config = configurations[config](dataset)\n",
    "            latest_model_path = get_latest_model(os.path.join(config['training']['basepath'], config['training']['exp_dirname']))\n",
    "            evaluator = Evaluator(dataset, latest_model_path, _type=dataset.trainer_type)\n",
    "            evaluator.model.bsize = args.batch_size\n",
    "            predictions, attentions, metrics = evaluator.evaluate(dataset.test_data, save_results=False, return_metrics=True)\n",
    "\n",
    "            for exp_type in exp_names: # Explanation Type\n",
    "                load_cached_exp = False\n",
    "                print(\"#\"*20, \"dataset:{}, model:{}, exp_type:{} \".format(dataset_name, encoder_name+\"_\"+attention_type, exp_type), \"#\"*20)\n",
    "                if exp_type not in dataset_dict[e]:\n",
    "                    scores = {n:[] for n in all_exp_metric_names}\n",
    "                else:\n",
    "                    scores = dataset_dict[e][exp_type]\n",
    "                    for exp_metric in exp_metric_names:\n",
    "                        scores[exp_metric] = []\n",
    "                for i, exp_metric in enumerate(exp_metric_names):\n",
    "                    for delta_type in replace_names: # Replacement methods\n",
    "                        print(\"replace_func:{}, metric:{}\".format(delta_type, exp_metric))\n",
    "                        torch.cuda.empty_cache()\n",
    "                        outputs = evaluator.replace_and_run_experiment(dataset_name, e, dataset.test_data, exp=exp_type, \\\n",
    "                            delta_type=delta_type, exp_metric=exp_metric, mask_size=mask_size, plot=True, \\\n",
    "                            load_exp_scores=load_cached_exp, load_perturbation_scores=False)\n",
    "\n",
    "                        for calculated_metric in outputs[-1]:\n",
    "                            scores[calculated_metric].append(outputs[-1][calculated_metric])\n",
    "                        \n",
    "                        load_cached_exp = True\n",
    "\n",
    "                dataset_dict[e][exp_type] = scores\n",
    "                mean_scores = {n: sum(scores[n])/3 for n in scores}\n",
    "                print(mean_scores)\n",
    "                print(scores)\n"
   ]
  },
  {
   "cell_type": "code",
   "execution_count": 31,
   "metadata": {},
   "outputs": [],
   "source": [
    "import pickle\n",
    "import os\n",
    "\n",
    "data_dir = \"./data\"\n",
    "with open(os.path.join(data_dir, \"BC_results.pkl\"), 'wb') as f:\n",
    "    pickle.dump(total_scores_dict, f)"
   ]
  }
 ],
 "metadata": {
  "interpreter": {
   "hash": "df9fbcb36b66b3abb022e6e6ee23e59f5f48539a033744504a8ba84fc8f1878c"
  },
  "kernelspec": {
   "display_name": "Python 3.8.11 64-bit ('python3': conda)",
   "language": "python",
   "name": "python3"
  },
  "language_info": {
   "codemirror_mode": {
    "name": "ipython",
    "version": 3
   },
   "file_extension": ".py",
   "mimetype": "text/x-python",
   "name": "python",
   "nbconvert_exporter": "python",
   "pygments_lexer": "ipython3",
   "version": "3.8.11"
  },
  "orig_nbformat": 4
 },
 "nbformat": 4,
 "nbformat_minor": 2
}
